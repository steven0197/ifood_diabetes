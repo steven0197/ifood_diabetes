{
 "cells": [
  {
   "cell_type": "markdown",
   "id": "34c1bdc4-63f7-423f-920d-71b9c1150235",
   "metadata": {},
   "source": [
    "# Ejercicio Ifood dataset Diabetes 130 - US hospitals for years 1999-2008"
   ]
  },
  {
   "cell_type": "markdown",
   "id": "42c0ba07-e89b-4ffe-8efc-28ea8a1043fb",
   "metadata": {},
   "source": [
    "## Presentado por: Steven Salgado González. CC 1017244922\n",
    "\n",
    "A continuación presento mi interpretación al ejercicio propuesto como prueba para Ifood, entre las notas iniciales para tener en cuenta se tiene:\n",
    "* Se decide resolver un problema de clasificación, donde se hará una predicción sobre la readmisión de pacientes.\n",
    "* Se inicia con un análisis exploratorio de la data, encontrando que variables resultan importantes, cuales requieren ser transformadas, y cuales no aportan a la interpretación de la variable objetivo, por lo que son descartadas.\n",
    "* Se realizan distintas interpretaciones del ejercicio cambiando el objetivo, con el fin de obtener modelos que respondan distintas preguntas.\n",
    "\n",
    "Espero que este ejercicio sea del agrado de aquella persona encargada de revisarlo y demuestre mis capacidades para el cargo al que me postulo, gracias por la oportunidad!\n",
    "\n"
   ]
  },
  {
   "cell_type": "markdown",
   "id": "9d5e9c99-f2f0-4e35-a2fc-30e9d5fb9e14",
   "metadata": {},
   "source": [
    "### Se importan las variables que se utilizarán a lo largo del ejercicio\n",
    "\n",
    "* Estas variabes son importadas en esta primera celda a medida que se van necesitando durante la realización del ejercicio, como estandar para conocer que librerias me encuentro utilizando"
   ]
  },
  {
   "cell_type": "code",
   "execution_count": 121,
   "id": "a11faed1-f619-4299-9d03-2266418f5d52",
   "metadata": {},
   "outputs": [],
   "source": [
    "import pandas as pd\n",
    "import numpy as np\n",
    "import matplotlib.pyplot as plt\n",
    "from sklearn.preprocessing import LabelEncoder\n",
    "from sklearn.ensemble import RandomForestClassifier, AdaBoostClassifier, GradientBoostingClassifier\n",
    "from sklearn.model_selection import train_test_split\n",
    "from imblearn.over_sampling import SMOTE\n",
    "import seaborn as sns\n",
    "from IPython.display import Image\n",
    "from sklearn.metrics import recall_score, precision_score, accuracy_score\n",
    "from sklearn.metrics import confusion_matrix, ConfusionMatrixDisplay\n",
    "from sklearn.model_selection import cross_val_score\n",
    "from sklearn.tree import DecisionTreeClassifier\n",
    "from sklearn.neighbors import KNeighborsClassifier\n",
    "from sklearn.model_selection import GridSearchCV\n",
    "from sklearn.metrics import roc_auc_score, roc_curve\n",
    "%matplotlib inline\n"
   ]
  },
  {
   "cell_type": "markdown",
   "id": "c750fa2a-dcf0-4b15-82b1-ddc6dbf92367",
   "metadata": {},
   "source": [
    "### Se importa el dataset y se da un vistazo inicial a la data"
   ]
  },
  {
   "cell_type": "code",
   "execution_count": 122,
   "id": "bf6d3a63-01d1-4ea2-9add-a3b95f6f36dc",
   "metadata": {},
   "outputs": [],
   "source": [
    "FILENAME = \"dataset_diabetes/diabetic_data.csv\"\n",
    "diabetes = pd.read_csv(FILENAME)\n",
    "pd.options.display.max_columns = 100"
   ]
  },
  {
   "cell_type": "code",
   "execution_count": 123,
   "id": "0a07718f-ad86-4c58-a986-4f2d2ca257f5",
   "metadata": {},
   "outputs": [
    {
     "data": {
      "text/html": [
       "<div>\n",
       "<style scoped>\n",
       "    .dataframe tbody tr th:only-of-type {\n",
       "        vertical-align: middle;\n",
       "    }\n",
       "\n",
       "    .dataframe tbody tr th {\n",
       "        vertical-align: top;\n",
       "    }\n",
       "\n",
       "    .dataframe thead th {\n",
       "        text-align: right;\n",
       "    }\n",
       "</style>\n",
       "<table border=\"1\" class=\"dataframe\">\n",
       "  <thead>\n",
       "    <tr style=\"text-align: right;\">\n",
       "      <th></th>\n",
       "      <th>encounter_id</th>\n",
       "      <th>patient_nbr</th>\n",
       "      <th>race</th>\n",
       "      <th>gender</th>\n",
       "      <th>age</th>\n",
       "      <th>weight</th>\n",
       "      <th>admission_type_id</th>\n",
       "      <th>discharge_disposition_id</th>\n",
       "      <th>admission_source_id</th>\n",
       "      <th>time_in_hospital</th>\n",
       "      <th>payer_code</th>\n",
       "      <th>medical_specialty</th>\n",
       "      <th>num_lab_procedures</th>\n",
       "      <th>num_procedures</th>\n",
       "      <th>num_medications</th>\n",
       "      <th>number_outpatient</th>\n",
       "      <th>number_emergency</th>\n",
       "      <th>number_inpatient</th>\n",
       "      <th>diag_1</th>\n",
       "      <th>diag_2</th>\n",
       "      <th>diag_3</th>\n",
       "      <th>number_diagnoses</th>\n",
       "      <th>max_glu_serum</th>\n",
       "      <th>A1Cresult</th>\n",
       "      <th>metformin</th>\n",
       "      <th>repaglinide</th>\n",
       "      <th>nateglinide</th>\n",
       "      <th>chlorpropamide</th>\n",
       "      <th>glimepiride</th>\n",
       "      <th>acetohexamide</th>\n",
       "      <th>glipizide</th>\n",
       "      <th>glyburide</th>\n",
       "      <th>tolbutamide</th>\n",
       "      <th>pioglitazone</th>\n",
       "      <th>rosiglitazone</th>\n",
       "      <th>acarbose</th>\n",
       "      <th>miglitol</th>\n",
       "      <th>troglitazone</th>\n",
       "      <th>tolazamide</th>\n",
       "      <th>examide</th>\n",
       "      <th>citoglipton</th>\n",
       "      <th>insulin</th>\n",
       "      <th>glyburide-metformin</th>\n",
       "      <th>glipizide-metformin</th>\n",
       "      <th>glimepiride-pioglitazone</th>\n",
       "      <th>metformin-rosiglitazone</th>\n",
       "      <th>metformin-pioglitazone</th>\n",
       "      <th>change</th>\n",
       "      <th>diabetesMed</th>\n",
       "      <th>readmitted</th>\n",
       "    </tr>\n",
       "  </thead>\n",
       "  <tbody>\n",
       "    <tr>\n",
       "      <th>0</th>\n",
       "      <td>2278392</td>\n",
       "      <td>8222157</td>\n",
       "      <td>Caucasian</td>\n",
       "      <td>Female</td>\n",
       "      <td>[0-10)</td>\n",
       "      <td>?</td>\n",
       "      <td>6</td>\n",
       "      <td>25</td>\n",
       "      <td>1</td>\n",
       "      <td>1</td>\n",
       "      <td>?</td>\n",
       "      <td>Pediatrics-Endocrinology</td>\n",
       "      <td>41</td>\n",
       "      <td>0</td>\n",
       "      <td>1</td>\n",
       "      <td>0</td>\n",
       "      <td>0</td>\n",
       "      <td>0</td>\n",
       "      <td>250.83</td>\n",
       "      <td>?</td>\n",
       "      <td>?</td>\n",
       "      <td>1</td>\n",
       "      <td>None</td>\n",
       "      <td>None</td>\n",
       "      <td>No</td>\n",
       "      <td>No</td>\n",
       "      <td>No</td>\n",
       "      <td>No</td>\n",
       "      <td>No</td>\n",
       "      <td>No</td>\n",
       "      <td>No</td>\n",
       "      <td>No</td>\n",
       "      <td>No</td>\n",
       "      <td>No</td>\n",
       "      <td>No</td>\n",
       "      <td>No</td>\n",
       "      <td>No</td>\n",
       "      <td>No</td>\n",
       "      <td>No</td>\n",
       "      <td>No</td>\n",
       "      <td>No</td>\n",
       "      <td>No</td>\n",
       "      <td>No</td>\n",
       "      <td>No</td>\n",
       "      <td>No</td>\n",
       "      <td>No</td>\n",
       "      <td>No</td>\n",
       "      <td>No</td>\n",
       "      <td>No</td>\n",
       "      <td>NO</td>\n",
       "    </tr>\n",
       "    <tr>\n",
       "      <th>1</th>\n",
       "      <td>149190</td>\n",
       "      <td>55629189</td>\n",
       "      <td>Caucasian</td>\n",
       "      <td>Female</td>\n",
       "      <td>[10-20)</td>\n",
       "      <td>?</td>\n",
       "      <td>1</td>\n",
       "      <td>1</td>\n",
       "      <td>7</td>\n",
       "      <td>3</td>\n",
       "      <td>?</td>\n",
       "      <td>?</td>\n",
       "      <td>59</td>\n",
       "      <td>0</td>\n",
       "      <td>18</td>\n",
       "      <td>0</td>\n",
       "      <td>0</td>\n",
       "      <td>0</td>\n",
       "      <td>276</td>\n",
       "      <td>250.01</td>\n",
       "      <td>255</td>\n",
       "      <td>9</td>\n",
       "      <td>None</td>\n",
       "      <td>None</td>\n",
       "      <td>No</td>\n",
       "      <td>No</td>\n",
       "      <td>No</td>\n",
       "      <td>No</td>\n",
       "      <td>No</td>\n",
       "      <td>No</td>\n",
       "      <td>No</td>\n",
       "      <td>No</td>\n",
       "      <td>No</td>\n",
       "      <td>No</td>\n",
       "      <td>No</td>\n",
       "      <td>No</td>\n",
       "      <td>No</td>\n",
       "      <td>No</td>\n",
       "      <td>No</td>\n",
       "      <td>No</td>\n",
       "      <td>No</td>\n",
       "      <td>Up</td>\n",
       "      <td>No</td>\n",
       "      <td>No</td>\n",
       "      <td>No</td>\n",
       "      <td>No</td>\n",
       "      <td>No</td>\n",
       "      <td>Ch</td>\n",
       "      <td>Yes</td>\n",
       "      <td>&gt;30</td>\n",
       "    </tr>\n",
       "    <tr>\n",
       "      <th>2</th>\n",
       "      <td>64410</td>\n",
       "      <td>86047875</td>\n",
       "      <td>AfricanAmerican</td>\n",
       "      <td>Female</td>\n",
       "      <td>[20-30)</td>\n",
       "      <td>?</td>\n",
       "      <td>1</td>\n",
       "      <td>1</td>\n",
       "      <td>7</td>\n",
       "      <td>2</td>\n",
       "      <td>?</td>\n",
       "      <td>?</td>\n",
       "      <td>11</td>\n",
       "      <td>5</td>\n",
       "      <td>13</td>\n",
       "      <td>2</td>\n",
       "      <td>0</td>\n",
       "      <td>1</td>\n",
       "      <td>648</td>\n",
       "      <td>250</td>\n",
       "      <td>V27</td>\n",
       "      <td>6</td>\n",
       "      <td>None</td>\n",
       "      <td>None</td>\n",
       "      <td>No</td>\n",
       "      <td>No</td>\n",
       "      <td>No</td>\n",
       "      <td>No</td>\n",
       "      <td>No</td>\n",
       "      <td>No</td>\n",
       "      <td>Steady</td>\n",
       "      <td>No</td>\n",
       "      <td>No</td>\n",
       "      <td>No</td>\n",
       "      <td>No</td>\n",
       "      <td>No</td>\n",
       "      <td>No</td>\n",
       "      <td>No</td>\n",
       "      <td>No</td>\n",
       "      <td>No</td>\n",
       "      <td>No</td>\n",
       "      <td>No</td>\n",
       "      <td>No</td>\n",
       "      <td>No</td>\n",
       "      <td>No</td>\n",
       "      <td>No</td>\n",
       "      <td>No</td>\n",
       "      <td>No</td>\n",
       "      <td>Yes</td>\n",
       "      <td>NO</td>\n",
       "    </tr>\n",
       "    <tr>\n",
       "      <th>3</th>\n",
       "      <td>500364</td>\n",
       "      <td>82442376</td>\n",
       "      <td>Caucasian</td>\n",
       "      <td>Male</td>\n",
       "      <td>[30-40)</td>\n",
       "      <td>?</td>\n",
       "      <td>1</td>\n",
       "      <td>1</td>\n",
       "      <td>7</td>\n",
       "      <td>2</td>\n",
       "      <td>?</td>\n",
       "      <td>?</td>\n",
       "      <td>44</td>\n",
       "      <td>1</td>\n",
       "      <td>16</td>\n",
       "      <td>0</td>\n",
       "      <td>0</td>\n",
       "      <td>0</td>\n",
       "      <td>8</td>\n",
       "      <td>250.43</td>\n",
       "      <td>403</td>\n",
       "      <td>7</td>\n",
       "      <td>None</td>\n",
       "      <td>None</td>\n",
       "      <td>No</td>\n",
       "      <td>No</td>\n",
       "      <td>No</td>\n",
       "      <td>No</td>\n",
       "      <td>No</td>\n",
       "      <td>No</td>\n",
       "      <td>No</td>\n",
       "      <td>No</td>\n",
       "      <td>No</td>\n",
       "      <td>No</td>\n",
       "      <td>No</td>\n",
       "      <td>No</td>\n",
       "      <td>No</td>\n",
       "      <td>No</td>\n",
       "      <td>No</td>\n",
       "      <td>No</td>\n",
       "      <td>No</td>\n",
       "      <td>Up</td>\n",
       "      <td>No</td>\n",
       "      <td>No</td>\n",
       "      <td>No</td>\n",
       "      <td>No</td>\n",
       "      <td>No</td>\n",
       "      <td>Ch</td>\n",
       "      <td>Yes</td>\n",
       "      <td>NO</td>\n",
       "    </tr>\n",
       "    <tr>\n",
       "      <th>4</th>\n",
       "      <td>16680</td>\n",
       "      <td>42519267</td>\n",
       "      <td>Caucasian</td>\n",
       "      <td>Male</td>\n",
       "      <td>[40-50)</td>\n",
       "      <td>?</td>\n",
       "      <td>1</td>\n",
       "      <td>1</td>\n",
       "      <td>7</td>\n",
       "      <td>1</td>\n",
       "      <td>?</td>\n",
       "      <td>?</td>\n",
       "      <td>51</td>\n",
       "      <td>0</td>\n",
       "      <td>8</td>\n",
       "      <td>0</td>\n",
       "      <td>0</td>\n",
       "      <td>0</td>\n",
       "      <td>197</td>\n",
       "      <td>157</td>\n",
       "      <td>250</td>\n",
       "      <td>5</td>\n",
       "      <td>None</td>\n",
       "      <td>None</td>\n",
       "      <td>No</td>\n",
       "      <td>No</td>\n",
       "      <td>No</td>\n",
       "      <td>No</td>\n",
       "      <td>No</td>\n",
       "      <td>No</td>\n",
       "      <td>Steady</td>\n",
       "      <td>No</td>\n",
       "      <td>No</td>\n",
       "      <td>No</td>\n",
       "      <td>No</td>\n",
       "      <td>No</td>\n",
       "      <td>No</td>\n",
       "      <td>No</td>\n",
       "      <td>No</td>\n",
       "      <td>No</td>\n",
       "      <td>No</td>\n",
       "      <td>Steady</td>\n",
       "      <td>No</td>\n",
       "      <td>No</td>\n",
       "      <td>No</td>\n",
       "      <td>No</td>\n",
       "      <td>No</td>\n",
       "      <td>Ch</td>\n",
       "      <td>Yes</td>\n",
       "      <td>NO</td>\n",
       "    </tr>\n",
       "  </tbody>\n",
       "</table>\n",
       "</div>"
      ],
      "text/plain": [
       "   encounter_id  patient_nbr             race  gender      age weight  \\\n",
       "0       2278392      8222157        Caucasian  Female   [0-10)      ?   \n",
       "1        149190     55629189        Caucasian  Female  [10-20)      ?   \n",
       "2         64410     86047875  AfricanAmerican  Female  [20-30)      ?   \n",
       "3        500364     82442376        Caucasian    Male  [30-40)      ?   \n",
       "4         16680     42519267        Caucasian    Male  [40-50)      ?   \n",
       "\n",
       "   admission_type_id  discharge_disposition_id  admission_source_id  \\\n",
       "0                  6                        25                    1   \n",
       "1                  1                         1                    7   \n",
       "2                  1                         1                    7   \n",
       "3                  1                         1                    7   \n",
       "4                  1                         1                    7   \n",
       "\n",
       "   time_in_hospital payer_code         medical_specialty  num_lab_procedures  \\\n",
       "0                 1          ?  Pediatrics-Endocrinology                  41   \n",
       "1                 3          ?                         ?                  59   \n",
       "2                 2          ?                         ?                  11   \n",
       "3                 2          ?                         ?                  44   \n",
       "4                 1          ?                         ?                  51   \n",
       "\n",
       "   num_procedures  num_medications  number_outpatient  number_emergency  \\\n",
       "0               0                1                  0                 0   \n",
       "1               0               18                  0                 0   \n",
       "2               5               13                  2                 0   \n",
       "3               1               16                  0                 0   \n",
       "4               0                8                  0                 0   \n",
       "\n",
       "   number_inpatient  diag_1  diag_2 diag_3  number_diagnoses max_glu_serum  \\\n",
       "0                 0  250.83       ?      ?                 1          None   \n",
       "1                 0     276  250.01    255                 9          None   \n",
       "2                 1     648     250    V27                 6          None   \n",
       "3                 0       8  250.43    403                 7          None   \n",
       "4                 0     197     157    250                 5          None   \n",
       "\n",
       "  A1Cresult metformin repaglinide nateglinide chlorpropamide glimepiride  \\\n",
       "0      None        No          No          No             No          No   \n",
       "1      None        No          No          No             No          No   \n",
       "2      None        No          No          No             No          No   \n",
       "3      None        No          No          No             No          No   \n",
       "4      None        No          No          No             No          No   \n",
       "\n",
       "  acetohexamide glipizide glyburide tolbutamide pioglitazone rosiglitazone  \\\n",
       "0            No        No        No          No           No            No   \n",
       "1            No        No        No          No           No            No   \n",
       "2            No    Steady        No          No           No            No   \n",
       "3            No        No        No          No           No            No   \n",
       "4            No    Steady        No          No           No            No   \n",
       "\n",
       "  acarbose miglitol troglitazone tolazamide examide citoglipton insulin  \\\n",
       "0       No       No           No         No      No          No      No   \n",
       "1       No       No           No         No      No          No      Up   \n",
       "2       No       No           No         No      No          No      No   \n",
       "3       No       No           No         No      No          No      Up   \n",
       "4       No       No           No         No      No          No  Steady   \n",
       "\n",
       "  glyburide-metformin glipizide-metformin glimepiride-pioglitazone  \\\n",
       "0                  No                  No                       No   \n",
       "1                  No                  No                       No   \n",
       "2                  No                  No                       No   \n",
       "3                  No                  No                       No   \n",
       "4                  No                  No                       No   \n",
       "\n",
       "  metformin-rosiglitazone metformin-pioglitazone change diabetesMed readmitted  \n",
       "0                      No                     No     No          No         NO  \n",
       "1                      No                     No     Ch         Yes        >30  \n",
       "2                      No                     No     No         Yes         NO  \n",
       "3                      No                     No     Ch         Yes         NO  \n",
       "4                      No                     No     Ch         Yes         NO  "
      ]
     },
     "execution_count": 123,
     "metadata": {},
     "output_type": "execute_result"
    }
   ],
   "source": [
    "diabetes.head()"
   ]
  },
  {
   "cell_type": "code",
   "execution_count": 124,
   "id": "7588579b-d61f-414c-96b4-2c2d54a7e033",
   "metadata": {},
   "outputs": [
    {
     "data": {
      "text/plain": [
       "(101766, 50)"
      ]
     },
     "execution_count": 124,
     "metadata": {},
     "output_type": "execute_result"
    }
   ],
   "source": [
    "diabetes.shape"
   ]
  },
  {
   "cell_type": "code",
   "execution_count": 125,
   "id": "3ead489b-830b-44a1-b4db-f2e35c6a940a",
   "metadata": {},
   "outputs": [
    {
     "name": "stdout",
     "output_type": "stream",
     "text": [
      "La cantidad de columnas numéricas es: 13\n",
      "La cantidad de columnas cualitativas es: 37\n"
     ]
    }
   ],
   "source": [
    "print(\"La cantidad de columnas numéricas es:\", diabetes.select_dtypes(include='number').shape[1])\n",
    "print(\"La cantidad de columnas cualitativas es:\", diabetes.select_dtypes(include='object').shape[1])"
   ]
  },
  {
   "cell_type": "markdown",
   "id": "adf49f6f-f88c-467a-a34b-57bd8fb6b3b2",
   "metadata": {},
   "source": [
    "* De las celdas anteriores se puede observar que contamos con un dataset de 101766 filas y 50 columnas, de las cuales 13 son numéricas y 37 son cualitativas"
   ]
  },
  {
   "cell_type": "markdown",
   "id": "ee08b0da-b612-41a3-aec2-c2c6acfda9ce",
   "metadata": {},
   "source": [
    "### Reemplazo de datos nulos\n",
    "* Observando el head que se hizo en la sección anterior, se encuentra que los valores desconocidos estan representados con el simbolo \"?\", por lo que se realizará un reemplazo a NaN de numpy para estandarizar esta información"
   ]
  },
  {
   "cell_type": "code",
   "execution_count": 126,
   "id": "6a3cde80-182b-47cd-a46c-39c2229b8908",
   "metadata": {},
   "outputs": [],
   "source": [
    "diabetes = diabetes.replace(\"?\", np.nan)"
   ]
  },
  {
   "cell_type": "code",
   "execution_count": 127,
   "id": "9f805284-0555-4d37-87e3-2cb4b88d82d2",
   "metadata": {},
   "outputs": [
    {
     "data": {
      "text/html": [
       "<div>\n",
       "<style scoped>\n",
       "    .dataframe tbody tr th:only-of-type {\n",
       "        vertical-align: middle;\n",
       "    }\n",
       "\n",
       "    .dataframe tbody tr th {\n",
       "        vertical-align: top;\n",
       "    }\n",
       "\n",
       "    .dataframe thead th {\n",
       "        text-align: right;\n",
       "    }\n",
       "</style>\n",
       "<table border=\"1\" class=\"dataframe\">\n",
       "  <thead>\n",
       "    <tr style=\"text-align: right;\">\n",
       "      <th></th>\n",
       "      <th>encounter_id</th>\n",
       "      <th>patient_nbr</th>\n",
       "      <th>race</th>\n",
       "      <th>gender</th>\n",
       "      <th>age</th>\n",
       "      <th>weight</th>\n",
       "      <th>admission_type_id</th>\n",
       "      <th>discharge_disposition_id</th>\n",
       "      <th>admission_source_id</th>\n",
       "      <th>time_in_hospital</th>\n",
       "      <th>payer_code</th>\n",
       "      <th>medical_specialty</th>\n",
       "      <th>num_lab_procedures</th>\n",
       "      <th>num_procedures</th>\n",
       "      <th>num_medications</th>\n",
       "      <th>number_outpatient</th>\n",
       "      <th>number_emergency</th>\n",
       "      <th>number_inpatient</th>\n",
       "      <th>diag_1</th>\n",
       "      <th>diag_2</th>\n",
       "      <th>diag_3</th>\n",
       "      <th>number_diagnoses</th>\n",
       "      <th>max_glu_serum</th>\n",
       "      <th>A1Cresult</th>\n",
       "      <th>metformin</th>\n",
       "      <th>repaglinide</th>\n",
       "      <th>nateglinide</th>\n",
       "      <th>chlorpropamide</th>\n",
       "      <th>glimepiride</th>\n",
       "      <th>acetohexamide</th>\n",
       "      <th>glipizide</th>\n",
       "      <th>glyburide</th>\n",
       "      <th>tolbutamide</th>\n",
       "      <th>pioglitazone</th>\n",
       "      <th>rosiglitazone</th>\n",
       "      <th>acarbose</th>\n",
       "      <th>miglitol</th>\n",
       "      <th>troglitazone</th>\n",
       "      <th>tolazamide</th>\n",
       "      <th>examide</th>\n",
       "      <th>citoglipton</th>\n",
       "      <th>insulin</th>\n",
       "      <th>glyburide-metformin</th>\n",
       "      <th>glipizide-metformin</th>\n",
       "      <th>glimepiride-pioglitazone</th>\n",
       "      <th>metformin-rosiglitazone</th>\n",
       "      <th>metformin-pioglitazone</th>\n",
       "      <th>change</th>\n",
       "      <th>diabetesMed</th>\n",
       "      <th>readmitted</th>\n",
       "    </tr>\n",
       "  </thead>\n",
       "  <tbody>\n",
       "    <tr>\n",
       "      <th>0</th>\n",
       "      <td>2278392</td>\n",
       "      <td>8222157</td>\n",
       "      <td>Caucasian</td>\n",
       "      <td>Female</td>\n",
       "      <td>[0-10)</td>\n",
       "      <td>NaN</td>\n",
       "      <td>6</td>\n",
       "      <td>25</td>\n",
       "      <td>1</td>\n",
       "      <td>1</td>\n",
       "      <td>NaN</td>\n",
       "      <td>Pediatrics-Endocrinology</td>\n",
       "      <td>41</td>\n",
       "      <td>0</td>\n",
       "      <td>1</td>\n",
       "      <td>0</td>\n",
       "      <td>0</td>\n",
       "      <td>0</td>\n",
       "      <td>250.83</td>\n",
       "      <td>NaN</td>\n",
       "      <td>NaN</td>\n",
       "      <td>1</td>\n",
       "      <td>None</td>\n",
       "      <td>None</td>\n",
       "      <td>No</td>\n",
       "      <td>No</td>\n",
       "      <td>No</td>\n",
       "      <td>No</td>\n",
       "      <td>No</td>\n",
       "      <td>No</td>\n",
       "      <td>No</td>\n",
       "      <td>No</td>\n",
       "      <td>No</td>\n",
       "      <td>No</td>\n",
       "      <td>No</td>\n",
       "      <td>No</td>\n",
       "      <td>No</td>\n",
       "      <td>No</td>\n",
       "      <td>No</td>\n",
       "      <td>No</td>\n",
       "      <td>No</td>\n",
       "      <td>No</td>\n",
       "      <td>No</td>\n",
       "      <td>No</td>\n",
       "      <td>No</td>\n",
       "      <td>No</td>\n",
       "      <td>No</td>\n",
       "      <td>No</td>\n",
       "      <td>No</td>\n",
       "      <td>NO</td>\n",
       "    </tr>\n",
       "    <tr>\n",
       "      <th>1</th>\n",
       "      <td>149190</td>\n",
       "      <td>55629189</td>\n",
       "      <td>Caucasian</td>\n",
       "      <td>Female</td>\n",
       "      <td>[10-20)</td>\n",
       "      <td>NaN</td>\n",
       "      <td>1</td>\n",
       "      <td>1</td>\n",
       "      <td>7</td>\n",
       "      <td>3</td>\n",
       "      <td>NaN</td>\n",
       "      <td>NaN</td>\n",
       "      <td>59</td>\n",
       "      <td>0</td>\n",
       "      <td>18</td>\n",
       "      <td>0</td>\n",
       "      <td>0</td>\n",
       "      <td>0</td>\n",
       "      <td>276</td>\n",
       "      <td>250.01</td>\n",
       "      <td>255</td>\n",
       "      <td>9</td>\n",
       "      <td>None</td>\n",
       "      <td>None</td>\n",
       "      <td>No</td>\n",
       "      <td>No</td>\n",
       "      <td>No</td>\n",
       "      <td>No</td>\n",
       "      <td>No</td>\n",
       "      <td>No</td>\n",
       "      <td>No</td>\n",
       "      <td>No</td>\n",
       "      <td>No</td>\n",
       "      <td>No</td>\n",
       "      <td>No</td>\n",
       "      <td>No</td>\n",
       "      <td>No</td>\n",
       "      <td>No</td>\n",
       "      <td>No</td>\n",
       "      <td>No</td>\n",
       "      <td>No</td>\n",
       "      <td>Up</td>\n",
       "      <td>No</td>\n",
       "      <td>No</td>\n",
       "      <td>No</td>\n",
       "      <td>No</td>\n",
       "      <td>No</td>\n",
       "      <td>Ch</td>\n",
       "      <td>Yes</td>\n",
       "      <td>&gt;30</td>\n",
       "    </tr>\n",
       "    <tr>\n",
       "      <th>2</th>\n",
       "      <td>64410</td>\n",
       "      <td>86047875</td>\n",
       "      <td>AfricanAmerican</td>\n",
       "      <td>Female</td>\n",
       "      <td>[20-30)</td>\n",
       "      <td>NaN</td>\n",
       "      <td>1</td>\n",
       "      <td>1</td>\n",
       "      <td>7</td>\n",
       "      <td>2</td>\n",
       "      <td>NaN</td>\n",
       "      <td>NaN</td>\n",
       "      <td>11</td>\n",
       "      <td>5</td>\n",
       "      <td>13</td>\n",
       "      <td>2</td>\n",
       "      <td>0</td>\n",
       "      <td>1</td>\n",
       "      <td>648</td>\n",
       "      <td>250</td>\n",
       "      <td>V27</td>\n",
       "      <td>6</td>\n",
       "      <td>None</td>\n",
       "      <td>None</td>\n",
       "      <td>No</td>\n",
       "      <td>No</td>\n",
       "      <td>No</td>\n",
       "      <td>No</td>\n",
       "      <td>No</td>\n",
       "      <td>No</td>\n",
       "      <td>Steady</td>\n",
       "      <td>No</td>\n",
       "      <td>No</td>\n",
       "      <td>No</td>\n",
       "      <td>No</td>\n",
       "      <td>No</td>\n",
       "      <td>No</td>\n",
       "      <td>No</td>\n",
       "      <td>No</td>\n",
       "      <td>No</td>\n",
       "      <td>No</td>\n",
       "      <td>No</td>\n",
       "      <td>No</td>\n",
       "      <td>No</td>\n",
       "      <td>No</td>\n",
       "      <td>No</td>\n",
       "      <td>No</td>\n",
       "      <td>No</td>\n",
       "      <td>Yes</td>\n",
       "      <td>NO</td>\n",
       "    </tr>\n",
       "    <tr>\n",
       "      <th>3</th>\n",
       "      <td>500364</td>\n",
       "      <td>82442376</td>\n",
       "      <td>Caucasian</td>\n",
       "      <td>Male</td>\n",
       "      <td>[30-40)</td>\n",
       "      <td>NaN</td>\n",
       "      <td>1</td>\n",
       "      <td>1</td>\n",
       "      <td>7</td>\n",
       "      <td>2</td>\n",
       "      <td>NaN</td>\n",
       "      <td>NaN</td>\n",
       "      <td>44</td>\n",
       "      <td>1</td>\n",
       "      <td>16</td>\n",
       "      <td>0</td>\n",
       "      <td>0</td>\n",
       "      <td>0</td>\n",
       "      <td>8</td>\n",
       "      <td>250.43</td>\n",
       "      <td>403</td>\n",
       "      <td>7</td>\n",
       "      <td>None</td>\n",
       "      <td>None</td>\n",
       "      <td>No</td>\n",
       "      <td>No</td>\n",
       "      <td>No</td>\n",
       "      <td>No</td>\n",
       "      <td>No</td>\n",
       "      <td>No</td>\n",
       "      <td>No</td>\n",
       "      <td>No</td>\n",
       "      <td>No</td>\n",
       "      <td>No</td>\n",
       "      <td>No</td>\n",
       "      <td>No</td>\n",
       "      <td>No</td>\n",
       "      <td>No</td>\n",
       "      <td>No</td>\n",
       "      <td>No</td>\n",
       "      <td>No</td>\n",
       "      <td>Up</td>\n",
       "      <td>No</td>\n",
       "      <td>No</td>\n",
       "      <td>No</td>\n",
       "      <td>No</td>\n",
       "      <td>No</td>\n",
       "      <td>Ch</td>\n",
       "      <td>Yes</td>\n",
       "      <td>NO</td>\n",
       "    </tr>\n",
       "    <tr>\n",
       "      <th>4</th>\n",
       "      <td>16680</td>\n",
       "      <td>42519267</td>\n",
       "      <td>Caucasian</td>\n",
       "      <td>Male</td>\n",
       "      <td>[40-50)</td>\n",
       "      <td>NaN</td>\n",
       "      <td>1</td>\n",
       "      <td>1</td>\n",
       "      <td>7</td>\n",
       "      <td>1</td>\n",
       "      <td>NaN</td>\n",
       "      <td>NaN</td>\n",
       "      <td>51</td>\n",
       "      <td>0</td>\n",
       "      <td>8</td>\n",
       "      <td>0</td>\n",
       "      <td>0</td>\n",
       "      <td>0</td>\n",
       "      <td>197</td>\n",
       "      <td>157</td>\n",
       "      <td>250</td>\n",
       "      <td>5</td>\n",
       "      <td>None</td>\n",
       "      <td>None</td>\n",
       "      <td>No</td>\n",
       "      <td>No</td>\n",
       "      <td>No</td>\n",
       "      <td>No</td>\n",
       "      <td>No</td>\n",
       "      <td>No</td>\n",
       "      <td>Steady</td>\n",
       "      <td>No</td>\n",
       "      <td>No</td>\n",
       "      <td>No</td>\n",
       "      <td>No</td>\n",
       "      <td>No</td>\n",
       "      <td>No</td>\n",
       "      <td>No</td>\n",
       "      <td>No</td>\n",
       "      <td>No</td>\n",
       "      <td>No</td>\n",
       "      <td>Steady</td>\n",
       "      <td>No</td>\n",
       "      <td>No</td>\n",
       "      <td>No</td>\n",
       "      <td>No</td>\n",
       "      <td>No</td>\n",
       "      <td>Ch</td>\n",
       "      <td>Yes</td>\n",
       "      <td>NO</td>\n",
       "    </tr>\n",
       "  </tbody>\n",
       "</table>\n",
       "</div>"
      ],
      "text/plain": [
       "   encounter_id  patient_nbr             race  gender      age weight  \\\n",
       "0       2278392      8222157        Caucasian  Female   [0-10)    NaN   \n",
       "1        149190     55629189        Caucasian  Female  [10-20)    NaN   \n",
       "2         64410     86047875  AfricanAmerican  Female  [20-30)    NaN   \n",
       "3        500364     82442376        Caucasian    Male  [30-40)    NaN   \n",
       "4         16680     42519267        Caucasian    Male  [40-50)    NaN   \n",
       "\n",
       "   admission_type_id  discharge_disposition_id  admission_source_id  \\\n",
       "0                  6                        25                    1   \n",
       "1                  1                         1                    7   \n",
       "2                  1                         1                    7   \n",
       "3                  1                         1                    7   \n",
       "4                  1                         1                    7   \n",
       "\n",
       "   time_in_hospital payer_code         medical_specialty  num_lab_procedures  \\\n",
       "0                 1        NaN  Pediatrics-Endocrinology                  41   \n",
       "1                 3        NaN                       NaN                  59   \n",
       "2                 2        NaN                       NaN                  11   \n",
       "3                 2        NaN                       NaN                  44   \n",
       "4                 1        NaN                       NaN                  51   \n",
       "\n",
       "   num_procedures  num_medications  number_outpatient  number_emergency  \\\n",
       "0               0                1                  0                 0   \n",
       "1               0               18                  0                 0   \n",
       "2               5               13                  2                 0   \n",
       "3               1               16                  0                 0   \n",
       "4               0                8                  0                 0   \n",
       "\n",
       "   number_inpatient  diag_1  diag_2 diag_3  number_diagnoses max_glu_serum  \\\n",
       "0                 0  250.83     NaN    NaN                 1          None   \n",
       "1                 0     276  250.01    255                 9          None   \n",
       "2                 1     648     250    V27                 6          None   \n",
       "3                 0       8  250.43    403                 7          None   \n",
       "4                 0     197     157    250                 5          None   \n",
       "\n",
       "  A1Cresult metformin repaglinide nateglinide chlorpropamide glimepiride  \\\n",
       "0      None        No          No          No             No          No   \n",
       "1      None        No          No          No             No          No   \n",
       "2      None        No          No          No             No          No   \n",
       "3      None        No          No          No             No          No   \n",
       "4      None        No          No          No             No          No   \n",
       "\n",
       "  acetohexamide glipizide glyburide tolbutamide pioglitazone rosiglitazone  \\\n",
       "0            No        No        No          No           No            No   \n",
       "1            No        No        No          No           No            No   \n",
       "2            No    Steady        No          No           No            No   \n",
       "3            No        No        No          No           No            No   \n",
       "4            No    Steady        No          No           No            No   \n",
       "\n",
       "  acarbose miglitol troglitazone tolazamide examide citoglipton insulin  \\\n",
       "0       No       No           No         No      No          No      No   \n",
       "1       No       No           No         No      No          No      Up   \n",
       "2       No       No           No         No      No          No      No   \n",
       "3       No       No           No         No      No          No      Up   \n",
       "4       No       No           No         No      No          No  Steady   \n",
       "\n",
       "  glyburide-metformin glipizide-metformin glimepiride-pioglitazone  \\\n",
       "0                  No                  No                       No   \n",
       "1                  No                  No                       No   \n",
       "2                  No                  No                       No   \n",
       "3                  No                  No                       No   \n",
       "4                  No                  No                       No   \n",
       "\n",
       "  metformin-rosiglitazone metformin-pioglitazone change diabetesMed readmitted  \n",
       "0                      No                     No     No          No         NO  \n",
       "1                      No                     No     Ch         Yes        >30  \n",
       "2                      No                     No     No         Yes         NO  \n",
       "3                      No                     No     Ch         Yes         NO  \n",
       "4                      No                     No     Ch         Yes         NO  "
      ]
     },
     "execution_count": 127,
     "metadata": {},
     "output_type": "execute_result"
    }
   ],
   "source": [
    "diabetes.head()"
   ]
  },
  {
   "cell_type": "markdown",
   "id": "365b49e5-57cb-490a-9cac-b273408c7708",
   "metadata": {},
   "source": [
    "### Limpieza de datos nulos\n",
    "* Primero se buscan las columnas con datos nulos\n",
    "* Posteriormente (se especifica en una celda de Markdown) se decide que columnas pueden ser ignoradas"
   ]
  },
  {
   "cell_type": "code",
   "execution_count": 128,
   "id": "edbf2ca3-d65a-4a69-baa1-21fd0cc6172c",
   "metadata": {},
   "outputs": [
    {
     "data": {
      "text/plain": [
       "weight               96.858479\n",
       "medical_specialty    49.082208\n",
       "payer_code           39.557416\n",
       "race                  2.233555\n",
       "diag_3                1.398306\n",
       "diag_2                0.351787\n",
       "diag_1                0.020636\n",
       "dtype: float64"
      ]
     },
     "execution_count": 128,
     "metadata": {},
     "output_type": "execute_result"
    }
   ],
   "source": [
    "# Se encuentra la proporción de valores faltantes en cada columna\n",
    "\n",
    "(diabetes.isna().sum() / diabetes.shape[0] * 100).sort_values(ascending=False)[(diabetes.isna().sum() / diabetes.shape[0] * 100) > 0]"
   ]
  },
  {
   "cell_type": "code",
   "execution_count": 129,
   "id": "acab0b94",
   "metadata": {},
   "outputs": [
    {
     "name": "stderr",
     "output_type": "stream",
     "text": [
      "C:\\Users\\PC\\AppData\\Roaming\\Python\\Python38\\site-packages\\seaborn\\_decorators.py:36: FutureWarning: Pass the following variables as keyword args: x, y. From version 0.12, the only valid positional argument will be `data`, and passing other arguments without an explicit keyword will result in an error or misinterpretation.\n",
      "  warnings.warn(\n"
     ]
    },
    {
     "data": {
      "text/plain": [
       "Text(0.5, 1.0, 'Porcentaje de datos nulos')"
      ]
     },
     "execution_count": 129,
     "metadata": {},
     "output_type": "execute_result"
    },
    {
     "data": {
      "image/png": "[encoded data removed]",
      "text/plain": [
       "<Figure size 432x288 with 1 Axes>"
      ]
     },
     "metadata": {
      "needs_background": "light"
     },
     "output_type": "display_data"
    }
   ],
   "source": [
    "x_graph =  (diabetes.isna().sum() / diabetes.shape[0] * 100).sort_values(ascending=False)[(diabetes.isna().sum() / diabetes.shape[0] * 100) > 0]\n",
    "plt.xticks(rotation=20)\n",
    "sns.barplot(x_graph.index, x_graph.values).set_title(\"Porcentaje de datos nulos\")"
   ]
  },
  {
   "cell_type": "markdown",
   "id": "8c42e849-3117-4318-bbf3-24329bc0a8e4",
   "metadata": {},
   "source": [
    "* Se encuentra que para las columnas de: Peso, Especialidad Medica y código de pagador, la proporción de valores faltantes supera el 30%, por lo que se decide no tener en cuenta dichas columnas, ni imputar valores."
   ]
  },
  {
   "cell_type": "code",
   "execution_count": 130,
   "id": "fe17b893-4d82-49a6-bca6-e94f1cfe13f6",
   "metadata": {},
   "outputs": [],
   "source": [
    "diabetes = diabetes.drop(columns=[\"weight\", \"medical_specialty\", \"payer_code\" ])"
   ]
  },
  {
   "cell_type": "code",
   "execution_count": 131,
   "id": "37610242-97b9-4389-80b4-7a7580e414a1",
   "metadata": {},
   "outputs": [
    {
     "data": {
      "text/plain": [
       "(101766, 47)"
      ]
     },
     "execution_count": 131,
     "metadata": {},
     "output_type": "execute_result"
    }
   ],
   "source": [
    "# Se observa que quedamos con 47 columnas\n",
    "diabetes.shape"
   ]
  },
  {
   "cell_type": "code",
   "execution_count": 132,
   "id": "17343f88-aafe-4703-b04c-4e34faa97923",
   "metadata": {},
   "outputs": [
    {
     "data": {
      "text/plain": [
       "race      2.233555\n",
       "diag_3    1.398306\n",
       "diag_2    0.351787\n",
       "diag_1    0.020636\n",
       "dtype: float64"
      ]
     },
     "execution_count": 132,
     "metadata": {},
     "output_type": "execute_result"
    }
   ],
   "source": [
    "(diabetes.isna().sum() / diabetes.shape[0] * 100).sort_values(ascending=False)[(diabetes.isna().sum() / diabetes.shape[0] * 100) > 0]"
   ]
  },
  {
   "cell_type": "markdown",
   "id": "e72fb14c-5237-4808-ab45-456604bfe75a",
   "metadata": {},
   "source": [
    "* Se encuentra que para las columnas: Raza, y diagnosticos 1,2,3 hay porcentajes bajos de datos vacios, (menores al 3%), teniendo en cuenta que el dataset es de más de 100.000 filas, se considera que eliminando estos datos no se pierde la capacidad del mismo para otorgar información, por lo que estos valores son eliminados"
   ]
  },
  {
   "cell_type": "code",
   "execution_count": 133,
   "id": "8281f269-5b14-444f-a7e0-1052b75e7ecc",
   "metadata": {},
   "outputs": [],
   "source": [
    "diabetes = diabetes.dropna(subset=[\"race\", \"diag_3\", \"diag_2\", \"diag_1\"], axis=0)"
   ]
  },
  {
   "cell_type": "markdown",
   "id": "afcc6e90-ae45-43ce-9fa2-8ba529ee3a57",
   "metadata": {},
   "source": [
    "### Valores únicos en columnas cualitativas\n",
    "* Se toman las variables cualitativas del dataset, y se observa sus valores únicos, para verificar si se necesita estandarizar o reemplazar valores"
   ]
  },
  {
   "cell_type": "code",
   "execution_count": 134,
   "id": "c9aabfe3-bea0-45a8-b7a0-09b27b383ae5",
   "metadata": {},
   "outputs": [
    {
     "data": {
      "text/plain": [
       "34"
      ]
     },
     "execution_count": 134,
     "metadata": {},
     "output_type": "execute_result"
    }
   ],
   "source": [
    "object_columns_list = diabetes.select_dtypes(include=\"object\").columns\n",
    "len(object_columns_list)"
   ]
  },
  {
   "cell_type": "markdown",
   "id": "f0f6e3f8-3f71-4479-8c82-c305040483b9",
   "metadata": {},
   "source": [
    "* Se recorreran de 10 en 10 para no saturar de información"
   ]
  },
  {
   "cell_type": "code",
   "execution_count": 135,
   "id": "94334910-c113-4143-aaa4-0bd53deee3a1",
   "metadata": {},
   "outputs": [
    {
     "name": "stdout",
     "output_type": "stream",
     "text": [
      "race\n",
      "-----------------------\n"
     ]
    },
    {
     "data": {
      "text/plain": [
       "Caucasian          75079\n",
       "AfricanAmerican    18881\n",
       "Hispanic            1984\n",
       "Other               1484\n",
       "Asian                625\n",
       "Name: race, dtype: int64"
      ]
     },
     "metadata": {},
     "output_type": "display_data"
    },
    {
     "name": "stdout",
     "output_type": "stream",
     "text": [
      "\n",
      "gender\n",
      "-----------------------\n"
     ]
    },
    {
     "data": {
      "text/plain": [
       "Female             52833\n",
       "Male               45219\n",
       "Unknown/Invalid        1\n",
       "Name: gender, dtype: int64"
      ]
     },
     "metadata": {},
     "output_type": "display_data"
    },
    {
     "name": "stdout",
     "output_type": "stream",
     "text": [
      "\n",
      "age\n",
      "-----------------------\n"
     ]
    },
    {
     "data": {
      "text/plain": [
       "[70-80)     25306\n",
       "[60-70)     21809\n",
       "[80-90)     16702\n",
       "[50-60)     16697\n",
       "[40-50)      9265\n",
       "[30-40)      3548\n",
       "[90-100)     2717\n",
       "[20-30)      1478\n",
       "[10-20)       466\n",
       "[0-10)         65\n",
       "Name: age, dtype: int64"
      ]
     },
     "metadata": {},
     "output_type": "display_data"
    },
    {
     "name": "stdout",
     "output_type": "stream",
     "text": [
      "\n",
      "diag_1\n",
      "-----------------------\n"
     ]
    },
    {
     "data": {
      "text/plain": [
       "428    6730\n",
       "414    6374\n",
       "786    3900\n",
       "410    3514\n",
       "486    3412\n",
       "       ... \n",
       "216       1\n",
       "V43       1\n",
       "838       1\n",
       "955       1\n",
       "V51       1\n",
       "Name: diag_1, Length: 713, dtype: int64"
      ]
     },
     "metadata": {},
     "output_type": "display_data"
    },
    {
     "name": "stdout",
     "output_type": "stream",
     "text": [
      "\n",
      "diag_2\n",
      "-----------------------\n"
     ]
    },
    {
     "data": {
      "text/plain": [
       "428    6517\n",
       "276    6513\n",
       "250    5412\n",
       "427    4919\n",
       "401    3613\n",
       "       ... \n",
       "316       1\n",
       "963       1\n",
       "506       1\n",
       "944       1\n",
       "927       1\n",
       "Name: diag_2, Length: 740, dtype: int64"
      ]
     },
     "metadata": {},
     "output_type": "display_data"
    },
    {
     "name": "stdout",
     "output_type": "stream",
     "text": [
      "\n",
      "diag_3\n",
      "-----------------------\n"
     ]
    },
    {
     "data": {
      "text/plain": [
       "250    11208\n",
       "401     8090\n",
       "276     5097\n",
       "428     4491\n",
       "427     3865\n",
       "       ...  \n",
       "657        1\n",
       "992        1\n",
       "732        1\n",
       "951        1\n",
       "971        1\n",
       "Name: diag_3, Length: 786, dtype: int64"
      ]
     },
     "metadata": {},
     "output_type": "display_data"
    },
    {
     "name": "stdout",
     "output_type": "stream",
     "text": [
      "\n",
      "max_glu_serum\n",
      "-----------------------\n"
     ]
    },
    {
     "data": {
      "text/plain": [
       "None    92845\n",
       "Norm     2532\n",
       ">200     1449\n",
       ">300     1227\n",
       "Name: max_glu_serum, dtype: int64"
      ]
     },
     "metadata": {},
     "output_type": "display_data"
    },
    {
     "name": "stdout",
     "output_type": "stream",
     "text": [
      "\n",
      "A1Cresult\n",
      "-----------------------\n"
     ]
    },
    {
     "data": {
      "text/plain": [
       "None    81860\n",
       ">8       7631\n",
       "Norm     4854\n",
       ">7       3708\n",
       "Name: A1Cresult, dtype: int64"
      ]
     },
     "metadata": {},
     "output_type": "display_data"
    },
    {
     "name": "stdout",
     "output_type": "stream",
     "text": [
      "\n",
      "metformin\n",
      "-----------------------\n"
     ]
    },
    {
     "data": {
      "text/plain": [
       "No        78808\n",
       "Steady    17677\n",
       "Up         1017\n",
       "Down        551\n",
       "Name: metformin, dtype: int64"
      ]
     },
     "metadata": {},
     "output_type": "display_data"
    },
    {
     "name": "stdout",
     "output_type": "stream",
     "text": [
      "\n",
      "repaglinide\n",
      "-----------------------\n"
     ]
    },
    {
     "data": {
      "text/plain": [
       "No        96530\n",
       "Steady     1371\n",
       "Up          107\n",
       "Down         45\n",
       "Name: repaglinide, dtype: int64"
      ]
     },
     "metadata": {},
     "output_type": "display_data"
    },
    {
     "name": "stdout",
     "output_type": "stream",
     "text": [
      "\n",
      "nateglinide\n",
      "-----------------------\n"
     ]
    },
    {
     "data": {
      "text/plain": [
       "No        97362\n",
       "Steady      657\n",
       "Up           23\n",
       "Down         11\n",
       "Name: nateglinide, dtype: int64"
      ]
     },
     "metadata": {},
     "output_type": "display_data"
    },
    {
     "name": "stdout",
     "output_type": "stream",
     "text": [
      "\n"
     ]
    }
   ],
   "source": [
    "for col in object_columns_list[:11]:\n",
    "    print(col)\n",
    "    print(\"-----------------------\")\n",
    "    display(diabetes[col].value_counts(dropna=False))\n",
    "    print()\n",
    "    "
   ]
  },
  {
   "cell_type": "markdown",
   "id": "904b88b1-41e4-45a1-a388-26b65f000f8c",
   "metadata": {},
   "source": [
    "* Para la columna gender (segunda posición del arreglo), se observa que hay un único dato diferente a los géneros masculino y femenino, por lo que se decide eliminar la fila que contiene ese dato"
   ]
  },
  {
   "cell_type": "code",
   "execution_count": 136,
   "id": "294e8320-8b02-4c72-936a-1096b1914158",
   "metadata": {},
   "outputs": [],
   "source": [
    "diabetes = diabetes[diabetes.gender != \"Unknown/Invalid\"]"
   ]
  },
  {
   "cell_type": "markdown",
   "id": "266abe19-a215-4ecd-8937-610b78f02d25",
   "metadata": {},
   "source": [
    "* Las demás columnas de esta sección (de la 1 a la 10) seguiran igual parcialmente (en los siguientes pasos se realizará una interpretación de los valores de diagnosticos 1, 2 y 3)"
   ]
  },
  {
   "cell_type": "code",
   "execution_count": 137,
   "id": "78e85735-0a34-45fc-86ba-8bc5092e8020",
   "metadata": {},
   "outputs": [
    {
     "name": "stdout",
     "output_type": "stream",
     "text": [
      "chlorpropamide\n",
      "-----------------------\n"
     ]
    },
    {
     "data": {
      "text/plain": [
       "No        97969\n",
       "Steady       76\n",
       "Up            6\n",
       "Down          1\n",
       "Name: chlorpropamide, dtype: int64"
      ]
     },
     "metadata": {},
     "output_type": "display_data"
    },
    {
     "name": "stdout",
     "output_type": "stream",
     "text": [
      "\n",
      "glimepiride\n",
      "-----------------------\n"
     ]
    },
    {
     "data": {
      "text/plain": [
       "No        93065\n",
       "Steady     4488\n",
       "Up          315\n",
       "Down        184\n",
       "Name: glimepiride, dtype: int64"
      ]
     },
     "metadata": {},
     "output_type": "display_data"
    },
    {
     "name": "stdout",
     "output_type": "stream",
     "text": [
      "\n",
      "acetohexamide\n",
      "-----------------------\n"
     ]
    },
    {
     "data": {
      "text/plain": [
       "No        98051\n",
       "Steady        1\n",
       "Name: acetohexamide, dtype: int64"
      ]
     },
     "metadata": {},
     "output_type": "display_data"
    },
    {
     "name": "stdout",
     "output_type": "stream",
     "text": [
      "\n",
      "glipizide\n",
      "-----------------------\n"
     ]
    },
    {
     "data": {
      "text/plain": [
       "No        85769\n",
       "Steady    10990\n",
       "Up          752\n",
       "Down        541\n",
       "Name: glipizide, dtype: int64"
      ]
     },
     "metadata": {},
     "output_type": "display_data"
    },
    {
     "name": "stdout",
     "output_type": "stream",
     "text": [
      "\n",
      "glyburide\n",
      "-----------------------\n"
     ]
    },
    {
     "data": {
      "text/plain": [
       "No        87791\n",
       "Steady     8932\n",
       "Up          791\n",
       "Down        538\n",
       "Name: glyburide, dtype: int64"
      ]
     },
     "metadata": {},
     "output_type": "display_data"
    },
    {
     "name": "stdout",
     "output_type": "stream",
     "text": [
      "\n",
      "tolbutamide\n",
      "-----------------------\n"
     ]
    },
    {
     "data": {
      "text/plain": [
       "No        98030\n",
       "Steady       22\n",
       "Name: tolbutamide, dtype: int64"
      ]
     },
     "metadata": {},
     "output_type": "display_data"
    },
    {
     "name": "stdout",
     "output_type": "stream",
     "text": [
      "\n",
      "pioglitazone\n",
      "-----------------------\n"
     ]
    },
    {
     "data": {
      "text/plain": [
       "No        90955\n",
       "Steady     6755\n",
       "Up          227\n",
       "Down        115\n",
       "Name: pioglitazone, dtype: int64"
      ]
     },
     "metadata": {},
     "output_type": "display_data"
    },
    {
     "name": "stdout",
     "output_type": "stream",
     "text": [
      "\n",
      "rosiglitazone\n",
      "-----------------------\n"
     ]
    },
    {
     "data": {
      "text/plain": [
       "No        91886\n",
       "Steady     5908\n",
       "Up          174\n",
       "Down         84\n",
       "Name: rosiglitazone, dtype: int64"
      ]
     },
     "metadata": {},
     "output_type": "display_data"
    },
    {
     "name": "stdout",
     "output_type": "stream",
     "text": [
      "\n",
      "acarbose\n",
      "-----------------------\n"
     ]
    },
    {
     "data": {
      "text/plain": [
       "No        97753\n",
       "Steady      286\n",
       "Up           10\n",
       "Down          3\n",
       "Name: acarbose, dtype: int64"
      ]
     },
     "metadata": {},
     "output_type": "display_data"
    },
    {
     "name": "stdout",
     "output_type": "stream",
     "text": [
      "\n",
      "miglitol\n",
      "-----------------------\n"
     ]
    },
    {
     "data": {
      "text/plain": [
       "No        98015\n",
       "Steady       31\n",
       "Down          4\n",
       "Up            2\n",
       "Name: miglitol, dtype: int64"
      ]
     },
     "metadata": {},
     "output_type": "display_data"
    },
    {
     "name": "stdout",
     "output_type": "stream",
     "text": [
      "\n"
     ]
    }
   ],
   "source": [
    "for col in object_columns_list[11:21]:\n",
    "    print(col)\n",
    "    print(\"-----------------------\")\n",
    "    display(diabetes[col].value_counts(dropna=False))\n",
    "    print()"
   ]
  },
  {
   "cell_type": "markdown",
   "id": "18ef5ff2-a5b7-42c7-a18f-eb7e58b66f53",
   "metadata": {},
   "source": [
    "* Se encuentra que en la columna acetohexamid (tercera columna del arreglo) la proporción es totalmente desbalanceada, ya que solo existe 1 dato de \"steady\" y 98051 de \"No\", por lo que se decide eliminar esta columna. \n",
    "* Aunque otras columnas como tolbutamide cuentan con casos similares al que menciono de acetohexamide, las dejaré aun para después ver si tienen algun aporte en la interpretabilidad del modelo"
   ]
  },
  {
   "cell_type": "code",
   "execution_count": 138,
   "id": "df2090df-4b3e-4623-af7d-4783853376fd",
   "metadata": {},
   "outputs": [
    {
     "data": {
      "text/plain": [
       "(98052, 46)"
      ]
     },
     "execution_count": 138,
     "metadata": {},
     "output_type": "execute_result"
    }
   ],
   "source": [
    "diabetes = diabetes.drop(columns=\"acetohexamide\")\n",
    "diabetes.shape"
   ]
  },
  {
   "cell_type": "code",
   "execution_count": 139,
   "id": "0399b418-5636-4545-a40e-923ba963328c",
   "metadata": {},
   "outputs": [
    {
     "name": "stdout",
     "output_type": "stream",
     "text": [
      "troglitazone\n",
      "-----------------------\n"
     ]
    },
    {
     "data": {
      "text/plain": [
       "No        98049\n",
       "Steady        3\n",
       "Name: troglitazone, dtype: int64"
      ]
     },
     "metadata": {},
     "output_type": "display_data"
    },
    {
     "name": "stdout",
     "output_type": "stream",
     "text": [
      "\n",
      "tolazamide\n",
      "-----------------------\n"
     ]
    },
    {
     "data": {
      "text/plain": [
       "No        98015\n",
       "Steady       36\n",
       "Up            1\n",
       "Name: tolazamide, dtype: int64"
      ]
     },
     "metadata": {},
     "output_type": "display_data"
    },
    {
     "name": "stdout",
     "output_type": "stream",
     "text": [
      "\n",
      "examide\n",
      "-----------------------\n"
     ]
    },
    {
     "data": {
      "text/plain": [
       "No    98052\n",
       "Name: examide, dtype: int64"
      ]
     },
     "metadata": {},
     "output_type": "display_data"
    },
    {
     "name": "stdout",
     "output_type": "stream",
     "text": [
      "\n",
      "citoglipton\n",
      "-----------------------\n"
     ]
    },
    {
     "data": {
      "text/plain": [
       "No    98052\n",
       "Name: citoglipton, dtype: int64"
      ]
     },
     "metadata": {},
     "output_type": "display_data"
    },
    {
     "name": "stdout",
     "output_type": "stream",
     "text": [
      "\n",
      "insulin\n",
      "-----------------------\n"
     ]
    },
    {
     "data": {
      "text/plain": [
       "No        45942\n",
       "Steady    29368\n",
       "Down      11843\n",
       "Up        10899\n",
       "Name: insulin, dtype: int64"
      ]
     },
     "metadata": {},
     "output_type": "display_data"
    },
    {
     "name": "stdout",
     "output_type": "stream",
     "text": [
      "\n",
      "glyburide-metformin\n",
      "-----------------------\n"
     ]
    },
    {
     "data": {
      "text/plain": [
       "No        97383\n",
       "Steady      660\n",
       "Up            6\n",
       "Down          3\n",
       "Name: glyburide-metformin, dtype: int64"
      ]
     },
     "metadata": {},
     "output_type": "display_data"
    },
    {
     "name": "stdout",
     "output_type": "stream",
     "text": [
      "\n",
      "glipizide-metformin\n",
      "-----------------------\n"
     ]
    },
    {
     "data": {
      "text/plain": [
       "No        98039\n",
       "Steady       13\n",
       "Name: glipizide-metformin, dtype: int64"
      ]
     },
     "metadata": {},
     "output_type": "display_data"
    },
    {
     "name": "stdout",
     "output_type": "stream",
     "text": [
      "\n",
      "glimepiride-pioglitazone\n",
      "-----------------------\n"
     ]
    },
    {
     "data": {
      "text/plain": [
       "No        98051\n",
       "Steady        1\n",
       "Name: glimepiride-pioglitazone, dtype: int64"
      ]
     },
     "metadata": {},
     "output_type": "display_data"
    },
    {
     "name": "stdout",
     "output_type": "stream",
     "text": [
      "\n",
      "metformin-rosiglitazone\n",
      "-----------------------\n"
     ]
    },
    {
     "data": {
      "text/plain": [
       "No    98052\n",
       "Name: metformin-rosiglitazone, dtype: int64"
      ]
     },
     "metadata": {},
     "output_type": "display_data"
    },
    {
     "name": "stdout",
     "output_type": "stream",
     "text": [
      "\n",
      "metformin-pioglitazone\n",
      "-----------------------\n"
     ]
    },
    {
     "data": {
      "text/plain": [
       "No        98051\n",
       "Steady        1\n",
       "Name: metformin-pioglitazone, dtype: int64"
      ]
     },
     "metadata": {},
     "output_type": "display_data"
    },
    {
     "name": "stdout",
     "output_type": "stream",
     "text": [
      "\n",
      "change\n",
      "-----------------------\n"
     ]
    },
    {
     "data": {
      "text/plain": [
       "No    52774\n",
       "Ch    45278\n",
       "Name: change, dtype: int64"
      ]
     },
     "metadata": {},
     "output_type": "display_data"
    },
    {
     "name": "stdout",
     "output_type": "stream",
     "text": [
      "\n",
      "diabetesMed\n",
      "-----------------------\n"
     ]
    },
    {
     "data": {
      "text/plain": [
       "Yes    75350\n",
       "No     22702\n",
       "Name: diabetesMed, dtype: int64"
      ]
     },
     "metadata": {},
     "output_type": "display_data"
    },
    {
     "name": "stdout",
     "output_type": "stream",
     "text": [
      "\n",
      "readmitted\n",
      "-----------------------\n"
     ]
    },
    {
     "data": {
      "text/plain": [
       "NO     52337\n",
       ">30    34649\n",
       "<30    11066\n",
       "Name: readmitted, dtype: int64"
      ]
     },
     "metadata": {},
     "output_type": "display_data"
    },
    {
     "name": "stdout",
     "output_type": "stream",
     "text": [
      "\n"
     ]
    }
   ],
   "source": [
    "for col in object_columns_list[21:34]:\n",
    "    print(col)\n",
    "    print(\"-----------------------\")\n",
    "    display(diabetes[col].value_counts(dropna=False))\n",
    "    print()"
   ]
  },
  {
   "cell_type": "markdown",
   "id": "79f99791-16e6-463e-9457-0915a378d0ea",
   "metadata": {},
   "source": [
    "* Las columnas troglitazone, examide, citoglipton, glimepiride-pioglitazone, metformin-rosiglitazone, metformin-pioglitazone demuestran o tener un único valor en toda la columna, o tener un desbalanceo total, por lo que se considera que no tendrán ningún aporte al modelo, por lo que serán eliminadas del dataset"
   ]
  },
  {
   "cell_type": "code",
   "execution_count": 140,
   "id": "43085bb9-898d-408f-b02f-26b72fecf240",
   "metadata": {},
   "outputs": [
    {
     "data": {
      "text/plain": [
       "(98052, 40)"
      ]
     },
     "execution_count": 140,
     "metadata": {},
     "output_type": "execute_result"
    }
   ],
   "source": [
    "columns_to_drop = [\"troglitazone\", \"examide\", \"citoglipton\", \"glimepiride-pioglitazone\", \"metformin-rosiglitazone\" , \"metformin-pioglitazone\"]\n",
    "diabetes = diabetes.drop(columns=columns_to_drop)\n",
    "diabetes.shape\n"
   ]
  },
  {
   "cell_type": "markdown",
   "id": "6ae855cf-fead-4a93-86fa-04d72f8f5074",
   "metadata": {},
   "source": [
    "* Despues de recorrer los valores únicos del dataset se termina con 40 columnas, 98052 filas, a continuación se continua con el análisis de los datos para observar que columnas pueden ser modificadas con el fin de claridad o mayor interpretabilidad"
   ]
  },
  {
   "cell_type": "markdown",
   "id": "2adc6c12-f3ef-4628-bb39-316b292ce1f1",
   "metadata": {},
   "source": [
    "### Cambio en las columnas de Diagnostico 1 , 2 y 3\n",
    "\n",
    "En la documentación del dataset se encuentra que las columnas de diagnostico estan basadas en una tabla de referencia denominada *ICD9*, tomando los primeros 3 digitos de la misma, a continuación se observa el dataset para ver si esta información es consistente\n"
   ]
  },
  {
   "cell_type": "code",
   "execution_count": 141,
   "id": "5124f9b4-ae81-49d2-b6d6-78e3866c0ffa",
   "metadata": {},
   "outputs": [
    {
     "data": {
      "text/html": [
       "<div>\n",
       "<style scoped>\n",
       "    .dataframe tbody tr th:only-of-type {\n",
       "        vertical-align: middle;\n",
       "    }\n",
       "\n",
       "    .dataframe tbody tr th {\n",
       "        vertical-align: top;\n",
       "    }\n",
       "\n",
       "    .dataframe thead th {\n",
       "        text-align: right;\n",
       "    }\n",
       "</style>\n",
       "<table border=\"1\" class=\"dataframe\">\n",
       "  <thead>\n",
       "    <tr style=\"text-align: right;\">\n",
       "      <th></th>\n",
       "      <th>diag_1</th>\n",
       "      <th>diag_2</th>\n",
       "      <th>diag_3</th>\n",
       "    </tr>\n",
       "  </thead>\n",
       "  <tbody>\n",
       "    <tr>\n",
       "      <th>1</th>\n",
       "      <td>276</td>\n",
       "      <td>250.01</td>\n",
       "      <td>255</td>\n",
       "    </tr>\n",
       "    <tr>\n",
       "      <th>2</th>\n",
       "      <td>648</td>\n",
       "      <td>250</td>\n",
       "      <td>V27</td>\n",
       "    </tr>\n",
       "    <tr>\n",
       "      <th>3</th>\n",
       "      <td>8</td>\n",
       "      <td>250.43</td>\n",
       "      <td>403</td>\n",
       "    </tr>\n",
       "    <tr>\n",
       "      <th>4</th>\n",
       "      <td>197</td>\n",
       "      <td>157</td>\n",
       "      <td>250</td>\n",
       "    </tr>\n",
       "    <tr>\n",
       "      <th>5</th>\n",
       "      <td>414</td>\n",
       "      <td>411</td>\n",
       "      <td>250</td>\n",
       "    </tr>\n",
       "    <tr>\n",
       "      <th>6</th>\n",
       "      <td>414</td>\n",
       "      <td>411</td>\n",
       "      <td>V45</td>\n",
       "    </tr>\n",
       "    <tr>\n",
       "      <th>7</th>\n",
       "      <td>428</td>\n",
       "      <td>492</td>\n",
       "      <td>250</td>\n",
       "    </tr>\n",
       "    <tr>\n",
       "      <th>8</th>\n",
       "      <td>398</td>\n",
       "      <td>427</td>\n",
       "      <td>38</td>\n",
       "    </tr>\n",
       "    <tr>\n",
       "      <th>9</th>\n",
       "      <td>434</td>\n",
       "      <td>198</td>\n",
       "      <td>486</td>\n",
       "    </tr>\n",
       "    <tr>\n",
       "      <th>10</th>\n",
       "      <td>250.7</td>\n",
       "      <td>403</td>\n",
       "      <td>996</td>\n",
       "    </tr>\n",
       "    <tr>\n",
       "      <th>11</th>\n",
       "      <td>157</td>\n",
       "      <td>288</td>\n",
       "      <td>197</td>\n",
       "    </tr>\n",
       "    <tr>\n",
       "      <th>12</th>\n",
       "      <td>428</td>\n",
       "      <td>250.43</td>\n",
       "      <td>250.6</td>\n",
       "    </tr>\n",
       "    <tr>\n",
       "      <th>13</th>\n",
       "      <td>428</td>\n",
       "      <td>411</td>\n",
       "      <td>427</td>\n",
       "    </tr>\n",
       "    <tr>\n",
       "      <th>14</th>\n",
       "      <td>518</td>\n",
       "      <td>998</td>\n",
       "      <td>627</td>\n",
       "    </tr>\n",
       "    <tr>\n",
       "      <th>15</th>\n",
       "      <td>999</td>\n",
       "      <td>507</td>\n",
       "      <td>996</td>\n",
       "    </tr>\n",
       "    <tr>\n",
       "      <th>16</th>\n",
       "      <td>410</td>\n",
       "      <td>411</td>\n",
       "      <td>414</td>\n",
       "    </tr>\n",
       "    <tr>\n",
       "      <th>17</th>\n",
       "      <td>682</td>\n",
       "      <td>174</td>\n",
       "      <td>250</td>\n",
       "    </tr>\n",
       "    <tr>\n",
       "      <th>18</th>\n",
       "      <td>402</td>\n",
       "      <td>425</td>\n",
       "      <td>416</td>\n",
       "    </tr>\n",
       "    <tr>\n",
       "      <th>22</th>\n",
       "      <td>410</td>\n",
       "      <td>401</td>\n",
       "      <td>582</td>\n",
       "    </tr>\n",
       "    <tr>\n",
       "      <th>23</th>\n",
       "      <td>V57</td>\n",
       "      <td>715</td>\n",
       "      <td>V43</td>\n",
       "    </tr>\n",
       "  </tbody>\n",
       "</table>\n",
       "</div>"
      ],
      "text/plain": [
       "   diag_1  diag_2 diag_3\n",
       "1     276  250.01    255\n",
       "2     648     250    V27\n",
       "3       8  250.43    403\n",
       "4     197     157    250\n",
       "5     414     411    250\n",
       "6     414     411    V45\n",
       "7     428     492    250\n",
       "8     398     427     38\n",
       "9     434     198    486\n",
       "10  250.7     403    996\n",
       "11    157     288    197\n",
       "12    428  250.43  250.6\n",
       "13    428     411    427\n",
       "14    518     998    627\n",
       "15    999     507    996\n",
       "16    410     411    414\n",
       "17    682     174    250\n",
       "18    402     425    416\n",
       "22    410     401    582\n",
       "23    V57     715    V43"
      ]
     },
     "execution_count": 141,
     "metadata": {},
     "output_type": "execute_result"
    }
   ],
   "source": [
    "diabetes[[\"diag_1\",\"diag_2\", \"diag_3\"]].head(20)"
   ]
  },
  {
   "cell_type": "markdown",
   "id": "763de85c-d66a-4851-8c57-0419dc42d203",
   "metadata": {},
   "source": [
    "* Se observa que hay valores decimales, y valores que no son de 3 digitos, por lo que se aplicará una función para arreglar estas columnas y estandarizarlas en 3 digitos (las columnas que contienen las letras V o E también son tenidas en cuenta ya que según la literatura hacen parte de las enfermadades de *ICD9*"
   ]
  },
  {
   "cell_type": "code",
   "execution_count": 142,
   "id": "b5a45ad5-65f1-4137-9678-0807249205d8",
   "metadata": {},
   "outputs": [],
   "source": [
    "def format_icd9_code(code):\n",
    "    \"\"\"Formatea el código ICD9 para tener 3 dígitos.\"\"\"\n",
    "    code = str(code)[:3]\n",
    "    if len(code) == 3:\n",
    "        return code\n",
    "    \n",
    "    if len(code) == 2:\n",
    "        return \"0\" + code\n",
    "    \n",
    "    if len(code) == 1:\n",
    "        return \"00\" + code"
   ]
  },
  {
   "cell_type": "code",
   "execution_count": 143,
   "id": "39b41ac0-f8af-43f9-b443-141435a36783",
   "metadata": {},
   "outputs": [],
   "source": [
    "for i in range(1, 4):\n",
    "    diabetes[f\"diag_{i}\"] = diabetes[f\"diag_{i}\"].map(format_icd9_code)"
   ]
  },
  {
   "cell_type": "code",
   "execution_count": 144,
   "id": "6710e59d-c1c1-4875-a492-f68ecf94ac4e",
   "metadata": {},
   "outputs": [
    {
     "data": {
      "text/html": [
       "<div>\n",
       "<style scoped>\n",
       "    .dataframe tbody tr th:only-of-type {\n",
       "        vertical-align: middle;\n",
       "    }\n",
       "\n",
       "    .dataframe tbody tr th {\n",
       "        vertical-align: top;\n",
       "    }\n",
       "\n",
       "    .dataframe thead th {\n",
       "        text-align: right;\n",
       "    }\n",
       "</style>\n",
       "<table border=\"1\" class=\"dataframe\">\n",
       "  <thead>\n",
       "    <tr style=\"text-align: right;\">\n",
       "      <th></th>\n",
       "      <th>diag_1</th>\n",
       "      <th>diag_2</th>\n",
       "      <th>diag_3</th>\n",
       "    </tr>\n",
       "  </thead>\n",
       "  <tbody>\n",
       "    <tr>\n",
       "      <th>1</th>\n",
       "      <td>276</td>\n",
       "      <td>250</td>\n",
       "      <td>255</td>\n",
       "    </tr>\n",
       "    <tr>\n",
       "      <th>2</th>\n",
       "      <td>648</td>\n",
       "      <td>250</td>\n",
       "      <td>V27</td>\n",
       "    </tr>\n",
       "    <tr>\n",
       "      <th>3</th>\n",
       "      <td>008</td>\n",
       "      <td>250</td>\n",
       "      <td>403</td>\n",
       "    </tr>\n",
       "    <tr>\n",
       "      <th>4</th>\n",
       "      <td>197</td>\n",
       "      <td>157</td>\n",
       "      <td>250</td>\n",
       "    </tr>\n",
       "    <tr>\n",
       "      <th>5</th>\n",
       "      <td>414</td>\n",
       "      <td>411</td>\n",
       "      <td>250</td>\n",
       "    </tr>\n",
       "    <tr>\n",
       "      <th>6</th>\n",
       "      <td>414</td>\n",
       "      <td>411</td>\n",
       "      <td>V45</td>\n",
       "    </tr>\n",
       "    <tr>\n",
       "      <th>7</th>\n",
       "      <td>428</td>\n",
       "      <td>492</td>\n",
       "      <td>250</td>\n",
       "    </tr>\n",
       "    <tr>\n",
       "      <th>8</th>\n",
       "      <td>398</td>\n",
       "      <td>427</td>\n",
       "      <td>038</td>\n",
       "    </tr>\n",
       "    <tr>\n",
       "      <th>9</th>\n",
       "      <td>434</td>\n",
       "      <td>198</td>\n",
       "      <td>486</td>\n",
       "    </tr>\n",
       "    <tr>\n",
       "      <th>10</th>\n",
       "      <td>250</td>\n",
       "      <td>403</td>\n",
       "      <td>996</td>\n",
       "    </tr>\n",
       "    <tr>\n",
       "      <th>11</th>\n",
       "      <td>157</td>\n",
       "      <td>288</td>\n",
       "      <td>197</td>\n",
       "    </tr>\n",
       "    <tr>\n",
       "      <th>12</th>\n",
       "      <td>428</td>\n",
       "      <td>250</td>\n",
       "      <td>250</td>\n",
       "    </tr>\n",
       "    <tr>\n",
       "      <th>13</th>\n",
       "      <td>428</td>\n",
       "      <td>411</td>\n",
       "      <td>427</td>\n",
       "    </tr>\n",
       "    <tr>\n",
       "      <th>14</th>\n",
       "      <td>518</td>\n",
       "      <td>998</td>\n",
       "      <td>627</td>\n",
       "    </tr>\n",
       "    <tr>\n",
       "      <th>15</th>\n",
       "      <td>999</td>\n",
       "      <td>507</td>\n",
       "      <td>996</td>\n",
       "    </tr>\n",
       "    <tr>\n",
       "      <th>16</th>\n",
       "      <td>410</td>\n",
       "      <td>411</td>\n",
       "      <td>414</td>\n",
       "    </tr>\n",
       "    <tr>\n",
       "      <th>17</th>\n",
       "      <td>682</td>\n",
       "      <td>174</td>\n",
       "      <td>250</td>\n",
       "    </tr>\n",
       "    <tr>\n",
       "      <th>18</th>\n",
       "      <td>402</td>\n",
       "      <td>425</td>\n",
       "      <td>416</td>\n",
       "    </tr>\n",
       "    <tr>\n",
       "      <th>22</th>\n",
       "      <td>410</td>\n",
       "      <td>401</td>\n",
       "      <td>582</td>\n",
       "    </tr>\n",
       "    <tr>\n",
       "      <th>23</th>\n",
       "      <td>V57</td>\n",
       "      <td>715</td>\n",
       "      <td>V43</td>\n",
       "    </tr>\n",
       "  </tbody>\n",
       "</table>\n",
       "</div>"
      ],
      "text/plain": [
       "   diag_1 diag_2 diag_3\n",
       "1     276    250    255\n",
       "2     648    250    V27\n",
       "3     008    250    403\n",
       "4     197    157    250\n",
       "5     414    411    250\n",
       "6     414    411    V45\n",
       "7     428    492    250\n",
       "8     398    427    038\n",
       "9     434    198    486\n",
       "10    250    403    996\n",
       "11    157    288    197\n",
       "12    428    250    250\n",
       "13    428    411    427\n",
       "14    518    998    627\n",
       "15    999    507    996\n",
       "16    410    411    414\n",
       "17    682    174    250\n",
       "18    402    425    416\n",
       "22    410    401    582\n",
       "23    V57    715    V43"
      ]
     },
     "execution_count": 144,
     "metadata": {},
     "output_type": "execute_result"
    }
   ],
   "source": [
    "diabetes[[\"diag_1\",\"diag_2\", \"diag_3\"]].head(20)"
   ]
  },
  {
   "cell_type": "code",
   "execution_count": 145,
   "id": "c3398d55-cf34-4bc7-a6d5-3d3149e39044",
   "metadata": {},
   "outputs": [
    {
     "name": "stdout",
     "output_type": "stream",
     "text": [
      "Cantidad de valores unicos para la columna de diagnostico 1\n",
      "680\n",
      "___________________________________________________________________\n",
      "Cantidad de valores unicos para la columna de diagnostico 2\n",
      "665\n",
      "___________________________________________________________________\n",
      "Cantidad de valores unicos para la columna de diagnostico 3\n",
      "695\n",
      "___________________________________________________________________\n"
     ]
    }
   ],
   "source": [
    "for i in range(1,4):\n",
    "    print(f\"Cantidad de valores unicos para la columna de diagnostico {i}\")\n",
    "    print(len(diabetes[f\"diag_{i}\"].unique()))\n",
    "    print(\"___________________________________________________________________\")\n"
   ]
  },
  {
   "cell_type": "markdown",
   "id": "802c82d3-b03e-411f-b60f-6c70106279d3",
   "metadata": {},
   "source": [
    "##### Se observa que para cada columna hay más de 600 valores únicos de diagnostico, considero que el diagnostico es una variable importante respecto a la readmisión de un usuario, pero creo que dicha cantidad de valores unicos puede causar confusión en el modelo, por lo que buscando en literatura se encuentra la siguiente tabla [Link](https://en.wikipedia.org/wiki/List_of_ICD-9_codes_001%E2%80%93139:_infectious_and_parasitic_diseases)"
   ]
  },
  {
   "cell_type": "code",
   "execution_count": 146,
   "id": "0f35dbc0-2dd3-463d-9761-1ada0e45f7ea",
   "metadata": {},
   "outputs": [
    {
     "data": {
      "image/png": "[encoded data removed]",
      "text/plain": [
       "<IPython.core.display.Image object>"
      ]
     },
     "execution_count": 146,
     "metadata": {},
     "output_type": "execute_result"
    }
   ],
   "source": [
    "from IPython.display import Image\n",
    "Image(filename='media/table_icd9.PNG')"
   ]
  },
  {
   "cell_type": "markdown",
   "id": "6c709d83-bed0-4cdd-92c5-23965d1af647",
   "metadata": {},
   "source": [
    "##### Con esta tabla se hará una función para convertir los valores de diagnostico y asi reducir la cantidad de valores únicos"
   ]
  },
  {
   "cell_type": "code",
   "execution_count": 147,
   "id": "f2057137-bce6-4d20-8d10-4cd5c52073d9",
   "metadata": {},
   "outputs": [],
   "source": [
    "diag_mapping = {\n",
    "    \"Infectious and Parasitic Diseases\": \"001-139\",\n",
    "    \"Neoplasms\": \"140-239\",\n",
    "    \"Endocrine, Nutritional and Metabolic Diseases, and Immunity Disorders\": \"240-279\",\n",
    "    \"Diseases of the Blood and Blood-forming Organs\": \"280-289\",\n",
    "    \"Mental Disorders\": \"290-319\",\n",
    "    \"Diseases of the Nervous System and Sense Organs\": \"320-389\",\n",
    "    \"Diseases of the Circulatory System\": \"390-459\",\n",
    "    \"Diseases of the Respiratory System\": \"460-519\",\n",
    "    \"Diseases of the Digestive System\": \"520-579\",\n",
    "    \"Diseases of the Genitourinary System\": \"580-629\",\n",
    "    \"Complications of Pregnancy, Childbirth, and the Puerperium\": \"630-679\",\n",
    "    \"Diseases of the Skin and Subcutaneous Tissue\": \"680-709\",\n",
    "    \"Diseases of the Musculoskeletal System and Connective Tissue\": \"710-739\",\n",
    "    \"Congenital Anomalies\": \"740-759\",\n",
    "    \"Certain Conditions originating in the Perinatal Period\": \"760-779\",\n",
    "    \"Symptoms, Signs and Ill-defined Conditions\": \"780-799\",\n",
    "    \"Injury and Poisoning\": \"800-999\",\n",
    "    #\"Supplementary Classification of External Causes of Injury and Poisoning\": \"E800–E999\",\n",
    "    #\"Supplementary Classification of Factors influencing Health Status and Contact with Health Services\": \"V01–V82\",\n",
    "}"
   ]
  },
  {
   "cell_type": "code",
   "execution_count": 148,
   "id": "beca6891-3c8a-4be2-9c1b-583b82a12cf3",
   "metadata": {},
   "outputs": [],
   "source": [
    "def map_icd9_codes(code):\n",
    "    \"\"\" Esta función convierte los valores de diagnostico mediante el diccionario de diag_mapping de la celda superior\"\"\"\n",
    "    global diag_mapping\n",
    "    if \"V\" in code:\n",
    "        return \"Supplementary Classification of Factors influencing Health Status and Contact with Health Services\"\n",
    "    if \"E\" in code:\n",
    "        return \"Supplementary Classification of External Causes of Injury and Poisoning\"\n",
    "    code = int(code)\n",
    "    for name, range_ in diag_mapping.items():\n",
    "        min_, max_ = range_.split(\"-\")\n",
    "        if code >= int(min_) and code <= int(max_):\n",
    "            return name"
   ]
  },
  {
   "cell_type": "code",
   "execution_count": 149,
   "id": "38c0b6e3-e147-47ec-ac39-e334e610f77d",
   "metadata": {},
   "outputs": [],
   "source": [
    "for i in range(1, 4):\n",
    "    diabetes[f\"diag_{i}\"] = diabetes[f\"diag_{i}\"].map(map_icd9_codes)"
   ]
  },
  {
   "cell_type": "code",
   "execution_count": 150,
   "id": "2649d8d2-e83f-435b-ac82-e76c40d57f29",
   "metadata": {},
   "outputs": [
    {
     "name": "stdout",
     "output_type": "stream",
     "text": [
      "Cantidad de valores unicos para la columna de diagnostico 1\n",
      "18\n",
      "___________________________________________________________________\n",
      "Cantidad de valores unicos para la columna de diagnostico 2\n",
      "18\n",
      "___________________________________________________________________\n",
      "Cantidad de valores unicos para la columna de diagnostico 3\n",
      "18\n",
      "___________________________________________________________________\n"
     ]
    }
   ],
   "source": [
    "for i in range(1,4):\n",
    "    print(f\"Cantidad de valores unicos para la columna de diagnostico {i}\")\n",
    "    print(len(diabetes[f\"diag_{i}\"].unique()))\n",
    "    print(\"___________________________________________________________________\")"
   ]
  },
  {
   "cell_type": "markdown",
   "id": "0743ee96-a318-45fd-a8a5-7bab33d8a8b0",
   "metadata": {},
   "source": [
    "##### Ahora se tienen 18 categorias de diagnostico, lo que reduce considerablemente la variabilidad en estas columnas"
   ]
  },
  {
   "cell_type": "markdown",
   "id": "7bb3149e-e444-45a5-8b72-079dbdef4707",
   "metadata": {},
   "source": [
    "#### Variables numéricas"
   ]
  },
  {
   "cell_type": "code",
   "execution_count": 151,
   "id": "1f9246b8-47fb-4ee8-babf-89f05d0e80fd",
   "metadata": {},
   "outputs": [
    {
     "data": {
      "text/plain": [
       "Index(['encounter_id', 'patient_nbr', 'admission_type_id',\n",
       "       'discharge_disposition_id', 'admission_source_id', 'time_in_hospital',\n",
       "       'num_lab_procedures', 'num_procedures', 'num_medications',\n",
       "       'number_outpatient', 'number_emergency', 'number_inpatient',\n",
       "       'number_diagnoses'],\n",
       "      dtype='object')"
      ]
     },
     "execution_count": 151,
     "metadata": {},
     "output_type": "execute_result"
    }
   ],
   "source": [
    "numeric_columns = diabetes.select_dtypes(include=\"number\").columns\n",
    "numeric_columns"
   ]
  },
  {
   "cell_type": "code",
   "execution_count": 152,
   "id": "939862c5-32cb-41b3-9b5a-e5a38caf09e7",
   "metadata": {},
   "outputs": [
    {
     "name": "stdout",
     "output_type": "stream",
     "text": [
      "La cantidad de valores unicos para la variable encounter_id es:\n",
      "98052\n",
      "- - - - - - - - - - - - - - - - - - - - - - - - - - - - - - - - - - - - - - \n",
      "La cantidad de valores unicos para la variable patient_nbr es:\n",
      "68629\n",
      "- - - - - - - - - - - - - - - - - - - - - - - - - - - - - - - - - - - - - - \n",
      "La cantidad de valores unicos para la variable admission_type_id es:\n",
      "8\n",
      "- - - - - - - - - - - - - - - - - - - - - - - - - - - - - - - - - - - - - - \n",
      "La cantidad de valores unicos para la variable discharge_disposition_id es:\n",
      "26\n",
      "- - - - - - - - - - - - - - - - - - - - - - - - - - - - - - - - - - - - - - \n",
      "La cantidad de valores unicos para la variable admission_source_id es:\n",
      "17\n",
      "- - - - - - - - - - - - - - - - - - - - - - - - - - - - - - - - - - - - - - \n",
      "La cantidad de valores unicos para la variable time_in_hospital es:\n",
      "14\n",
      "- - - - - - - - - - - - - - - - - - - - - - - - - - - - - - - - - - - - - - \n",
      "La cantidad de valores unicos para la variable num_lab_procedures es:\n",
      "118\n",
      "- - - - - - - - - - - - - - - - - - - - - - - - - - - - - - - - - - - - - - \n",
      "La cantidad de valores unicos para la variable num_procedures es:\n",
      "7\n",
      "- - - - - - - - - - - - - - - - - - - - - - - - - - - - - - - - - - - - - - \n",
      "La cantidad de valores unicos para la variable num_medications es:\n",
      "75\n",
      "- - - - - - - - - - - - - - - - - - - - - - - - - - - - - - - - - - - - - - \n",
      "La cantidad de valores unicos para la variable number_outpatient es:\n",
      "39\n",
      "- - - - - - - - - - - - - - - - - - - - - - - - - - - - - - - - - - - - - - \n",
      "La cantidad de valores unicos para la variable number_emergency es:\n",
      "33\n",
      "- - - - - - - - - - - - - - - - - - - - - - - - - - - - - - - - - - - - - - \n",
      "La cantidad de valores unicos para la variable number_inpatient es:\n",
      "20\n",
      "- - - - - - - - - - - - - - - - - - - - - - - - - - - - - - - - - - - - - - \n",
      "La cantidad de valores unicos para la variable number_diagnoses es:\n",
      "14\n",
      "- - - - - - - - - - - - - - - - - - - - - - - - - - - - - - - - - - - - - - \n"
     ]
    }
   ],
   "source": [
    "for col in numeric_columns:\n",
    "    print(f\"La cantidad de valores unicos para la variable {col} es:\")\n",
    "    print(len(diabetes[col].unique()))\n",
    "    print(\"- - - - - - - - - - - - - - - - - - - - - - - - - - - - - - - - - - - - - - \")"
   ]
  },
  {
   "cell_type": "markdown",
   "id": "15ba923d-b669-44a0-973e-41ef8a9a0cef",
   "metadata": {},
   "source": [
    "* Se observa que la variable encounter_id representa un id unico por fila, por lo que no tiene interpretabilidad en el modelo, debido a esto se decide eliminar dicha variable"
   ]
  },
  {
   "cell_type": "code",
   "execution_count": 153,
   "id": "3aca4b59-9ff5-4f09-98eb-e31ac0716e47",
   "metadata": {},
   "outputs": [
    {
     "data": {
      "text/plain": [
       "(98052, 39)"
      ]
     },
     "execution_count": 153,
     "metadata": {},
     "output_type": "execute_result"
    }
   ],
   "source": [
    "diabetes = diabetes.drop(columns=\"encounter_id\")\n",
    "diabetes.shape"
   ]
  },
  {
   "cell_type": "markdown",
   "id": "2ce0a3a6-3481-4fce-9cc2-831bcbc0ed09",
   "metadata": {},
   "source": [
    "### Feature Engineering\n",
    "##### Para el proceso de ingeniería de variables, se tendran en cuenta las siguientes posibilidades.\n",
    "* Convertir la variable de edad a un valor numérico en vez de una variable categórica\n",
    "* Juntar las variables de visitas a hospital en una sola.\n",
    "* Limitar los duplicados por paciente con la variable patient_nbr\n",
    "* Combinar los valores steady, up, down de los movimientos de distintos medicamentes, para asi hacer que la variable se convierte en binaria y tenga en cuenta  solo si el medicamente esta presente o sei se sufrió algun cambio en el mismo\n",
    "* Convertir las variables categóricas en variables numéricas, a mano en casos sencillos y usando una libreria en casos mas complejos\n",
    "* Definir la variable objetivo como un problema binario"
   ]
  },
  {
   "cell_type": "markdown",
   "id": "349d9180-8500-42b9-b0ba-5aa3e89734eb",
   "metadata": {},
   "source": [
    "#### Edad: se convierte de variable categórica en rango a variable numérica\n",
    "* Para esto se toma la mitad del rango y se define como la edad de cada persona, ya que no se cuenta con una aproximación mas detallada"
   ]
  },
  {
   "cell_type": "code",
   "execution_count": 154,
   "id": "ee730eaf-21d8-4a83-a9a0-2018bc8cd5d1",
   "metadata": {},
   "outputs": [
    {
     "data": {
      "text/plain": [
       "array(['[10-20)', '[20-30)', '[30-40)', '[40-50)', '[50-60)', '[60-70)',\n",
       "       '[70-80)', '[80-90)', '[90-100)', '[0-10)'], dtype=object)"
      ]
     },
     "execution_count": 154,
     "metadata": {},
     "output_type": "execute_result"
    }
   ],
   "source": [
    "diabetes.age.unique()"
   ]
  },
  {
   "cell_type": "code",
   "execution_count": 155,
   "id": "f2ceafdd-cb40-402c-bd15-f5c68ad0382b",
   "metadata": {},
   "outputs": [],
   "source": [
    "age_map_dict = {\n",
    "    '[10-20)': 15,\n",
    "    '[20-30)': 25,\n",
    "    '[30-40)': 35,\n",
    "    '[40-50)': 45,\n",
    "    '[50-60)': 55,\n",
    "    '[60-70)': 65,\n",
    "    '[70-80)': 75,\n",
    "    '[80-90)': 85,\n",
    "    '[90-100)': 95,\n",
    "    '[0-10)': 5\n",
    "}\n",
    "diabetes = diabetes.replace({\"age\": age_map_dict})"
   ]
  },
  {
   "cell_type": "code",
   "execution_count": 156,
   "id": "a09ef032-5f6e-471b-8597-3aae7af1645c",
   "metadata": {},
   "outputs": [
    {
     "data": {
      "text/html": [
       "<div>\n",
       "<style scoped>\n",
       "    .dataframe tbody tr th:only-of-type {\n",
       "        vertical-align: middle;\n",
       "    }\n",
       "\n",
       "    .dataframe tbody tr th {\n",
       "        vertical-align: top;\n",
       "    }\n",
       "\n",
       "    .dataframe thead th {\n",
       "        text-align: right;\n",
       "    }\n",
       "</style>\n",
       "<table border=\"1\" class=\"dataframe\">\n",
       "  <thead>\n",
       "    <tr style=\"text-align: right;\">\n",
       "      <th></th>\n",
       "      <th>patient_nbr</th>\n",
       "      <th>race</th>\n",
       "      <th>gender</th>\n",
       "      <th>age</th>\n",
       "      <th>admission_type_id</th>\n",
       "      <th>discharge_disposition_id</th>\n",
       "      <th>admission_source_id</th>\n",
       "      <th>time_in_hospital</th>\n",
       "      <th>num_lab_procedures</th>\n",
       "      <th>num_procedures</th>\n",
       "      <th>num_medications</th>\n",
       "      <th>number_outpatient</th>\n",
       "      <th>number_emergency</th>\n",
       "      <th>number_inpatient</th>\n",
       "      <th>diag_1</th>\n",
       "      <th>diag_2</th>\n",
       "      <th>diag_3</th>\n",
       "      <th>number_diagnoses</th>\n",
       "      <th>max_glu_serum</th>\n",
       "      <th>A1Cresult</th>\n",
       "      <th>metformin</th>\n",
       "      <th>repaglinide</th>\n",
       "      <th>nateglinide</th>\n",
       "      <th>chlorpropamide</th>\n",
       "      <th>glimepiride</th>\n",
       "      <th>glipizide</th>\n",
       "      <th>glyburide</th>\n",
       "      <th>tolbutamide</th>\n",
       "      <th>pioglitazone</th>\n",
       "      <th>rosiglitazone</th>\n",
       "      <th>acarbose</th>\n",
       "      <th>miglitol</th>\n",
       "      <th>tolazamide</th>\n",
       "      <th>insulin</th>\n",
       "      <th>glyburide-metformin</th>\n",
       "      <th>glipizide-metformin</th>\n",
       "      <th>change</th>\n",
       "      <th>diabetesMed</th>\n",
       "      <th>readmitted</th>\n",
       "    </tr>\n",
       "  </thead>\n",
       "  <tbody>\n",
       "    <tr>\n",
       "      <th>1</th>\n",
       "      <td>55629189</td>\n",
       "      <td>Caucasian</td>\n",
       "      <td>Female</td>\n",
       "      <td>15</td>\n",
       "      <td>1</td>\n",
       "      <td>1</td>\n",
       "      <td>7</td>\n",
       "      <td>3</td>\n",
       "      <td>59</td>\n",
       "      <td>0</td>\n",
       "      <td>18</td>\n",
       "      <td>0</td>\n",
       "      <td>0</td>\n",
       "      <td>0</td>\n",
       "      <td>Endocrine, Nutritional and Metabolic Diseases,...</td>\n",
       "      <td>Endocrine, Nutritional and Metabolic Diseases,...</td>\n",
       "      <td>Endocrine, Nutritional and Metabolic Diseases,...</td>\n",
       "      <td>9</td>\n",
       "      <td>None</td>\n",
       "      <td>None</td>\n",
       "      <td>No</td>\n",
       "      <td>No</td>\n",
       "      <td>No</td>\n",
       "      <td>No</td>\n",
       "      <td>No</td>\n",
       "      <td>No</td>\n",
       "      <td>No</td>\n",
       "      <td>No</td>\n",
       "      <td>No</td>\n",
       "      <td>No</td>\n",
       "      <td>No</td>\n",
       "      <td>No</td>\n",
       "      <td>No</td>\n",
       "      <td>Up</td>\n",
       "      <td>No</td>\n",
       "      <td>No</td>\n",
       "      <td>Ch</td>\n",
       "      <td>Yes</td>\n",
       "      <td>&gt;30</td>\n",
       "    </tr>\n",
       "    <tr>\n",
       "      <th>2</th>\n",
       "      <td>86047875</td>\n",
       "      <td>AfricanAmerican</td>\n",
       "      <td>Female</td>\n",
       "      <td>25</td>\n",
       "      <td>1</td>\n",
       "      <td>1</td>\n",
       "      <td>7</td>\n",
       "      <td>2</td>\n",
       "      <td>11</td>\n",
       "      <td>5</td>\n",
       "      <td>13</td>\n",
       "      <td>2</td>\n",
       "      <td>0</td>\n",
       "      <td>1</td>\n",
       "      <td>Complications of Pregnancy, Childbirth, and th...</td>\n",
       "      <td>Endocrine, Nutritional and Metabolic Diseases,...</td>\n",
       "      <td>Supplementary Classification of Factors influe...</td>\n",
       "      <td>6</td>\n",
       "      <td>None</td>\n",
       "      <td>None</td>\n",
       "      <td>No</td>\n",
       "      <td>No</td>\n",
       "      <td>No</td>\n",
       "      <td>No</td>\n",
       "      <td>No</td>\n",
       "      <td>Steady</td>\n",
       "      <td>No</td>\n",
       "      <td>No</td>\n",
       "      <td>No</td>\n",
       "      <td>No</td>\n",
       "      <td>No</td>\n",
       "      <td>No</td>\n",
       "      <td>No</td>\n",
       "      <td>No</td>\n",
       "      <td>No</td>\n",
       "      <td>No</td>\n",
       "      <td>No</td>\n",
       "      <td>Yes</td>\n",
       "      <td>NO</td>\n",
       "    </tr>\n",
       "    <tr>\n",
       "      <th>3</th>\n",
       "      <td>82442376</td>\n",
       "      <td>Caucasian</td>\n",
       "      <td>Male</td>\n",
       "      <td>35</td>\n",
       "      <td>1</td>\n",
       "      <td>1</td>\n",
       "      <td>7</td>\n",
       "      <td>2</td>\n",
       "      <td>44</td>\n",
       "      <td>1</td>\n",
       "      <td>16</td>\n",
       "      <td>0</td>\n",
       "      <td>0</td>\n",
       "      <td>0</td>\n",
       "      <td>Infectious and Parasitic Diseases</td>\n",
       "      <td>Endocrine, Nutritional and Metabolic Diseases,...</td>\n",
       "      <td>Diseases of the Circulatory System</td>\n",
       "      <td>7</td>\n",
       "      <td>None</td>\n",
       "      <td>None</td>\n",
       "      <td>No</td>\n",
       "      <td>No</td>\n",
       "      <td>No</td>\n",
       "      <td>No</td>\n",
       "      <td>No</td>\n",
       "      <td>No</td>\n",
       "      <td>No</td>\n",
       "      <td>No</td>\n",
       "      <td>No</td>\n",
       "      <td>No</td>\n",
       "      <td>No</td>\n",
       "      <td>No</td>\n",
       "      <td>No</td>\n",
       "      <td>Up</td>\n",
       "      <td>No</td>\n",
       "      <td>No</td>\n",
       "      <td>Ch</td>\n",
       "      <td>Yes</td>\n",
       "      <td>NO</td>\n",
       "    </tr>\n",
       "  </tbody>\n",
       "</table>\n",
       "</div>"
      ],
      "text/plain": [
       "   patient_nbr             race  gender  age  admission_type_id  \\\n",
       "1     55629189        Caucasian  Female   15                  1   \n",
       "2     86047875  AfricanAmerican  Female   25                  1   \n",
       "3     82442376        Caucasian    Male   35                  1   \n",
       "\n",
       "   discharge_disposition_id  admission_source_id  time_in_hospital  \\\n",
       "1                         1                    7                 3   \n",
       "2                         1                    7                 2   \n",
       "3                         1                    7                 2   \n",
       "\n",
       "   num_lab_procedures  num_procedures  num_medications  number_outpatient  \\\n",
       "1                  59               0               18                  0   \n",
       "2                  11               5               13                  2   \n",
       "3                  44               1               16                  0   \n",
       "\n",
       "   number_emergency  number_inpatient  \\\n",
       "1                 0                 0   \n",
       "2                 0                 1   \n",
       "3                 0                 0   \n",
       "\n",
       "                                              diag_1  \\\n",
       "1  Endocrine, Nutritional and Metabolic Diseases,...   \n",
       "2  Complications of Pregnancy, Childbirth, and th...   \n",
       "3                  Infectious and Parasitic Diseases   \n",
       "\n",
       "                                              diag_2  \\\n",
       "1  Endocrine, Nutritional and Metabolic Diseases,...   \n",
       "2  Endocrine, Nutritional and Metabolic Diseases,...   \n",
       "3  Endocrine, Nutritional and Metabolic Diseases,...   \n",
       "\n",
       "                                              diag_3  number_diagnoses  \\\n",
       "1  Endocrine, Nutritional and Metabolic Diseases,...                 9   \n",
       "2  Supplementary Classification of Factors influe...                 6   \n",
       "3                 Diseases of the Circulatory System                 7   \n",
       "\n",
       "  max_glu_serum A1Cresult metformin repaglinide nateglinide chlorpropamide  \\\n",
       "1          None      None        No          No          No             No   \n",
       "2          None      None        No          No          No             No   \n",
       "3          None      None        No          No          No             No   \n",
       "\n",
       "  glimepiride glipizide glyburide tolbutamide pioglitazone rosiglitazone  \\\n",
       "1          No        No        No          No           No            No   \n",
       "2          No    Steady        No          No           No            No   \n",
       "3          No        No        No          No           No            No   \n",
       "\n",
       "  acarbose miglitol tolazamide insulin glyburide-metformin  \\\n",
       "1       No       No         No      Up                  No   \n",
       "2       No       No         No      No                  No   \n",
       "3       No       No         No      Up                  No   \n",
       "\n",
       "  glipizide-metformin change diabetesMed readmitted  \n",
       "1                  No     Ch         Yes        >30  \n",
       "2                  No     No         Yes         NO  \n",
       "3                  No     Ch         Yes         NO  "
      ]
     },
     "execution_count": 156,
     "metadata": {},
     "output_type": "execute_result"
    }
   ],
   "source": [
    "diabetes.head(3)"
   ]
  },
  {
   "cell_type": "code",
   "execution_count": 157,
   "id": "2d9b8dc3-e6d8-42af-9d65-230120560a66",
   "metadata": {},
   "outputs": [
    {
     "data": {
      "text/plain": [
       "dtype('int64')"
      ]
     },
     "execution_count": 157,
     "metadata": {},
     "output_type": "execute_result"
    }
   ],
   "source": [
    "diabetes.age.dtypes"
   ]
  },
  {
   "cell_type": "markdown",
   "id": "71d3a7de-50ce-46ae-b325-73c499544d74",
   "metadata": {},
   "source": [
    "* Se observa que ahora la variable edad es numérica y se encuentra definida por la mitad del rango que se habia definido inicialmente"
   ]
  },
  {
   "cell_type": "markdown",
   "id": "d113ff22-015b-4d53-8784-270b943f7721",
   "metadata": {},
   "source": [
    "#### Variables de visitas \n",
    "Las variables number_outpatient, number_emergency, number_inpatient se entienden como aquellas visitas medias por parte del usuario, por lo que con el objetivo de reducir la dimensionalidad del ejercicio, se tomarán todas como una suma (sin tener en cuenta un peso mayor para alguna), se definirá la nueva variable como number_visits"
   ]
  },
  {
   "cell_type": "code",
   "execution_count": 158,
   "id": "6a4645c7-fd67-4d6f-b1c0-aef2dddb0627",
   "metadata": {},
   "outputs": [
    {
     "data": {
      "text/html": [
       "<div>\n",
       "<style scoped>\n",
       "    .dataframe tbody tr th:only-of-type {\n",
       "        vertical-align: middle;\n",
       "    }\n",
       "\n",
       "    .dataframe tbody tr th {\n",
       "        vertical-align: top;\n",
       "    }\n",
       "\n",
       "    .dataframe thead th {\n",
       "        text-align: right;\n",
       "    }\n",
       "</style>\n",
       "<table border=\"1\" class=\"dataframe\">\n",
       "  <thead>\n",
       "    <tr style=\"text-align: right;\">\n",
       "      <th></th>\n",
       "      <th>patient_nbr</th>\n",
       "      <th>race</th>\n",
       "      <th>gender</th>\n",
       "      <th>age</th>\n",
       "      <th>admission_type_id</th>\n",
       "      <th>discharge_disposition_id</th>\n",
       "      <th>admission_source_id</th>\n",
       "      <th>time_in_hospital</th>\n",
       "      <th>num_lab_procedures</th>\n",
       "      <th>num_procedures</th>\n",
       "      <th>num_medications</th>\n",
       "      <th>diag_1</th>\n",
       "      <th>diag_2</th>\n",
       "      <th>diag_3</th>\n",
       "      <th>number_diagnoses</th>\n",
       "      <th>max_glu_serum</th>\n",
       "      <th>A1Cresult</th>\n",
       "      <th>metformin</th>\n",
       "      <th>repaglinide</th>\n",
       "      <th>nateglinide</th>\n",
       "      <th>chlorpropamide</th>\n",
       "      <th>glimepiride</th>\n",
       "      <th>glipizide</th>\n",
       "      <th>glyburide</th>\n",
       "      <th>tolbutamide</th>\n",
       "      <th>pioglitazone</th>\n",
       "      <th>rosiglitazone</th>\n",
       "      <th>acarbose</th>\n",
       "      <th>miglitol</th>\n",
       "      <th>tolazamide</th>\n",
       "      <th>insulin</th>\n",
       "      <th>glyburide-metformin</th>\n",
       "      <th>glipizide-metformin</th>\n",
       "      <th>change</th>\n",
       "      <th>diabetesMed</th>\n",
       "      <th>readmitted</th>\n",
       "      <th>number_visits</th>\n",
       "    </tr>\n",
       "  </thead>\n",
       "  <tbody>\n",
       "    <tr>\n",
       "      <th>1</th>\n",
       "      <td>55629189</td>\n",
       "      <td>Caucasian</td>\n",
       "      <td>Female</td>\n",
       "      <td>15</td>\n",
       "      <td>1</td>\n",
       "      <td>1</td>\n",
       "      <td>7</td>\n",
       "      <td>3</td>\n",
       "      <td>59</td>\n",
       "      <td>0</td>\n",
       "      <td>18</td>\n",
       "      <td>Endocrine, Nutritional and Metabolic Diseases,...</td>\n",
       "      <td>Endocrine, Nutritional and Metabolic Diseases,...</td>\n",
       "      <td>Endocrine, Nutritional and Metabolic Diseases,...</td>\n",
       "      <td>9</td>\n",
       "      <td>None</td>\n",
       "      <td>None</td>\n",
       "      <td>No</td>\n",
       "      <td>No</td>\n",
       "      <td>No</td>\n",
       "      <td>No</td>\n",
       "      <td>No</td>\n",
       "      <td>No</td>\n",
       "      <td>No</td>\n",
       "      <td>No</td>\n",
       "      <td>No</td>\n",
       "      <td>No</td>\n",
       "      <td>No</td>\n",
       "      <td>No</td>\n",
       "      <td>No</td>\n",
       "      <td>Up</td>\n",
       "      <td>No</td>\n",
       "      <td>No</td>\n",
       "      <td>Ch</td>\n",
       "      <td>Yes</td>\n",
       "      <td>&gt;30</td>\n",
       "      <td>0</td>\n",
       "    </tr>\n",
       "    <tr>\n",
       "      <th>2</th>\n",
       "      <td>86047875</td>\n",
       "      <td>AfricanAmerican</td>\n",
       "      <td>Female</td>\n",
       "      <td>25</td>\n",
       "      <td>1</td>\n",
       "      <td>1</td>\n",
       "      <td>7</td>\n",
       "      <td>2</td>\n",
       "      <td>11</td>\n",
       "      <td>5</td>\n",
       "      <td>13</td>\n",
       "      <td>Complications of Pregnancy, Childbirth, and th...</td>\n",
       "      <td>Endocrine, Nutritional and Metabolic Diseases,...</td>\n",
       "      <td>Supplementary Classification of Factors influe...</td>\n",
       "      <td>6</td>\n",
       "      <td>None</td>\n",
       "      <td>None</td>\n",
       "      <td>No</td>\n",
       "      <td>No</td>\n",
       "      <td>No</td>\n",
       "      <td>No</td>\n",
       "      <td>No</td>\n",
       "      <td>Steady</td>\n",
       "      <td>No</td>\n",
       "      <td>No</td>\n",
       "      <td>No</td>\n",
       "      <td>No</td>\n",
       "      <td>No</td>\n",
       "      <td>No</td>\n",
       "      <td>No</td>\n",
       "      <td>No</td>\n",
       "      <td>No</td>\n",
       "      <td>No</td>\n",
       "      <td>No</td>\n",
       "      <td>Yes</td>\n",
       "      <td>NO</td>\n",
       "      <td>3</td>\n",
       "    </tr>\n",
       "    <tr>\n",
       "      <th>3</th>\n",
       "      <td>82442376</td>\n",
       "      <td>Caucasian</td>\n",
       "      <td>Male</td>\n",
       "      <td>35</td>\n",
       "      <td>1</td>\n",
       "      <td>1</td>\n",
       "      <td>7</td>\n",
       "      <td>2</td>\n",
       "      <td>44</td>\n",
       "      <td>1</td>\n",
       "      <td>16</td>\n",
       "      <td>Infectious and Parasitic Diseases</td>\n",
       "      <td>Endocrine, Nutritional and Metabolic Diseases,...</td>\n",
       "      <td>Diseases of the Circulatory System</td>\n",
       "      <td>7</td>\n",
       "      <td>None</td>\n",
       "      <td>None</td>\n",
       "      <td>No</td>\n",
       "      <td>No</td>\n",
       "      <td>No</td>\n",
       "      <td>No</td>\n",
       "      <td>No</td>\n",
       "      <td>No</td>\n",
       "      <td>No</td>\n",
       "      <td>No</td>\n",
       "      <td>No</td>\n",
       "      <td>No</td>\n",
       "      <td>No</td>\n",
       "      <td>No</td>\n",
       "      <td>No</td>\n",
       "      <td>Up</td>\n",
       "      <td>No</td>\n",
       "      <td>No</td>\n",
       "      <td>Ch</td>\n",
       "      <td>Yes</td>\n",
       "      <td>NO</td>\n",
       "      <td>0</td>\n",
       "    </tr>\n",
       "    <tr>\n",
       "      <th>4</th>\n",
       "      <td>42519267</td>\n",
       "      <td>Caucasian</td>\n",
       "      <td>Male</td>\n",
       "      <td>45</td>\n",
       "      <td>1</td>\n",
       "      <td>1</td>\n",
       "      <td>7</td>\n",
       "      <td>1</td>\n",
       "      <td>51</td>\n",
       "      <td>0</td>\n",
       "      <td>8</td>\n",
       "      <td>Neoplasms</td>\n",
       "      <td>Neoplasms</td>\n",
       "      <td>Endocrine, Nutritional and Metabolic Diseases,...</td>\n",
       "      <td>5</td>\n",
       "      <td>None</td>\n",
       "      <td>None</td>\n",
       "      <td>No</td>\n",
       "      <td>No</td>\n",
       "      <td>No</td>\n",
       "      <td>No</td>\n",
       "      <td>No</td>\n",
       "      <td>Steady</td>\n",
       "      <td>No</td>\n",
       "      <td>No</td>\n",
       "      <td>No</td>\n",
       "      <td>No</td>\n",
       "      <td>No</td>\n",
       "      <td>No</td>\n",
       "      <td>No</td>\n",
       "      <td>Steady</td>\n",
       "      <td>No</td>\n",
       "      <td>No</td>\n",
       "      <td>Ch</td>\n",
       "      <td>Yes</td>\n",
       "      <td>NO</td>\n",
       "      <td>0</td>\n",
       "    </tr>\n",
       "    <tr>\n",
       "      <th>5</th>\n",
       "      <td>82637451</td>\n",
       "      <td>Caucasian</td>\n",
       "      <td>Male</td>\n",
       "      <td>55</td>\n",
       "      <td>2</td>\n",
       "      <td>1</td>\n",
       "      <td>2</td>\n",
       "      <td>3</td>\n",
       "      <td>31</td>\n",
       "      <td>6</td>\n",
       "      <td>16</td>\n",
       "      <td>Diseases of the Circulatory System</td>\n",
       "      <td>Diseases of the Circulatory System</td>\n",
       "      <td>Endocrine, Nutritional and Metabolic Diseases,...</td>\n",
       "      <td>9</td>\n",
       "      <td>None</td>\n",
       "      <td>None</td>\n",
       "      <td>No</td>\n",
       "      <td>No</td>\n",
       "      <td>No</td>\n",
       "      <td>No</td>\n",
       "      <td>No</td>\n",
       "      <td>No</td>\n",
       "      <td>No</td>\n",
       "      <td>No</td>\n",
       "      <td>No</td>\n",
       "      <td>No</td>\n",
       "      <td>No</td>\n",
       "      <td>No</td>\n",
       "      <td>No</td>\n",
       "      <td>Steady</td>\n",
       "      <td>No</td>\n",
       "      <td>No</td>\n",
       "      <td>No</td>\n",
       "      <td>Yes</td>\n",
       "      <td>&gt;30</td>\n",
       "      <td>0</td>\n",
       "    </tr>\n",
       "  </tbody>\n",
       "</table>\n",
       "</div>"
      ],
      "text/plain": [
       "   patient_nbr             race  gender  age  admission_type_id  \\\n",
       "1     55629189        Caucasian  Female   15                  1   \n",
       "2     86047875  AfricanAmerican  Female   25                  1   \n",
       "3     82442376        Caucasian    Male   35                  1   \n",
       "4     42519267        Caucasian    Male   45                  1   \n",
       "5     82637451        Caucasian    Male   55                  2   \n",
       "\n",
       "   discharge_disposition_id  admission_source_id  time_in_hospital  \\\n",
       "1                         1                    7                 3   \n",
       "2                         1                    7                 2   \n",
       "3                         1                    7                 2   \n",
       "4                         1                    7                 1   \n",
       "5                         1                    2                 3   \n",
       "\n",
       "   num_lab_procedures  num_procedures  num_medications  \\\n",
       "1                  59               0               18   \n",
       "2                  11               5               13   \n",
       "3                  44               1               16   \n",
       "4                  51               0                8   \n",
       "5                  31               6               16   \n",
       "\n",
       "                                              diag_1  \\\n",
       "1  Endocrine, Nutritional and Metabolic Diseases,...   \n",
       "2  Complications of Pregnancy, Childbirth, and th...   \n",
       "3                  Infectious and Parasitic Diseases   \n",
       "4                                          Neoplasms   \n",
       "5                 Diseases of the Circulatory System   \n",
       "\n",
       "                                              diag_2  \\\n",
       "1  Endocrine, Nutritional and Metabolic Diseases,...   \n",
       "2  Endocrine, Nutritional and Metabolic Diseases,...   \n",
       "3  Endocrine, Nutritional and Metabolic Diseases,...   \n",
       "4                                          Neoplasms   \n",
       "5                 Diseases of the Circulatory System   \n",
       "\n",
       "                                              diag_3  number_diagnoses  \\\n",
       "1  Endocrine, Nutritional and Metabolic Diseases,...                 9   \n",
       "2  Supplementary Classification of Factors influe...                 6   \n",
       "3                 Diseases of the Circulatory System                 7   \n",
       "4  Endocrine, Nutritional and Metabolic Diseases,...                 5   \n",
       "5  Endocrine, Nutritional and Metabolic Diseases,...                 9   \n",
       "\n",
       "  max_glu_serum A1Cresult metformin repaglinide nateglinide chlorpropamide  \\\n",
       "1          None      None        No          No          No             No   \n",
       "2          None      None        No          No          No             No   \n",
       "3          None      None        No          No          No             No   \n",
       "4          None      None        No          No          No             No   \n",
       "5          None      None        No          No          No             No   \n",
       "\n",
       "  glimepiride glipizide glyburide tolbutamide pioglitazone rosiglitazone  \\\n",
       "1          No        No        No          No           No            No   \n",
       "2          No    Steady        No          No           No            No   \n",
       "3          No        No        No          No           No            No   \n",
       "4          No    Steady        No          No           No            No   \n",
       "5          No        No        No          No           No            No   \n",
       "\n",
       "  acarbose miglitol tolazamide insulin glyburide-metformin  \\\n",
       "1       No       No         No      Up                  No   \n",
       "2       No       No         No      No                  No   \n",
       "3       No       No         No      Up                  No   \n",
       "4       No       No         No  Steady                  No   \n",
       "5       No       No         No  Steady                  No   \n",
       "\n",
       "  glipizide-metformin change diabetesMed readmitted  number_visits  \n",
       "1                  No     Ch         Yes        >30              0  \n",
       "2                  No     No         Yes         NO              3  \n",
       "3                  No     Ch         Yes         NO              0  \n",
       "4                  No     Ch         Yes         NO              0  \n",
       "5                  No     No         Yes        >30              0  "
      ]
     },
     "execution_count": 158,
     "metadata": {},
     "output_type": "execute_result"
    }
   ],
   "source": [
    "diabetes['number_visits'] = diabetes['number_outpatient'] + diabetes['number_emergency'] + diabetes['number_inpatient']\n",
    "diabetes = diabetes.drop(columns=[\"number_outpatient\", \"number_emergency\" , \"number_inpatient\" ])\n",
    "diabetes.head()"
   ]
  },
  {
   "cell_type": "markdown",
   "id": "1c7552b0-166d-4d4d-9b90-06014a723562",
   "metadata": {},
   "source": [
    "* Se ha creado la nueva variable number_visits, y además se han eliminado las columnas de number_outpatient, number_emergency, number_inpatient"
   ]
  },
  {
   "cell_type": "markdown",
   "id": "fb3dce12-603e-49a0-a577-2c86e37c380a",
   "metadata": {},
   "source": [
    "#### Pacientes duplicados\n",
    "Analizando el caso de la columna patient_nbr se observa que representa la identificación de cada paciente, por lo que al haber casos repetidos, significa que el paciente pudo haber sido readmitido y se le hizo el mismo estudio, agregandolo al dataset, considero que seria viable eliminar los duplicados de patinet_nbr, dejando solo la primera aparición de cada usuario, para asi limitar a la posibilidad de que cada usuario aparezca una vez y se defina si ha sido readmitido o no"
   ]
  },
  {
   "cell_type": "code",
   "execution_count": 159,
   "id": "59f215c7-a863-45e1-a7a5-e30ca9ba1300",
   "metadata": {},
   "outputs": [
    {
     "data": {
      "text/plain": [
       "(98052, 37)"
      ]
     },
     "execution_count": 159,
     "metadata": {},
     "output_type": "execute_result"
    }
   ],
   "source": [
    "diabetes.shape"
   ]
  },
  {
   "cell_type": "code",
   "execution_count": 160,
   "id": "9fc5bf3b-bf6b-433e-bb3a-2aba00046f8e",
   "metadata": {},
   "outputs": [
    {
     "data": {
      "text/plain": [
       "(68629, 37)"
      ]
     },
     "execution_count": 160,
     "metadata": {},
     "output_type": "execute_result"
    }
   ],
   "source": [
    "diabetes = diabetes.drop_duplicates(subset= ['patient_nbr'], keep = 'first')\n",
    "diabetes.shape"
   ]
  },
  {
   "cell_type": "markdown",
   "id": "468148c8-eec3-48f2-bbe7-3cb52fc9fa0f",
   "metadata": {},
   "source": [
    "Despues de haber hecho este procedimiento, la variable patient_nbr puede ser eliminada del dataset, ya que al contener solo valores unicos, no aportará al modelo\n"
   ]
  },
  {
   "cell_type": "code",
   "execution_count": 161,
   "id": "a4296712-337e-4f79-b268-e82d3d4c39c8",
   "metadata": {},
   "outputs": [],
   "source": [
    "diabetes = diabetes.drop(columns=\"patient_nbr\")"
   ]
  },
  {
   "cell_type": "markdown",
   "id": "844fe680-40c4-4271-92a7-1299c7767545",
   "metadata": {},
   "source": [
    "* Se observa que al reducir los pacientes duplicados se reduce el dataset de 98052 filas a 68629, aunque es una perdida considerable de alrededor de 30 mil datos, continuare con este set de datos bajo mi suposición de que es mejor tener a cada paciente solo en su primer registro"
   ]
  },
  {
   "cell_type": "markdown",
   "id": "c92a6a4f-b5eb-4576-a3c8-0483327d559d",
   "metadata": {},
   "source": [
    "#### Valores Steady, Up, Down\n",
    "Para todas las columnas presentes de medicamentos donde los valores son No, Steady, Up, Down, planteo estandarizar los ultimos 3 valores en uno solo, y convertir la variable en numérica, para asi volverla binaria y observar si puede tener mayor capacidad de aportar al modelo"
   ]
  },
  {
   "cell_type": "code",
   "execution_count": 162,
   "id": "5acec15a-0f14-416f-964f-da8bf1a13fb9",
   "metadata": {},
   "outputs": [
    {
     "data": {
      "text/html": [
       "<div>\n",
       "<style scoped>\n",
       "    .dataframe tbody tr th:only-of-type {\n",
       "        vertical-align: middle;\n",
       "    }\n",
       "\n",
       "    .dataframe tbody tr th {\n",
       "        vertical-align: top;\n",
       "    }\n",
       "\n",
       "    .dataframe thead th {\n",
       "        text-align: right;\n",
       "    }\n",
       "</style>\n",
       "<table border=\"1\" class=\"dataframe\">\n",
       "  <thead>\n",
       "    <tr style=\"text-align: right;\">\n",
       "      <th></th>\n",
       "      <th>race</th>\n",
       "      <th>gender</th>\n",
       "      <th>age</th>\n",
       "      <th>admission_type_id</th>\n",
       "      <th>discharge_disposition_id</th>\n",
       "      <th>admission_source_id</th>\n",
       "      <th>time_in_hospital</th>\n",
       "      <th>num_lab_procedures</th>\n",
       "      <th>num_procedures</th>\n",
       "      <th>num_medications</th>\n",
       "      <th>diag_1</th>\n",
       "      <th>diag_2</th>\n",
       "      <th>diag_3</th>\n",
       "      <th>number_diagnoses</th>\n",
       "      <th>max_glu_serum</th>\n",
       "      <th>A1Cresult</th>\n",
       "      <th>metformin</th>\n",
       "      <th>repaglinide</th>\n",
       "      <th>nateglinide</th>\n",
       "      <th>chlorpropamide</th>\n",
       "      <th>glimepiride</th>\n",
       "      <th>glipizide</th>\n",
       "      <th>glyburide</th>\n",
       "      <th>tolbutamide</th>\n",
       "      <th>pioglitazone</th>\n",
       "      <th>rosiglitazone</th>\n",
       "      <th>acarbose</th>\n",
       "      <th>miglitol</th>\n",
       "      <th>tolazamide</th>\n",
       "      <th>insulin</th>\n",
       "      <th>glyburide-metformin</th>\n",
       "      <th>glipizide-metformin</th>\n",
       "      <th>change</th>\n",
       "      <th>diabetesMed</th>\n",
       "      <th>readmitted</th>\n",
       "      <th>number_visits</th>\n",
       "    </tr>\n",
       "  </thead>\n",
       "  <tbody>\n",
       "    <tr>\n",
       "      <th>1</th>\n",
       "      <td>Caucasian</td>\n",
       "      <td>Female</td>\n",
       "      <td>15</td>\n",
       "      <td>1</td>\n",
       "      <td>1</td>\n",
       "      <td>7</td>\n",
       "      <td>3</td>\n",
       "      <td>59</td>\n",
       "      <td>0</td>\n",
       "      <td>18</td>\n",
       "      <td>Endocrine, Nutritional and Metabolic Diseases,...</td>\n",
       "      <td>Endocrine, Nutritional and Metabolic Diseases,...</td>\n",
       "      <td>Endocrine, Nutritional and Metabolic Diseases,...</td>\n",
       "      <td>9</td>\n",
       "      <td>None</td>\n",
       "      <td>None</td>\n",
       "      <td>No</td>\n",
       "      <td>No</td>\n",
       "      <td>No</td>\n",
       "      <td>No</td>\n",
       "      <td>No</td>\n",
       "      <td>No</td>\n",
       "      <td>No</td>\n",
       "      <td>No</td>\n",
       "      <td>No</td>\n",
       "      <td>No</td>\n",
       "      <td>No</td>\n",
       "      <td>No</td>\n",
       "      <td>No</td>\n",
       "      <td>Up</td>\n",
       "      <td>No</td>\n",
       "      <td>No</td>\n",
       "      <td>Ch</td>\n",
       "      <td>Yes</td>\n",
       "      <td>&gt;30</td>\n",
       "      <td>0</td>\n",
       "    </tr>\n",
       "    <tr>\n",
       "      <th>2</th>\n",
       "      <td>AfricanAmerican</td>\n",
       "      <td>Female</td>\n",
       "      <td>25</td>\n",
       "      <td>1</td>\n",
       "      <td>1</td>\n",
       "      <td>7</td>\n",
       "      <td>2</td>\n",
       "      <td>11</td>\n",
       "      <td>5</td>\n",
       "      <td>13</td>\n",
       "      <td>Complications of Pregnancy, Childbirth, and th...</td>\n",
       "      <td>Endocrine, Nutritional and Metabolic Diseases,...</td>\n",
       "      <td>Supplementary Classification of Factors influe...</td>\n",
       "      <td>6</td>\n",
       "      <td>None</td>\n",
       "      <td>None</td>\n",
       "      <td>No</td>\n",
       "      <td>No</td>\n",
       "      <td>No</td>\n",
       "      <td>No</td>\n",
       "      <td>No</td>\n",
       "      <td>Steady</td>\n",
       "      <td>No</td>\n",
       "      <td>No</td>\n",
       "      <td>No</td>\n",
       "      <td>No</td>\n",
       "      <td>No</td>\n",
       "      <td>No</td>\n",
       "      <td>No</td>\n",
       "      <td>No</td>\n",
       "      <td>No</td>\n",
       "      <td>No</td>\n",
       "      <td>No</td>\n",
       "      <td>Yes</td>\n",
       "      <td>NO</td>\n",
       "      <td>3</td>\n",
       "    </tr>\n",
       "    <tr>\n",
       "      <th>3</th>\n",
       "      <td>Caucasian</td>\n",
       "      <td>Male</td>\n",
       "      <td>35</td>\n",
       "      <td>1</td>\n",
       "      <td>1</td>\n",
       "      <td>7</td>\n",
       "      <td>2</td>\n",
       "      <td>44</td>\n",
       "      <td>1</td>\n",
       "      <td>16</td>\n",
       "      <td>Infectious and Parasitic Diseases</td>\n",
       "      <td>Endocrine, Nutritional and Metabolic Diseases,...</td>\n",
       "      <td>Diseases of the Circulatory System</td>\n",
       "      <td>7</td>\n",
       "      <td>None</td>\n",
       "      <td>None</td>\n",
       "      <td>No</td>\n",
       "      <td>No</td>\n",
       "      <td>No</td>\n",
       "      <td>No</td>\n",
       "      <td>No</td>\n",
       "      <td>No</td>\n",
       "      <td>No</td>\n",
       "      <td>No</td>\n",
       "      <td>No</td>\n",
       "      <td>No</td>\n",
       "      <td>No</td>\n",
       "      <td>No</td>\n",
       "      <td>No</td>\n",
       "      <td>Up</td>\n",
       "      <td>No</td>\n",
       "      <td>No</td>\n",
       "      <td>Ch</td>\n",
       "      <td>Yes</td>\n",
       "      <td>NO</td>\n",
       "      <td>0</td>\n",
       "    </tr>\n",
       "    <tr>\n",
       "      <th>4</th>\n",
       "      <td>Caucasian</td>\n",
       "      <td>Male</td>\n",
       "      <td>45</td>\n",
       "      <td>1</td>\n",
       "      <td>1</td>\n",
       "      <td>7</td>\n",
       "      <td>1</td>\n",
       "      <td>51</td>\n",
       "      <td>0</td>\n",
       "      <td>8</td>\n",
       "      <td>Neoplasms</td>\n",
       "      <td>Neoplasms</td>\n",
       "      <td>Endocrine, Nutritional and Metabolic Diseases,...</td>\n",
       "      <td>5</td>\n",
       "      <td>None</td>\n",
       "      <td>None</td>\n",
       "      <td>No</td>\n",
       "      <td>No</td>\n",
       "      <td>No</td>\n",
       "      <td>No</td>\n",
       "      <td>No</td>\n",
       "      <td>Steady</td>\n",
       "      <td>No</td>\n",
       "      <td>No</td>\n",
       "      <td>No</td>\n",
       "      <td>No</td>\n",
       "      <td>No</td>\n",
       "      <td>No</td>\n",
       "      <td>No</td>\n",
       "      <td>Steady</td>\n",
       "      <td>No</td>\n",
       "      <td>No</td>\n",
       "      <td>Ch</td>\n",
       "      <td>Yes</td>\n",
       "      <td>NO</td>\n",
       "      <td>0</td>\n",
       "    </tr>\n",
       "    <tr>\n",
       "      <th>5</th>\n",
       "      <td>Caucasian</td>\n",
       "      <td>Male</td>\n",
       "      <td>55</td>\n",
       "      <td>2</td>\n",
       "      <td>1</td>\n",
       "      <td>2</td>\n",
       "      <td>3</td>\n",
       "      <td>31</td>\n",
       "      <td>6</td>\n",
       "      <td>16</td>\n",
       "      <td>Diseases of the Circulatory System</td>\n",
       "      <td>Diseases of the Circulatory System</td>\n",
       "      <td>Endocrine, Nutritional and Metabolic Diseases,...</td>\n",
       "      <td>9</td>\n",
       "      <td>None</td>\n",
       "      <td>None</td>\n",
       "      <td>No</td>\n",
       "      <td>No</td>\n",
       "      <td>No</td>\n",
       "      <td>No</td>\n",
       "      <td>No</td>\n",
       "      <td>No</td>\n",
       "      <td>No</td>\n",
       "      <td>No</td>\n",
       "      <td>No</td>\n",
       "      <td>No</td>\n",
       "      <td>No</td>\n",
       "      <td>No</td>\n",
       "      <td>No</td>\n",
       "      <td>Steady</td>\n",
       "      <td>No</td>\n",
       "      <td>No</td>\n",
       "      <td>No</td>\n",
       "      <td>Yes</td>\n",
       "      <td>&gt;30</td>\n",
       "      <td>0</td>\n",
       "    </tr>\n",
       "    <tr>\n",
       "      <th>6</th>\n",
       "      <td>Caucasian</td>\n",
       "      <td>Male</td>\n",
       "      <td>65</td>\n",
       "      <td>3</td>\n",
       "      <td>1</td>\n",
       "      <td>2</td>\n",
       "      <td>4</td>\n",
       "      <td>70</td>\n",
       "      <td>1</td>\n",
       "      <td>21</td>\n",
       "      <td>Diseases of the Circulatory System</td>\n",
       "      <td>Diseases of the Circulatory System</td>\n",
       "      <td>Supplementary Classification of Factors influe...</td>\n",
       "      <td>7</td>\n",
       "      <td>None</td>\n",
       "      <td>None</td>\n",
       "      <td>Steady</td>\n",
       "      <td>No</td>\n",
       "      <td>No</td>\n",
       "      <td>No</td>\n",
       "      <td>Steady</td>\n",
       "      <td>No</td>\n",
       "      <td>No</td>\n",
       "      <td>No</td>\n",
       "      <td>No</td>\n",
       "      <td>No</td>\n",
       "      <td>No</td>\n",
       "      <td>No</td>\n",
       "      <td>No</td>\n",
       "      <td>Steady</td>\n",
       "      <td>No</td>\n",
       "      <td>No</td>\n",
       "      <td>Ch</td>\n",
       "      <td>Yes</td>\n",
       "      <td>NO</td>\n",
       "      <td>0</td>\n",
       "    </tr>\n",
       "    <tr>\n",
       "      <th>7</th>\n",
       "      <td>Caucasian</td>\n",
       "      <td>Male</td>\n",
       "      <td>75</td>\n",
       "      <td>1</td>\n",
       "      <td>1</td>\n",
       "      <td>7</td>\n",
       "      <td>5</td>\n",
       "      <td>73</td>\n",
       "      <td>0</td>\n",
       "      <td>12</td>\n",
       "      <td>Diseases of the Circulatory System</td>\n",
       "      <td>Diseases of the Respiratory System</td>\n",
       "      <td>Endocrine, Nutritional and Metabolic Diseases,...</td>\n",
       "      <td>8</td>\n",
       "      <td>None</td>\n",
       "      <td>None</td>\n",
       "      <td>No</td>\n",
       "      <td>No</td>\n",
       "      <td>No</td>\n",
       "      <td>No</td>\n",
       "      <td>No</td>\n",
       "      <td>No</td>\n",
       "      <td>Steady</td>\n",
       "      <td>No</td>\n",
       "      <td>No</td>\n",
       "      <td>No</td>\n",
       "      <td>No</td>\n",
       "      <td>No</td>\n",
       "      <td>No</td>\n",
       "      <td>No</td>\n",
       "      <td>No</td>\n",
       "      <td>No</td>\n",
       "      <td>No</td>\n",
       "      <td>Yes</td>\n",
       "      <td>&gt;30</td>\n",
       "      <td>0</td>\n",
       "    </tr>\n",
       "    <tr>\n",
       "      <th>8</th>\n",
       "      <td>Caucasian</td>\n",
       "      <td>Female</td>\n",
       "      <td>85</td>\n",
       "      <td>2</td>\n",
       "      <td>1</td>\n",
       "      <td>4</td>\n",
       "      <td>13</td>\n",
       "      <td>68</td>\n",
       "      <td>2</td>\n",
       "      <td>28</td>\n",
       "      <td>Diseases of the Circulatory System</td>\n",
       "      <td>Diseases of the Circulatory System</td>\n",
       "      <td>Infectious and Parasitic Diseases</td>\n",
       "      <td>8</td>\n",
       "      <td>None</td>\n",
       "      <td>None</td>\n",
       "      <td>No</td>\n",
       "      <td>No</td>\n",
       "      <td>No</td>\n",
       "      <td>No</td>\n",
       "      <td>No</td>\n",
       "      <td>Steady</td>\n",
       "      <td>No</td>\n",
       "      <td>No</td>\n",
       "      <td>No</td>\n",
       "      <td>No</td>\n",
       "      <td>No</td>\n",
       "      <td>No</td>\n",
       "      <td>No</td>\n",
       "      <td>Steady</td>\n",
       "      <td>No</td>\n",
       "      <td>No</td>\n",
       "      <td>Ch</td>\n",
       "      <td>Yes</td>\n",
       "      <td>NO</td>\n",
       "      <td>0</td>\n",
       "    </tr>\n",
       "    <tr>\n",
       "      <th>9</th>\n",
       "      <td>Caucasian</td>\n",
       "      <td>Female</td>\n",
       "      <td>95</td>\n",
       "      <td>3</td>\n",
       "      <td>3</td>\n",
       "      <td>4</td>\n",
       "      <td>12</td>\n",
       "      <td>33</td>\n",
       "      <td>3</td>\n",
       "      <td>18</td>\n",
       "      <td>Diseases of the Circulatory System</td>\n",
       "      <td>Neoplasms</td>\n",
       "      <td>Diseases of the Respiratory System</td>\n",
       "      <td>8</td>\n",
       "      <td>None</td>\n",
       "      <td>None</td>\n",
       "      <td>No</td>\n",
       "      <td>No</td>\n",
       "      <td>No</td>\n",
       "      <td>No</td>\n",
       "      <td>No</td>\n",
       "      <td>No</td>\n",
       "      <td>No</td>\n",
       "      <td>No</td>\n",
       "      <td>No</td>\n",
       "      <td>Steady</td>\n",
       "      <td>No</td>\n",
       "      <td>No</td>\n",
       "      <td>No</td>\n",
       "      <td>Steady</td>\n",
       "      <td>No</td>\n",
       "      <td>No</td>\n",
       "      <td>Ch</td>\n",
       "      <td>Yes</td>\n",
       "      <td>NO</td>\n",
       "      <td>0</td>\n",
       "    </tr>\n",
       "    <tr>\n",
       "      <th>10</th>\n",
       "      <td>AfricanAmerican</td>\n",
       "      <td>Female</td>\n",
       "      <td>45</td>\n",
       "      <td>1</td>\n",
       "      <td>1</td>\n",
       "      <td>7</td>\n",
       "      <td>9</td>\n",
       "      <td>47</td>\n",
       "      <td>2</td>\n",
       "      <td>17</td>\n",
       "      <td>Endocrine, Nutritional and Metabolic Diseases,...</td>\n",
       "      <td>Diseases of the Circulatory System</td>\n",
       "      <td>Injury and Poisoning</td>\n",
       "      <td>9</td>\n",
       "      <td>None</td>\n",
       "      <td>None</td>\n",
       "      <td>No</td>\n",
       "      <td>No</td>\n",
       "      <td>No</td>\n",
       "      <td>No</td>\n",
       "      <td>No</td>\n",
       "      <td>No</td>\n",
       "      <td>No</td>\n",
       "      <td>No</td>\n",
       "      <td>No</td>\n",
       "      <td>No</td>\n",
       "      <td>No</td>\n",
       "      <td>No</td>\n",
       "      <td>No</td>\n",
       "      <td>Steady</td>\n",
       "      <td>No</td>\n",
       "      <td>No</td>\n",
       "      <td>No</td>\n",
       "      <td>Yes</td>\n",
       "      <td>&gt;30</td>\n",
       "      <td>0</td>\n",
       "    </tr>\n",
       "  </tbody>\n",
       "</table>\n",
       "</div>"
      ],
      "text/plain": [
       "               race  gender  age  admission_type_id  discharge_disposition_id  \\\n",
       "1         Caucasian  Female   15                  1                         1   \n",
       "2   AfricanAmerican  Female   25                  1                         1   \n",
       "3         Caucasian    Male   35                  1                         1   \n",
       "4         Caucasian    Male   45                  1                         1   \n",
       "5         Caucasian    Male   55                  2                         1   \n",
       "6         Caucasian    Male   65                  3                         1   \n",
       "7         Caucasian    Male   75                  1                         1   \n",
       "8         Caucasian  Female   85                  2                         1   \n",
       "9         Caucasian  Female   95                  3                         3   \n",
       "10  AfricanAmerican  Female   45                  1                         1   \n",
       "\n",
       "    admission_source_id  time_in_hospital  num_lab_procedures  num_procedures  \\\n",
       "1                     7                 3                  59               0   \n",
       "2                     7                 2                  11               5   \n",
       "3                     7                 2                  44               1   \n",
       "4                     7                 1                  51               0   \n",
       "5                     2                 3                  31               6   \n",
       "6                     2                 4                  70               1   \n",
       "7                     7                 5                  73               0   \n",
       "8                     4                13                  68               2   \n",
       "9                     4                12                  33               3   \n",
       "10                    7                 9                  47               2   \n",
       "\n",
       "    num_medications                                             diag_1  \\\n",
       "1                18  Endocrine, Nutritional and Metabolic Diseases,...   \n",
       "2                13  Complications of Pregnancy, Childbirth, and th...   \n",
       "3                16                  Infectious and Parasitic Diseases   \n",
       "4                 8                                          Neoplasms   \n",
       "5                16                 Diseases of the Circulatory System   \n",
       "6                21                 Diseases of the Circulatory System   \n",
       "7                12                 Diseases of the Circulatory System   \n",
       "8                28                 Diseases of the Circulatory System   \n",
       "9                18                 Diseases of the Circulatory System   \n",
       "10               17  Endocrine, Nutritional and Metabolic Diseases,...   \n",
       "\n",
       "                                               diag_2  \\\n",
       "1   Endocrine, Nutritional and Metabolic Diseases,...   \n",
       "2   Endocrine, Nutritional and Metabolic Diseases,...   \n",
       "3   Endocrine, Nutritional and Metabolic Diseases,...   \n",
       "4                                           Neoplasms   \n",
       "5                  Diseases of the Circulatory System   \n",
       "6                  Diseases of the Circulatory System   \n",
       "7                  Diseases of the Respiratory System   \n",
       "8                  Diseases of the Circulatory System   \n",
       "9                                           Neoplasms   \n",
       "10                 Diseases of the Circulatory System   \n",
       "\n",
       "                                               diag_3  number_diagnoses  \\\n",
       "1   Endocrine, Nutritional and Metabolic Diseases,...                 9   \n",
       "2   Supplementary Classification of Factors influe...                 6   \n",
       "3                  Diseases of the Circulatory System                 7   \n",
       "4   Endocrine, Nutritional and Metabolic Diseases,...                 5   \n",
       "5   Endocrine, Nutritional and Metabolic Diseases,...                 9   \n",
       "6   Supplementary Classification of Factors influe...                 7   \n",
       "7   Endocrine, Nutritional and Metabolic Diseases,...                 8   \n",
       "8                   Infectious and Parasitic Diseases                 8   \n",
       "9                  Diseases of the Respiratory System                 8   \n",
       "10                               Injury and Poisoning                 9   \n",
       "\n",
       "   max_glu_serum A1Cresult metformin repaglinide nateglinide chlorpropamide  \\\n",
       "1           None      None        No          No          No             No   \n",
       "2           None      None        No          No          No             No   \n",
       "3           None      None        No          No          No             No   \n",
       "4           None      None        No          No          No             No   \n",
       "5           None      None        No          No          No             No   \n",
       "6           None      None    Steady          No          No             No   \n",
       "7           None      None        No          No          No             No   \n",
       "8           None      None        No          No          No             No   \n",
       "9           None      None        No          No          No             No   \n",
       "10          None      None        No          No          No             No   \n",
       "\n",
       "   glimepiride glipizide glyburide tolbutamide pioglitazone rosiglitazone  \\\n",
       "1           No        No        No          No           No            No   \n",
       "2           No    Steady        No          No           No            No   \n",
       "3           No        No        No          No           No            No   \n",
       "4           No    Steady        No          No           No            No   \n",
       "5           No        No        No          No           No            No   \n",
       "6       Steady        No        No          No           No            No   \n",
       "7           No        No    Steady          No           No            No   \n",
       "8           No    Steady        No          No           No            No   \n",
       "9           No        No        No          No           No        Steady   \n",
       "10          No        No        No          No           No            No   \n",
       "\n",
       "   acarbose miglitol tolazamide insulin glyburide-metformin  \\\n",
       "1        No       No         No      Up                  No   \n",
       "2        No       No         No      No                  No   \n",
       "3        No       No         No      Up                  No   \n",
       "4        No       No         No  Steady                  No   \n",
       "5        No       No         No  Steady                  No   \n",
       "6        No       No         No  Steady                  No   \n",
       "7        No       No         No      No                  No   \n",
       "8        No       No         No  Steady                  No   \n",
       "9        No       No         No  Steady                  No   \n",
       "10       No       No         No  Steady                  No   \n",
       "\n",
       "   glipizide-metformin change diabetesMed readmitted  number_visits  \n",
       "1                   No     Ch         Yes        >30              0  \n",
       "2                   No     No         Yes         NO              3  \n",
       "3                   No     Ch         Yes         NO              0  \n",
       "4                   No     Ch         Yes         NO              0  \n",
       "5                   No     No         Yes        >30              0  \n",
       "6                   No     Ch         Yes         NO              0  \n",
       "7                   No     No         Yes        >30              0  \n",
       "8                   No     Ch         Yes         NO              0  \n",
       "9                   No     Ch         Yes         NO              0  \n",
       "10                  No     No         Yes        >30              0  "
      ]
     },
     "execution_count": 162,
     "metadata": {},
     "output_type": "execute_result"
    }
   ],
   "source": [
    "diabetes.head(10)"
   ]
  },
  {
   "cell_type": "code",
   "execution_count": 163,
   "id": "ecd54d85-1d3b-4866-b139-78e6d6ad678b",
   "metadata": {},
   "outputs": [],
   "source": [
    "drug_columns = [\"metformin\", \"repaglinide\", \"nateglinide\", \"chlorpropamide\", \n",
    "                \"glimepiride\", \"glipizide\", \"glyburide\", \"tolbutamide\",\n",
    "                \"pioglitazone\", \"rosiglitazone\", \"acarbose\",\"miglitol\", \n",
    "                \"tolazamide\", \"insulin\", \"glyburide-metformin\" , \"glipizide-metformin\"]\n"
   ]
  },
  {
   "cell_type": "code",
   "execution_count": 164,
   "id": "3ae477cd-e2a4-46a0-b214-7c634cb96b4e",
   "metadata": {},
   "outputs": [],
   "source": [
    "def drug_column_map(value):\n",
    "    if value == \"No\":\n",
    "        return 0\n",
    "    if value == \"Steady\" or value == \"Up\" or value == \"Down\":\n",
    "        return 1"
   ]
  },
  {
   "cell_type": "code",
   "execution_count": 165,
   "id": "8e283e15-c1b1-4680-bb73-456d9db4a24d",
   "metadata": {},
   "outputs": [],
   "source": [
    "for col in drug_columns:\n",
    "    diabetes[col] = diabetes[col].map(drug_column_map)"
   ]
  },
  {
   "cell_type": "code",
   "execution_count": 166,
   "id": "2af6ff27-c174-4a03-9df2-ff1c3e096eb9",
   "metadata": {},
   "outputs": [
    {
     "name": "stdout",
     "output_type": "stream",
     "text": [
      "metformin [0 1]\n",
      "repaglinide [0 1]\n",
      "nateglinide [0 1]\n",
      "chlorpropamide [0 1]\n",
      "glimepiride [0 1]\n",
      "glipizide [0 1]\n",
      "glyburide [0 1]\n",
      "tolbutamide [0 1]\n",
      "pioglitazone [0 1]\n",
      "rosiglitazone [0 1]\n",
      "acarbose [0 1]\n",
      "miglitol [0 1]\n",
      "tolazamide [0 1]\n",
      "insulin [1 0]\n",
      "glyburide-metformin [0 1]\n",
      "glipizide-metformin [0 1]\n"
     ]
    }
   ],
   "source": [
    "for col in drug_columns:\n",
    "    print(col ,diabetes[col].unique())"
   ]
  },
  {
   "cell_type": "markdown",
   "id": "1bf54623-ba21-4b75-ba14-cd437073aec9",
   "metadata": {},
   "source": [
    "* Se observa que ahora todas las columnas de medicamentos solo cuentan con el valor 0 o 1"
   ]
  },
  {
   "cell_type": "markdown",
   "id": "9a4881be-34c3-483a-b087-d3e6c091daa9",
   "metadata": {},
   "source": [
    "#### Convertir variables categóricas a variables numéricas\n",
    "Las columnas de raza, género,  diagnosticos, change , diabetes_med , max_glu_serum y A1Cresult  serán cambiadas para que representen variables numéricas"
   ]
  },
  {
   "cell_type": "markdown",
   "id": "1fad4061-ea92-4e31-abb3-32a7f1988d90",
   "metadata": {},
   "source": [
    "##### Raza\n"
   ]
  },
  {
   "cell_type": "code",
   "execution_count": 167,
   "id": "def75e4a-46c8-4d55-88ba-4ea59a51eaef",
   "metadata": {},
   "outputs": [
    {
     "data": {
      "text/plain": [
       "Caucasian          52842\n",
       "AfricanAmerican    12665\n",
       "Hispanic            1477\n",
       "Other               1160\n",
       "Asian                485\n",
       "Name: race, dtype: int64"
      ]
     },
     "execution_count": 167,
     "metadata": {},
     "output_type": "execute_result"
    }
   ],
   "source": [
    "diabetes.race.value_counts()"
   ]
  },
  {
   "cell_type": "markdown",
   "id": "9cac233b-5796-445f-8b58-7e719b6f8314",
   "metadata": {},
   "source": [
    "* Se observa que los valores Hispanic, Other y Asian son reducidos comparados con Caucasian y AfricanAmerican, por lo que se juntaran estos 3 en una sola variable"
   ]
  },
  {
   "cell_type": "code",
   "execution_count": 168,
   "id": "4e346961-3f05-4d74-a138-80487bd33504",
   "metadata": {},
   "outputs": [],
   "source": [
    "race_map = {\n",
    "    \"Caucasian\": 1,\n",
    "    \"AfricanAmerican\": 2,\n",
    "    \"Hispanic\": 3,\n",
    "    \"Other\": 3,\n",
    "    \"Asian\": 3\n",
    "}"
   ]
  },
  {
   "cell_type": "code",
   "execution_count": 169,
   "id": "1e3df8c4-9c54-4832-b735-e7e516dfd469",
   "metadata": {},
   "outputs": [],
   "source": [
    "diabetes = diabetes.replace({\"race\": race_map})"
   ]
  },
  {
   "cell_type": "code",
   "execution_count": 170,
   "id": "33454054-ce1d-40d1-aa1a-2dd178ab46b8",
   "metadata": {},
   "outputs": [
    {
     "data": {
      "text/plain": [
       "1    52842\n",
       "2    12665\n",
       "3     3122\n",
       "Name: race, dtype: int64"
      ]
     },
     "execution_count": 170,
     "metadata": {},
     "output_type": "execute_result"
    }
   ],
   "source": [
    "diabetes.race.value_counts()"
   ]
  },
  {
   "cell_type": "markdown",
   "id": "8d2b8927-5f89-448d-869f-f54aa2005786",
   "metadata": {},
   "source": [
    "##### Género"
   ]
  },
  {
   "cell_type": "code",
   "execution_count": 171,
   "id": "533b8cb9-18a0-4bd6-b521-246bf3d48a22",
   "metadata": {},
   "outputs": [
    {
     "data": {
      "text/plain": [
       "Female    36582\n",
       "Male      32047\n",
       "Name: gender, dtype: int64"
      ]
     },
     "execution_count": 171,
     "metadata": {},
     "output_type": "execute_result"
    }
   ],
   "source": [
    "diabetes.gender.value_counts()"
   ]
  },
  {
   "cell_type": "code",
   "execution_count": 172,
   "id": "6de0b810-a9d8-4cd3-a9f2-3434e9b08619",
   "metadata": {},
   "outputs": [],
   "source": [
    "gender_map = {\n",
    "    \"Female\": 0,\n",
    "    \"Male\": 1,\n",
    "}"
   ]
  },
  {
   "cell_type": "code",
   "execution_count": 173,
   "id": "a67b8e52-c1e1-410e-afbe-3efd1d12a4c1",
   "metadata": {},
   "outputs": [],
   "source": [
    "diabetes = diabetes.replace({\"gender\": gender_map})"
   ]
  },
  {
   "cell_type": "code",
   "execution_count": 174,
   "id": "dbbacdd0-7bdb-4ebb-ad26-1d791d22ce7a",
   "metadata": {},
   "outputs": [
    {
     "data": {
      "text/plain": [
       "0    36582\n",
       "1    32047\n",
       "Name: gender, dtype: int64"
      ]
     },
     "execution_count": 174,
     "metadata": {},
     "output_type": "execute_result"
    }
   ],
   "source": [
    "diabetes.gender.value_counts()"
   ]
  },
  {
   "cell_type": "markdown",
   "id": "285f7a90-3dc4-4f4d-a71d-2892ffe50705",
   "metadata": {},
   "source": [
    "##### Change"
   ]
  },
  {
   "cell_type": "code",
   "execution_count": 175,
   "id": "b8a167b8-bf80-41a6-9a86-4f115e310c6f",
   "metadata": {},
   "outputs": [
    {
     "data": {
      "text/plain": [
       "No    37923\n",
       "Ch    30706\n",
       "Name: change, dtype: int64"
      ]
     },
     "execution_count": 175,
     "metadata": {},
     "output_type": "execute_result"
    }
   ],
   "source": [
    "diabetes.change.value_counts()"
   ]
  },
  {
   "cell_type": "code",
   "execution_count": 176,
   "id": "ca79aa61-88fb-4874-bdae-7f60e11ff89f",
   "metadata": {},
   "outputs": [],
   "source": [
    "change_map = {\n",
    "    \"No\": 0,\n",
    "    \"Ch\": 1,\n",
    "}"
   ]
  },
  {
   "cell_type": "code",
   "execution_count": 177,
   "id": "e6dbd927-9fb9-418a-aab3-8d7e65f2c9c9",
   "metadata": {},
   "outputs": [],
   "source": [
    "diabetes = diabetes.replace({\"change\": change_map})"
   ]
  },
  {
   "cell_type": "code",
   "execution_count": 178,
   "id": "9a576448-8a07-4f12-b253-9113589a923c",
   "metadata": {},
   "outputs": [
    {
     "data": {
      "text/plain": [
       "0    37923\n",
       "1    30706\n",
       "Name: change, dtype: int64"
      ]
     },
     "execution_count": 178,
     "metadata": {},
     "output_type": "execute_result"
    }
   ],
   "source": [
    "diabetes.change.value_counts()"
   ]
  },
  {
   "cell_type": "markdown",
   "id": "fa8c3e98-eceb-4b7e-a44a-ded8515a1526",
   "metadata": {},
   "source": [
    "##### DiabetesMed"
   ]
  },
  {
   "cell_type": "code",
   "execution_count": 179,
   "id": "b3303f64-aa3c-444a-bfab-20b338943592",
   "metadata": {},
   "outputs": [
    {
     "data": {
      "text/plain": [
       "Yes    52002\n",
       "No     16627\n",
       "Name: diabetesMed, dtype: int64"
      ]
     },
     "execution_count": 179,
     "metadata": {},
     "output_type": "execute_result"
    }
   ],
   "source": [
    "diabetes.diabetesMed.value_counts()"
   ]
  },
  {
   "cell_type": "code",
   "execution_count": 180,
   "id": "a707b276-7d63-41c4-8a7a-165e6e2a6ab6",
   "metadata": {},
   "outputs": [],
   "source": [
    "diabetes_med_map = {\n",
    "    \"No\": 0,\n",
    "    \"Yes\": 1,\n",
    "}"
   ]
  },
  {
   "cell_type": "code",
   "execution_count": 181,
   "id": "46fda540-3110-496f-801d-58c80f18943a",
   "metadata": {},
   "outputs": [],
   "source": [
    "diabetes = diabetes.replace({\"diabetesMed\": diabetes_med_map})"
   ]
  },
  {
   "cell_type": "code",
   "execution_count": 182,
   "id": "e5abc621-a02e-429c-a677-46df9fe2a707",
   "metadata": {},
   "outputs": [
    {
     "data": {
      "text/plain": [
       "1    52002\n",
       "0    16627\n",
       "Name: diabetesMed, dtype: int64"
      ]
     },
     "execution_count": 182,
     "metadata": {},
     "output_type": "execute_result"
    }
   ],
   "source": [
    "diabetes.diabetesMed.value_counts()"
   ]
  },
  {
   "cell_type": "markdown",
   "id": "d7701795-cf98-4b97-9568-295c4330c431",
   "metadata": {},
   "source": [
    "##### Maxima glucosa "
   ]
  },
  {
   "cell_type": "code",
   "execution_count": 183,
   "id": "ecd2f766-27bd-4186-a6a9-ac7b7312ef00",
   "metadata": {},
   "outputs": [
    {
     "data": {
      "text/plain": [
       "None    65270\n",
       "Norm     1686\n",
       ">200      939\n",
       ">300      734\n",
       "Name: max_glu_serum, dtype: int64"
      ]
     },
     "execution_count": 183,
     "metadata": {},
     "output_type": "execute_result"
    }
   ],
   "source": [
    "diabetes.max_glu_serum.value_counts()"
   ]
  },
  {
   "cell_type": "markdown",
   "id": "1199d10f-2d4b-4f2a-87b3-89bb163a46c4",
   "metadata": {},
   "source": [
    "* Se definiran 3 variables, no tomada (-99 para que el peso en el modelo sea menor), \"normal\" (0) y fuera de lo normal (1)"
   ]
  },
  {
   "cell_type": "code",
   "execution_count": 184,
   "id": "ca74e76d-30e5-489c-ae63-a6a1df847683",
   "metadata": {},
   "outputs": [],
   "source": [
    "max_glu_serum_map = {\n",
    "    \"None\": -99,\n",
    "    \"Norm\": 0,\n",
    "    \">200\": 1,\n",
    "    \">300\": 1\n",
    "}"
   ]
  },
  {
   "cell_type": "code",
   "execution_count": 185,
   "id": "400aa3c4-81f3-4a74-839c-4b0696103b05",
   "metadata": {},
   "outputs": [],
   "source": [
    "diabetes = diabetes.replace({\"max_glu_serum\": max_glu_serum_map})"
   ]
  },
  {
   "cell_type": "code",
   "execution_count": 186,
   "id": "3bef31d2-a639-45f8-b1a4-7890afbfcf1e",
   "metadata": {},
   "outputs": [
    {
     "data": {
      "text/plain": [
       "-99    65270\n",
       " 0      1686\n",
       " 1      1673\n",
       "Name: max_glu_serum, dtype: int64"
      ]
     },
     "execution_count": 186,
     "metadata": {},
     "output_type": "execute_result"
    }
   ],
   "source": [
    "diabetes.max_glu_serum.value_counts()"
   ]
  },
  {
   "cell_type": "markdown",
   "id": "ac625667-a53d-4399-8834-f5f8f73c88fe",
   "metadata": {},
   "source": [
    "##### A1Cresult"
   ]
  },
  {
   "cell_type": "code",
   "execution_count": 187,
   "id": "69517bbe-e891-4c94-8887-9e5be8feb8c2",
   "metadata": {},
   "outputs": [
    {
     "data": {
      "text/plain": [
       "None    56348\n",
       ">8       5793\n",
       "Norm     3683\n",
       ">7       2805\n",
       "Name: A1Cresult, dtype: int64"
      ]
     },
     "execution_count": 187,
     "metadata": {},
     "output_type": "execute_result"
    }
   ],
   "source": [
    "diabetes.A1Cresult.value_counts()"
   ]
  },
  {
   "cell_type": "markdown",
   "id": "2cf332e8-5cf5-4795-b131-288fb3d82666",
   "metadata": {},
   "source": [
    "* Nuevamente se definiran 3 variables, no tomada (-99 para que el peso en el modelo sea menor), \"normal\" (0) y fuera de lo normal (1)"
   ]
  },
  {
   "cell_type": "code",
   "execution_count": 188,
   "id": "988d11a6-72c7-4b7c-b519-3ad098bb900c",
   "metadata": {},
   "outputs": [],
   "source": [
    "A1Cresult_map = {\n",
    "    \"None\": -99,\n",
    "    \"Norm\": 0,\n",
    "    \">8\": 1,\n",
    "    \">7\": 1\n",
    "}"
   ]
  },
  {
   "cell_type": "code",
   "execution_count": 189,
   "id": "5a709af3-9a6d-4a0e-9a2c-65a6ea5b44bd",
   "metadata": {},
   "outputs": [],
   "source": [
    "diabetes = diabetes.replace({\"A1Cresult\": A1Cresult_map})"
   ]
  },
  {
   "cell_type": "markdown",
   "id": "d1ea73aa-acea-43d2-9fda-2dc2b64ad82c",
   "metadata": {},
   "source": [
    "#### Columnas de diagnostico\n",
    "Para las columnas de diagnostico se hara uso de la libreria de SkLearn LabelEncoder\n"
   ]
  },
  {
   "cell_type": "code",
   "execution_count": 190,
   "id": "01ceb6b9-45fc-458e-a60c-c60a5fa30996",
   "metadata": {},
   "outputs": [],
   "source": [
    "cols_to_encode = [\"diag_1\", \"diag_2\", \"diag_3\"]"
   ]
  },
  {
   "cell_type": "code",
   "execution_count": 191,
   "id": "1ef1e7e4-39f3-41e5-bab7-769df48f1939",
   "metadata": {},
   "outputs": [],
   "source": [
    "# Se crea diccioanrio para guardar encoders. Para encode and decode features\n",
    "encoders = {}\n",
    "for col in cols_to_encode:\n",
    "    encoders[col] = LabelEncoder()\n",
    "    encoded_feature = encoders[col].fit_transform(diabetes[col].values)\n",
    "    diabetes[col] = encoded_feature"
   ]
  },
  {
   "cell_type": "code",
   "execution_count": 192,
   "id": "ce5013d8-cc02-443b-908c-ddd9ba2cd706",
   "metadata": {},
   "outputs": [
    {
     "name": "stdout",
     "output_type": "stream",
     "text": [
      "diag_1\n",
      "3     21183\n",
      "10     6982\n",
      "8      6520\n",
      "4      6176\n",
      "17     5353\n",
      "12     4563\n",
      "6      3888\n",
      "5      3392\n",
      "14     2637\n",
      "11     1764\n",
      "9      1719\n",
      "13     1458\n",
      "16      900\n",
      "7       849\n",
      "2       645\n",
      "0       559\n",
      "1        40\n",
      "15        1\n",
      "Name: diag_1, dtype: int64\n",
      "diag_2\n",
      "3     21620\n",
      "10    14475\n",
      "8      6596\n",
      "5      5070\n",
      "17     3141\n",
      "4      2674\n",
      "9      2164\n",
      "2      2055\n",
      "13     1779\n",
      "12     1777\n",
      "14     1711\n",
      "6      1256\n",
      "11     1243\n",
      "16     1181\n",
      "7       895\n",
      "15      563\n",
      "0       351\n",
      "1        78\n",
      "Name: diag_2, dtype: int64\n",
      "diag_3\n",
      "3     20541\n",
      "10    18778\n",
      "8      4362\n",
      "5      3840\n",
      "17     3063\n",
      "16     2568\n",
      "4      2434\n",
      "13     2108\n",
      "2      1726\n",
      "9      1508\n",
      "12     1397\n",
      "6      1337\n",
      "14     1245\n",
      "7      1234\n",
      "11     1233\n",
      "15      914\n",
      "0       269\n",
      "1        72\n",
      "Name: diag_3, dtype: int64\n"
     ]
    }
   ],
   "source": [
    "for col in  cols_to_encode:\n",
    "    print(col)\n",
    "    print(diabetes[col].value_counts())"
   ]
  },
  {
   "cell_type": "markdown",
   "id": "3d087f64-d523-4fb2-a461-271fbc451e36",
   "metadata": {},
   "source": [
    "##### Con esto se han convertido las variables categoricas de entrenamiento (falta el target)"
   ]
  },
  {
   "cell_type": "code",
   "execution_count": 193,
   "id": "57cd2ea5-8cc0-4ba4-b804-01c1a7374e69",
   "metadata": {},
   "outputs": [
    {
     "data": {
      "text/plain": [
       "race                         int64\n",
       "gender                       int64\n",
       "age                          int64\n",
       "admission_type_id            int64\n",
       "discharge_disposition_id     int64\n",
       "admission_source_id          int64\n",
       "time_in_hospital             int64\n",
       "num_lab_procedures           int64\n",
       "num_procedures               int64\n",
       "num_medications              int64\n",
       "diag_1                       int32\n",
       "diag_2                       int32\n",
       "diag_3                       int32\n",
       "number_diagnoses             int64\n",
       "max_glu_serum                int64\n",
       "A1Cresult                    int64\n",
       "metformin                    int64\n",
       "repaglinide                  int64\n",
       "nateglinide                  int64\n",
       "chlorpropamide               int64\n",
       "glimepiride                  int64\n",
       "glipizide                    int64\n",
       "glyburide                    int64\n",
       "tolbutamide                  int64\n",
       "pioglitazone                 int64\n",
       "rosiglitazone                int64\n",
       "acarbose                     int64\n",
       "miglitol                     int64\n",
       "tolazamide                   int64\n",
       "insulin                      int64\n",
       "glyburide-metformin          int64\n",
       "glipizide-metformin          int64\n",
       "change                       int64\n",
       "diabetesMed                  int64\n",
       "readmitted                  object\n",
       "number_visits                int64\n",
       "dtype: object"
      ]
     },
     "execution_count": 193,
     "metadata": {},
     "output_type": "execute_result"
    }
   ],
   "source": [
    "diabetes.dtypes"
   ]
  },
  {
   "cell_type": "code",
   "execution_count": 194,
   "id": "ee5b74b9-2567-4da3-b063-9e7214611848",
   "metadata": {},
   "outputs": [],
   "source": [
    "diabetes.diag_1 =diabetes.diag_1.astype('int64')\n",
    "diabetes.diag_2 =diabetes.diag_1.astype('int64')\n",
    "diabetes.diag_3 =diabetes.diag_1.astype('int64')"
   ]
  },
  {
   "cell_type": "code",
   "execution_count": 195,
   "id": "40f7cb8d-d349-471c-84aa-57c3dc002bb4",
   "metadata": {},
   "outputs": [
    {
     "data": {
      "text/plain": [
       "race                         int64\n",
       "gender                       int64\n",
       "age                          int64\n",
       "admission_type_id            int64\n",
       "discharge_disposition_id     int64\n",
       "admission_source_id          int64\n",
       "time_in_hospital             int64\n",
       "num_lab_procedures           int64\n",
       "num_procedures               int64\n",
       "num_medications              int64\n",
       "diag_1                       int64\n",
       "diag_2                       int64\n",
       "diag_3                       int64\n",
       "number_diagnoses             int64\n",
       "max_glu_serum                int64\n",
       "A1Cresult                    int64\n",
       "metformin                    int64\n",
       "repaglinide                  int64\n",
       "nateglinide                  int64\n",
       "chlorpropamide               int64\n",
       "glimepiride                  int64\n",
       "glipizide                    int64\n",
       "glyburide                    int64\n",
       "tolbutamide                  int64\n",
       "pioglitazone                 int64\n",
       "rosiglitazone                int64\n",
       "acarbose                     int64\n",
       "miglitol                     int64\n",
       "tolazamide                   int64\n",
       "insulin                      int64\n",
       "glyburide-metformin          int64\n",
       "glipizide-metformin          int64\n",
       "change                       int64\n",
       "diabetesMed                  int64\n",
       "readmitted                  object\n",
       "number_visits                int64\n",
       "dtype: object"
      ]
     },
     "execution_count": 195,
     "metadata": {},
     "output_type": "execute_result"
    }
   ],
   "source": [
    "diabetes.dtypes"
   ]
  },
  {
   "cell_type": "markdown",
   "id": "7edf0e23-0293-45da-9f7e-aa5e4e32fe6e",
   "metadata": {},
   "source": [
    "#### Convertir variable target a categórica\n",
    "Teniendo en cuenta la dimensión del problema, la aproximación que tomaré sera volverlo problema binario, para esto tomaré los valores de no readmitido y readmitido después de 30 días como uno solo, ya que me enfocaré en predecir si la persona tuvo que ser readmitida durante los primeros 30 días después de salir del hospital. Considero que esta forma de ver el problema simplifica la predicción, y me  da más información acerca de la eficiencia o ineficiencia del tratamiento aplicado\n"
   ]
  },
  {
   "cell_type": "code",
   "execution_count": 196,
   "id": "26efaf9c-fca8-4b49-980d-e915a475694a",
   "metadata": {},
   "outputs": [
    {
     "data": {
      "text/plain": [
       "NO     40879\n",
       ">30    21624\n",
       "<30     6126\n",
       "Name: readmitted, dtype: int64"
      ]
     },
     "execution_count": 196,
     "metadata": {},
     "output_type": "execute_result"
    }
   ],
   "source": [
    "diabetes.readmitted.value_counts()"
   ]
  },
  {
   "cell_type": "code",
   "execution_count": 197,
   "id": "e9831b34-4b1f-4fd4-9b88-04b07f2b8fa6",
   "metadata": {},
   "outputs": [],
   "source": [
    "Readmitedd_map = {\n",
    "    \"NO\": 0,\n",
    "    \">30\": 0,\n",
    "    \"<30\": 1\n",
    "\n",
    "}"
   ]
  },
  {
   "cell_type": "code",
   "execution_count": 198,
   "id": "34e68557-5814-4a7b-a3a2-1097656aba46",
   "metadata": {},
   "outputs": [],
   "source": [
    "diabetes = diabetes.replace({\"readmitted\": Readmitedd_map})"
   ]
  },
  {
   "cell_type": "code",
   "execution_count": 199,
   "id": "932990ec-b86a-48a4-b708-0b6959d5b01d",
   "metadata": {},
   "outputs": [
    {
     "data": {
      "text/plain": [
       "0    62503\n",
       "1     6126\n",
       "Name: readmitted, dtype: int64"
      ]
     },
     "execution_count": 199,
     "metadata": {},
     "output_type": "execute_result"
    }
   ],
   "source": [
    "diabetes.readmitted.value_counts()"
   ]
  },
  {
   "cell_type": "markdown",
   "id": "7c4abf1e-037d-47fa-bebb-b15de86411ae",
   "metadata": {},
   "source": [
    "### Gráficas Generales"
   ]
  },
  {
   "cell_type": "code",
   "execution_count": 200,
   "id": "9a8382e4-71db-4c19-a80d-88cb28308461",
   "metadata": {},
   "outputs": [
    {
     "data": {
      "text/plain": [
       "Text(0.5, 1.0, 'Distribución de valores de readmisión')"
      ]
     },
     "execution_count": 200,
     "metadata": {},
     "output_type": "execute_result"
    },
    {
     "data": {
      "image/png": "[encoded data removed]",
      "text/plain": [
       "<Figure size 432x288 with 1 Axes>"
      ]
     },
     "metadata": {
      "needs_background": "light"
     },
     "output_type": "display_data"
    }
   ],
   "source": [
    "sns.countplot(x=diabetes['readmitted'].map({\n",
    "  0: \"No Readmitido\",\n",
    "  1: \"Readmitido\"})).set_title('Distribución de valores de readmisión')"
   ]
  },
  {
   "cell_type": "markdown",
   "id": "715e11a8-5110-40c7-8200-76aeac13bcee",
   "metadata": {},
   "source": [
    "* Se observa que la proporción entre readmitidos y no readmitidos esta desbalanceada,por lo que se tendrá en cuenta al momento de entrenar el modelo"
   ]
  },
  {
   "cell_type": "code",
   "execution_count": 83,
   "id": "890e8525-d736-4748-b073-0ce389b0ac8e",
   "metadata": {},
   "outputs": [
    {
     "data": {
      "text/plain": [
       "Text(0.5, 1.0, 'Edad VS. Readmisión')"
      ]
     },
     "execution_count": 83,
     "metadata": {},
     "output_type": "execute_result"
    },
    {
     "data": {
      "image/png": "[encoded data removed]",
      "text/plain": [
       "<Figure size 1080x720 with 1 Axes>"
      ]
     },
     "metadata": {
      "needs_background": "light"
     },
     "output_type": "display_data"
    }
   ],
   "source": [
    "fig = plt.figure(figsize=(15,10))\n",
    "sns.countplot(y= diabetes['age'], hue = diabetes['readmitted']).set_title('Edad VS. Readmisión')"
   ]
  },
  {
   "cell_type": "markdown",
   "id": "231c61e3-3444-4000-bd92-dfc5c71de4ac",
   "metadata": {},
   "source": [
    "* Se observa que aunque el desbalanceo es marcado en la readmisión, los pacientes de la tercera edad tienen a tener una mayor readmisión, aunque esto puede deberse a que son los pacientes que más asisten a hospitales en primer lugar"
   ]
  },
  {
   "cell_type": "code",
   "execution_count": 84,
   "id": "b4489f16-4be7-4136-a11a-152a9b58a764",
   "metadata": {},
   "outputs": [
    {
     "data": {
      "text/plain": [
       "75    17642\n",
       "65    15414\n",
       "55    11999\n",
       "85    11247\n",
       "45     6530\n",
       "35     2526\n",
       "95     1841\n",
       "25     1009\n",
       "15      357\n",
       "5        64\n",
       "Name: age, dtype: int64"
      ]
     },
     "execution_count": 84,
     "metadata": {},
     "output_type": "execute_result"
    }
   ],
   "source": [
    "diabetes.age.value_counts()"
   ]
  },
  {
   "cell_type": "code",
   "execution_count": 85,
   "id": "2d5570ad-78f3-456a-9b63-5dceaaae7644",
   "metadata": {},
   "outputs": [
    {
     "data": {
      "text/plain": [
       "Text(0.5, 1.0, 'Raza VS. Readmisión')"
      ]
     },
     "execution_count": 85,
     "metadata": {},
     "output_type": "execute_result"
    },
    {
     "data": {
      "image/png": "[encoded data removed]",
      "text/plain": [
       "<Figure size 1080x720 with 1 Axes>"
      ]
     },
     "metadata": {
      "needs_background": "light"
     },
     "output_type": "display_data"
    }
   ],
   "source": [
    "fig = plt.figure(figsize=(15,10))\n",
    "\n",
    "sns.countplot(y= diabetes['race'].map( {\n",
    "    1: \"Caucasico\",\n",
    "    2: \"Afroamericano\",\n",
    "    3: \"Otros\"\n",
    "}), \n",
    "                hue = diabetes['readmitted']).set_title('Raza VS. Readmisión')"
   ]
  },
  {
   "cell_type": "markdown",
   "id": "238b9e79-5b15-4df0-aede-ba72f53dff87",
   "metadata": {},
   "source": [
    "* Se observa que los pacientes caucásicos son los que más son readmitidos, pero de nuevo esto puede podria adjudicarse al desbalanceo presente"
   ]
  },
  {
   "cell_type": "code",
   "execution_count": 86,
   "id": "3fa0befa-3c8a-47e1-a4a5-fd36c4eecc21",
   "metadata": {},
   "outputs": [
    {
     "data": {
      "text/plain": [
       "Text(0.5, 1.0, 'Genero vs Readmisión')"
      ]
     },
     "execution_count": 86,
     "metadata": {},
     "output_type": "execute_result"
    },
    {
     "data": {
      "image/png": "[encoded data removed]",
      "text/plain": [
       "<Figure size 576x576 with 1 Axes>"
      ]
     },
     "metadata": {
      "needs_background": "light"
     },
     "output_type": "display_data"
    }
   ],
   "source": [
    "fig = plt.figure(figsize=(8,8))\n",
    "sns.countplot(x = diabetes['gender'].map({\n",
    "    0: \"Female\",\n",
    "    1: \"Male\"\n",
    "}), hue = diabetes['readmitted']).set_title(\"Genero vs Readmisión\")"
   ]
  },
  {
   "cell_type": "markdown",
   "id": "4357a3df-8988-4dee-a3a2-4ea4f32e2117",
   "metadata": {},
   "source": [
    "* No parece haber una relación marcada que diferencie la readmisión entre hombres y mujeres"
   ]
  },
  {
   "cell_type": "code",
   "execution_count": 87,
   "id": "0fb9e4cb-c378-4dfd-bfa6-9242cbd92862",
   "metadata": {},
   "outputs": [
    {
     "data": {
      "text/plain": [
       "Text(0.5, 1.0, 'Cambio en medicación VS. Readmisión')"
      ]
     },
     "execution_count": 87,
     "metadata": {},
     "output_type": "execute_result"
    },
    {
     "data": {
      "image/png": "[encoded data removed]",
      "text/plain": [
       "<Figure size 576x576 with 1 Axes>"
      ]
     },
     "metadata": {
      "needs_background": "light"
     },
     "output_type": "display_data"
    }
   ],
   "source": [
    "fig = plt.figure(figsize=(8,8))\n",
    "sns.countplot(x = diabetes['change'].map({\n",
    "    0:\"No\",\n",
    "    1: \"Si\"\n",
    "}), hue = diabetes['readmitted']).set_title('Cambio en medicación VS. Readmisión')"
   ]
  },
  {
   "cell_type": "code",
   "execution_count": 88,
   "id": "629e6bdd-54ce-42cc-a575-ef873ded49c7",
   "metadata": {},
   "outputs": [
    {
     "data": {
      "text/plain": [
       "No    37923\n",
       "Si    30706\n",
       "Name: change, dtype: int64"
      ]
     },
     "execution_count": 88,
     "metadata": {},
     "output_type": "execute_result"
    }
   ],
   "source": [
    "diabetes.change.map({\n",
    "    0:\"No\",\n",
    "    1: \"Si\"\n",
    "}).value_counts()"
   ]
  },
  {
   "cell_type": "markdown",
   "id": "7d805476-d443-4373-b333-11b4b8a481b0",
   "metadata": {},
   "source": [
    "* Existe cierta tendencia a aumentar la readmisión en los casos donde no hay cambio de medicación, y se observa que el desbalanceo en las clases no es considerable"
   ]
  },
  {
   "cell_type": "markdown",
   "id": "4c65db15-d7cd-41d4-9ad6-251a8e130b35",
   "metadata": {},
   "source": [
    "## Modelado de datos"
   ]
  },
  {
   "cell_type": "markdown",
   "id": "3d549d56-7fca-4a1e-bc85-b04e85f65f50",
   "metadata": {},
   "source": [
    "Para este problema en primera instancia tendré en cuenta la divisón de la data, teniendo un 80% para entrenamiento y un 20% para testeo, pero también teniendo en cuenta el desbalanceo entre readmitidos y no readmitodos, por lo que se hara uso de la libreria SMOTE para hacer over sampling en el dataset"
   ]
  },
  {
   "cell_type": "markdown",
   "id": "316ce589-005c-4329-a0f5-39f2ce4cde07",
   "metadata": {},
   "source": [
    "Lo primero que quiero abordar es el desbalanceo de datos presente"
   ]
  },
  {
   "cell_type": "code",
   "execution_count": 91,
   "id": "7908abb6-f81a-436f-b96c-b6cb02f5218c",
   "metadata": {},
   "outputs": [
    {
     "data": {
      "text/plain": [
       "0    62503\n",
       "1     6126\n",
       "Name: readmitted, dtype: int64"
      ]
     },
     "execution_count": 91,
     "metadata": {},
     "output_type": "execute_result"
    }
   ],
   "source": [
    "diabetes.readmitted.value_counts()"
   ]
  },
  {
   "cell_type": "markdown",
   "id": "a72d541b-40ff-403e-b26a-c348d9ff74ec",
   "metadata": {},
   "source": [
    "Se observa que la proporción es aproximadamente 10:1 de no readmitidos contra readmitidos, por lo que se hará uso de una librería encargada de tratar con este desbalanceo, SMOTE"
   ]
  },
  {
   "cell_type": "code",
   "execution_count": 92,
   "id": "eb0df1de-b359-4b2d-b15e-c1d2c0884b8d",
   "metadata": {},
   "outputs": [],
   "source": [
    "over_sampling = SMOTE(random_state=42)\n",
    "X, y = over_sampling.fit_resample(diabetes.drop(columns=\"readmitted\"), diabetes.readmitted)"
   ]
  },
  {
   "cell_type": "code",
   "execution_count": 93,
   "id": "dbc23410-a74d-406b-a753-b9d4c0337ade",
   "metadata": {},
   "outputs": [],
   "source": [
    "X_train, X_test, y_train, y_test = train_test_split(\n",
    "    X,\n",
    "    y,\n",
    "    test_size=0.2,\n",
    "    random_state=42,\n",
    "    stratify=y\n",
    ")"
   ]
  },
  {
   "cell_type": "markdown",
   "id": "b1ba4cfb-fad7-4da5-8b30-1cadbaa2bb5a",
   "metadata": {},
   "source": [
    "### Aplicación de Modelos\n"
   ]
  },
  {
   "cell_type": "markdown",
   "id": "a919ceb9",
   "metadata": {},
   "source": [
    "Se crea un dataframe de pandas, en el cual tendré el nombre de cada modelo, su accuracy, recall, y precission, para comparar con los modelos básicos, y escoger el modelo que otorgue el mejor ajuste para realizar un proceso de grid search y cross validation"
   ]
  },
  {
   "cell_type": "code",
   "execution_count": 105,
   "id": "1aecd018-09cd-455b-a20b-8561e5395121",
   "metadata": {},
   "outputs": [],
   "source": [
    "model_comparator_df = pd.DataFrame(columns = ['Nombre Modelo', 'Accuracy', 'Recall', \"Precision\"])"
   ]
  },
  {
   "cell_type": "markdown",
   "id": "68686691",
   "metadata": {},
   "source": []
  },
  {
   "cell_type": "code",
   "execution_count": 96,
   "id": "ff8464e9-1fd8-452a-b99e-17082a558f4d",
   "metadata": {},
   "outputs": [],
   "source": [
    "def basic_model_fitting(model, name):\n",
    "    global model_comparator_df\n",
    "    model.fit(X_train, y_train)\n",
    "    y_pred = model.predict(X_test)\n",
    "    print(f\"Metricas para el modelo {name}\")\n",
    "    print(accuracy_score(y_test, y_pred))\n",
    "    print(recall_score(y_test, y_pred))\n",
    "    print(precision_score(y_test, y_pred))\n",
    "    model_comparator_df = model_comparator_df.append({'Nombre Modelo' : name, 'Accuracy' : accuracy_score(y_test, y_pred), 'Recall' : recall_score(y_test, y_pred), \"Precision\": precision_score(y_test, y_pred)}, \n",
    "                ignore_index = True)\n",
    "    print(\"- -\"*30)\n",
    "    "
   ]
  },
  {
   "cell_type": "code",
   "execution_count": 97,
   "id": "434d0610-3a38-4c3b-835c-dc02017c7c0b",
   "metadata": {},
   "outputs": [],
   "source": [
    "modelList = [\n",
    "    [DecisionTreeClassifier(), \"Arbol\"],\n",
    "    [AdaBoostClassifier(), \"AdaBoost\"],\n",
    "    [GradientBoostingClassifier(), \"Gradient Boost\"],\n",
    "    [KNeighborsClassifier(), \"KNN\"],\n",
    "    [RandomForestClassifier(), \"Random Forest\"]\n",
    "]"
   ]
  },
  {
   "cell_type": "code",
   "execution_count": 107,
   "id": "9f10211a-9375-4479-a284-ee023c2d5763",
   "metadata": {},
   "outputs": [
    {
     "name": "stdout",
     "output_type": "stream",
     "text": [
      "Metricas para el modelo Arbol\n",
      "0.8280537556995441\n",
      "0.8660107191424686\n",
      "0.804907063197026\n",
      "- -- -- -- -- -- -- -- -- -- -- -- -- -- -- -- -- -- -- -- -- -- -- -- -- -- -- -- -- -- -\n",
      "Metricas para el modelo AdaBoost\n",
      "0.7530997520198384\n",
      "0.7904967602591793\n",
      "0.7354867520095266\n",
      "- -- -- -- -- -- -- -- -- -- -- -- -- -- -- -- -- -- -- -- -- -- -- -- -- -- -- -- -- -- -\n",
      "Metricas para el modelo Gradient Boost\n",
      "0.7652187824974002\n",
      "0.7822574194064474\n",
      "0.7564786880173281\n",
      "- -- -- -- -- -- -- -- -- -- -- -- -- -- -- -- -- -- -- -- -- -- -- -- -- -- -- -- -- -- -\n",
      "Metricas para el modelo KNN\n",
      "0.8245740340772738\n",
      "0.9915206783457323\n",
      "0.7433283358320839\n",
      "- -- -- -- -- -- -- -- -- -- -- -- -- -- -- -- -- -- -- -- -- -- -- -- -- -- -- -- -- -- -\n",
      "Metricas para el modelo Random Forest\n",
      "0.8998080153587713\n",
      "0.896328293736501\n",
      "0.902609956500725\n",
      "- -- -- -- -- -- -- -- -- -- -- -- -- -- -- -- -- -- -- -- -- -- -- -- -- -- -- -- -- -- -\n"
     ]
    }
   ],
   "source": [
    "for model in modelList:\n",
    "    basic_model_fitting(model[0], model[1])"
   ]
  },
  {
   "cell_type": "code",
   "execution_count": 108,
   "id": "270c4f4f-3dc2-4ab4-bb70-031f2a096b50",
   "metadata": {},
   "outputs": [
    {
     "data": {
      "text/html": [
       "<div>\n",
       "<style scoped>\n",
       "    .dataframe tbody tr th:only-of-type {\n",
       "        vertical-align: middle;\n",
       "    }\n",
       "\n",
       "    .dataframe tbody tr th {\n",
       "        vertical-align: top;\n",
       "    }\n",
       "\n",
       "    .dataframe thead th {\n",
       "        text-align: right;\n",
       "    }\n",
       "</style>\n",
       "<table border=\"1\" class=\"dataframe\">\n",
       "  <thead>\n",
       "    <tr style=\"text-align: right;\">\n",
       "      <th></th>\n",
       "      <th>Nombre Modelo</th>\n",
       "      <th>Accuracy</th>\n",
       "      <th>Recall</th>\n",
       "      <th>Precision</th>\n",
       "    </tr>\n",
       "  </thead>\n",
       "  <tbody>\n",
       "    <tr>\n",
       "      <th>0</th>\n",
       "      <td>Arbol</td>\n",
       "      <td>0.828054</td>\n",
       "      <td>0.866011</td>\n",
       "      <td>0.804907</td>\n",
       "    </tr>\n",
       "    <tr>\n",
       "      <th>1</th>\n",
       "      <td>AdaBoost</td>\n",
       "      <td>0.753100</td>\n",
       "      <td>0.790497</td>\n",
       "      <td>0.735487</td>\n",
       "    </tr>\n",
       "    <tr>\n",
       "      <th>2</th>\n",
       "      <td>Gradient Boost</td>\n",
       "      <td>0.765219</td>\n",
       "      <td>0.782257</td>\n",
       "      <td>0.756479</td>\n",
       "    </tr>\n",
       "    <tr>\n",
       "      <th>3</th>\n",
       "      <td>KNN</td>\n",
       "      <td>0.824574</td>\n",
       "      <td>0.991521</td>\n",
       "      <td>0.743328</td>\n",
       "    </tr>\n",
       "    <tr>\n",
       "      <th>4</th>\n",
       "      <td>Random Forest</td>\n",
       "      <td>0.899808</td>\n",
       "      <td>0.896328</td>\n",
       "      <td>0.902610</td>\n",
       "    </tr>\n",
       "  </tbody>\n",
       "</table>\n",
       "</div>"
      ],
      "text/plain": [
       "    Nombre Modelo  Accuracy    Recall  Precision\n",
       "0           Arbol  0.828054  0.866011   0.804907\n",
       "1        AdaBoost  0.753100  0.790497   0.735487\n",
       "2  Gradient Boost  0.765219  0.782257   0.756479\n",
       "3             KNN  0.824574  0.991521   0.743328\n",
       "4   Random Forest  0.899808  0.896328   0.902610"
      ]
     },
     "execution_count": 108,
     "metadata": {},
     "output_type": "execute_result"
    }
   ],
   "source": [
    "model_comparator_df"
   ]
  },
  {
   "cell_type": "code",
   "execution_count": 109,
   "id": "d9c3f0f1-2782-41e1-89a2-eec9d79f7230",
   "metadata": {},
   "outputs": [],
   "source": [
    "# Se rota el dataset de tal manera que se puede agrupar por metrica, para asi observar el comportamiento de cada modelo\n",
    "df_melted = pd.melt(model_comparator_df, id_vars=\"Nombre Modelo\", var_name=\"Metrica\", value_name=\"Valor\")"
   ]
  },
  {
   "cell_type": "code",
   "execution_count": 110,
   "id": "ca24fb7b",
   "metadata": {},
   "outputs": [
    {
     "data": {
      "text/html": [
       "<div>\n",
       "<style scoped>\n",
       "    .dataframe tbody tr th:only-of-type {\n",
       "        vertical-align: middle;\n",
       "    }\n",
       "\n",
       "    .dataframe tbody tr th {\n",
       "        vertical-align: top;\n",
       "    }\n",
       "\n",
       "    .dataframe thead th {\n",
       "        text-align: right;\n",
       "    }\n",
       "</style>\n",
       "<table border=\"1\" class=\"dataframe\">\n",
       "  <thead>\n",
       "    <tr style=\"text-align: right;\">\n",
       "      <th></th>\n",
       "      <th>Nombre Modelo</th>\n",
       "      <th>Metrica</th>\n",
       "      <th>Valor</th>\n",
       "    </tr>\n",
       "  </thead>\n",
       "  <tbody>\n",
       "    <tr>\n",
       "      <th>0</th>\n",
       "      <td>Arbol</td>\n",
       "      <td>Accuracy</td>\n",
       "      <td>0.828054</td>\n",
       "    </tr>\n",
       "    <tr>\n",
       "      <th>1</th>\n",
       "      <td>AdaBoost</td>\n",
       "      <td>Accuracy</td>\n",
       "      <td>0.753100</td>\n",
       "    </tr>\n",
       "    <tr>\n",
       "      <th>2</th>\n",
       "      <td>Gradient Boost</td>\n",
       "      <td>Accuracy</td>\n",
       "      <td>0.765219</td>\n",
       "    </tr>\n",
       "    <tr>\n",
       "      <th>3</th>\n",
       "      <td>KNN</td>\n",
       "      <td>Accuracy</td>\n",
       "      <td>0.824574</td>\n",
       "    </tr>\n",
       "    <tr>\n",
       "      <th>4</th>\n",
       "      <td>Random Forest</td>\n",
       "      <td>Accuracy</td>\n",
       "      <td>0.899808</td>\n",
       "    </tr>\n",
       "    <tr>\n",
       "      <th>5</th>\n",
       "      <td>Arbol</td>\n",
       "      <td>Recall</td>\n",
       "      <td>0.866011</td>\n",
       "    </tr>\n",
       "    <tr>\n",
       "      <th>6</th>\n",
       "      <td>AdaBoost</td>\n",
       "      <td>Recall</td>\n",
       "      <td>0.790497</td>\n",
       "    </tr>\n",
       "    <tr>\n",
       "      <th>7</th>\n",
       "      <td>Gradient Boost</td>\n",
       "      <td>Recall</td>\n",
       "      <td>0.782257</td>\n",
       "    </tr>\n",
       "    <tr>\n",
       "      <th>8</th>\n",
       "      <td>KNN</td>\n",
       "      <td>Recall</td>\n",
       "      <td>0.991521</td>\n",
       "    </tr>\n",
       "    <tr>\n",
       "      <th>9</th>\n",
       "      <td>Random Forest</td>\n",
       "      <td>Recall</td>\n",
       "      <td>0.896328</td>\n",
       "    </tr>\n",
       "    <tr>\n",
       "      <th>10</th>\n",
       "      <td>Arbol</td>\n",
       "      <td>Precision</td>\n",
       "      <td>0.804907</td>\n",
       "    </tr>\n",
       "    <tr>\n",
       "      <th>11</th>\n",
       "      <td>AdaBoost</td>\n",
       "      <td>Precision</td>\n",
       "      <td>0.735487</td>\n",
       "    </tr>\n",
       "    <tr>\n",
       "      <th>12</th>\n",
       "      <td>Gradient Boost</td>\n",
       "      <td>Precision</td>\n",
       "      <td>0.756479</td>\n",
       "    </tr>\n",
       "    <tr>\n",
       "      <th>13</th>\n",
       "      <td>KNN</td>\n",
       "      <td>Precision</td>\n",
       "      <td>0.743328</td>\n",
       "    </tr>\n",
       "    <tr>\n",
       "      <th>14</th>\n",
       "      <td>Random Forest</td>\n",
       "      <td>Precision</td>\n",
       "      <td>0.902610</td>\n",
       "    </tr>\n",
       "  </tbody>\n",
       "</table>\n",
       "</div>"
      ],
      "text/plain": [
       "     Nombre Modelo    Metrica     Valor\n",
       "0            Arbol   Accuracy  0.828054\n",
       "1         AdaBoost   Accuracy  0.753100\n",
       "2   Gradient Boost   Accuracy  0.765219\n",
       "3              KNN   Accuracy  0.824574\n",
       "4    Random Forest   Accuracy  0.899808\n",
       "5            Arbol     Recall  0.866011\n",
       "6         AdaBoost     Recall  0.790497\n",
       "7   Gradient Boost     Recall  0.782257\n",
       "8              KNN     Recall  0.991521\n",
       "9    Random Forest     Recall  0.896328\n",
       "10           Arbol  Precision  0.804907\n",
       "11        AdaBoost  Precision  0.735487\n",
       "12  Gradient Boost  Precision  0.756479\n",
       "13             KNN  Precision  0.743328\n",
       "14   Random Forest  Precision  0.902610"
      ]
     },
     "execution_count": 110,
     "metadata": {},
     "output_type": "execute_result"
    }
   ],
   "source": [
    "df_melted"
   ]
  },
  {
   "cell_type": "code",
   "execution_count": 101,
   "id": "9ca35041-25c7-4799-b636-3ddb4f8a398e",
   "metadata": {},
   "outputs": [
    {
     "data": {
      "text/plain": [
       "<seaborn.axisgrid.FacetGrid at 0x1bc8003ea00>"
      ]
     },
     "execution_count": 101,
     "metadata": {},
     "output_type": "execute_result"
    },
    {
     "data": {
      "image/png": "[encoded data removed]",
      "text/plain": [
       "<Figure size 441.75x360 with 1 Axes>"
      ]
     },
     "metadata": {
      "needs_background": "light"
     },
     "output_type": "display_data"
    }
   ],
   "source": [
    "sns.catplot(x='Nombre Modelo', y='Valor', hue='Metrica', data=df_melted, kind='bar')"
   ]
  },
  {
   "cell_type": "markdown",
   "id": "c26e4538",
   "metadata": {},
   "source": [
    "* Se observa que aunque el modelo e KNN presenta el mayor recall, el modelo de Random Forest presenta los valores mas consistentemente altos de Accuracy, Recall, Precission, por lo que se decide continuar con el modelo de Random Forest\n"
   ]
  },
  {
   "cell_type": "markdown",
   "id": "d7c04b02-04a1-44f0-994e-d2bf33c022cd",
   "metadata": {},
   "source": [
    "#### Random Forest"
   ]
  },
  {
   "cell_type": "code",
   "execution_count": 112,
   "id": "e85bdebf-ebbf-4d2b-b624-0cfb0312b1be",
   "metadata": {},
   "outputs": [
    {
     "data": {
      "text/plain": [
       "RandomForestClassifier(random_state=42)"
      ]
     },
     "execution_count": 112,
     "metadata": {},
     "output_type": "execute_result"
    }
   ],
   "source": [
    "rf_clf = RandomForestClassifier(random_state=42)\n",
    "\n",
    "rf_clf.fit(X_train, y_train)"
   ]
  },
  {
   "cell_type": "code",
   "execution_count": 113,
   "id": "3468208a-003f-4c7c-9990-e9d1087d0e87",
   "metadata": {},
   "outputs": [],
   "source": [
    "y_pred_rf = rf_clf.predict(X_test)"
   ]
  },
  {
   "cell_type": "code",
   "execution_count": 114,
   "id": "47e40e64-a857-4c2a-a485-80ce91a1f9ba",
   "metadata": {},
   "outputs": [
    {
     "name": "stdout",
     "output_type": "stream",
     "text": [
      "0.9030877529797616\n",
      "0.8982481401487881\n",
      "0.90702746365105\n"
     ]
    }
   ],
   "source": [
    "print(accuracy_score(y_test, y_pred_rf))\n",
    "print(recall_score(y_test, y_pred_rf))\n",
    "print(precision_score(y_test, y_pred_rf))"
   ]
  },
  {
   "cell_type": "markdown",
   "id": "45038978",
   "metadata": {},
   "source": [
    "Se hara uso de la libreria GridSearchCV, con la cual puedo probar el modelo con distintos parámetros y a la vez realizar un proceso de cross validation, en el cual haré una división del dataset en 5 partes, para asi asegurar que las metricas del modelo son constantes a traves de toda la data"
   ]
  },
  {
   "cell_type": "code",
   "execution_count": 120,
   "id": "c6bc0063",
   "metadata": {},
   "outputs": [],
   "source": [
    "# Parametros a utilizar\n",
    "param_grid = { \n",
    "    'n_estimators': [ 200, 400, 600],\n",
    "    'max_features': ['auto', 'sqrt', 'log2'],\n",
    "    'max_depth' : [5,6,7,8],\n",
    "    'criterion' :['gini', 'entropy']\n",
    "}"
   ]
  },
  {
   "cell_type": "code",
   "execution_count": 121,
   "id": "4489f6d3",
   "metadata": {},
   "outputs": [],
   "source": [
    "CV_rf_clf = GridSearchCV(estimator=rf_clf, param_grid=param_grid, cv= 5)"
   ]
  },
  {
   "cell_type": "code",
   "execution_count": 123,
   "id": "430a31ac",
   "metadata": {},
   "outputs": [
    {
     "data": {
      "text/plain": [
       "{'criterion': 'gini',\n",
       " 'max_depth': 8,\n",
       " 'max_features': 'auto',\n",
       " 'n_estimators': 400}"
      ]
     },
     "execution_count": 123,
     "metadata": {},
     "output_type": "execute_result"
    }
   ],
   "source": [
    "CV_rf_clf.best_params_"
   ]
  },
  {
   "cell_type": "markdown",
   "id": "9e4d53dd",
   "metadata": {},
   "source": [
    "Segun la busqueda realizada por el modelo de Grid Search CV, se tiene que los mejores parámetros son : \"Criterion\" :\"gini\",  'max_depth': 8, 'max_features': 'auto', 'n_estimators': 400. Con estas caracteristicas se construye un modelo nuevo de Random Forest"
   ]
  },
  {
   "cell_type": "code",
   "execution_count": 124,
   "id": "925e1002",
   "metadata": {},
   "outputs": [],
   "source": [
    "rf_improved_clf = RandomForestClassifier(random_state=42, max_features='auto', max_depth=8, criterion='gini', n_estimators=400)"
   ]
  },
  {
   "cell_type": "code",
   "execution_count": 126,
   "id": "e0ae6e22",
   "metadata": {},
   "outputs": [
    {
     "data": {
      "text/plain": [
       "RandomForestClassifier(max_depth=8, n_estimators=400, random_state=42)"
      ]
     },
     "execution_count": 126,
     "metadata": {},
     "output_type": "execute_result"
    }
   ],
   "source": [
    "rf_improved_clf.fit(X_train, y_train)"
   ]
  },
  {
   "cell_type": "code",
   "execution_count": 128,
   "id": "17476b1e",
   "metadata": {},
   "outputs": [],
   "source": [
    "y_pred_rf_improved = rf_improved_clf.predict(X_test)"
   ]
  },
  {
   "cell_type": "code",
   "execution_count": 129,
   "id": "062cbed4",
   "metadata": {},
   "outputs": [
    {
     "name": "stdout",
     "output_type": "stream",
     "text": [
      "0.7391008719302455\n",
      "0.7686585073194144\n",
      "0.7257552870090634\n"
     ]
    }
   ],
   "source": [
    "print(accuracy_score(y_test, y_pred_rf_improved))\n",
    "print(recall_score(y_test, y_pred_rf_improved))\n",
    "print(precision_score(y_test, y_pred_rf_improved))"
   ]
  },
  {
   "cell_type": "markdown",
   "id": "aedb36fa",
   "metadata": {},
   "source": [
    "Se observa que la busqueda con GridSearchCV no dió mejores resultados que el valor base de Random Forest, por lo que se mantiene el modelo base que se utilizó en la comparación inicial de modelos"
   ]
  },
  {
   "cell_type": "code",
   "execution_count": 131,
   "id": "3fd4ff6a",
   "metadata": {},
   "outputs": [
    {
     "name": "stdout",
     "output_type": "stream",
     "text": [
      "Metricas de modelo base de RF\n",
      "0.9030877529797616\n",
      "0.8982481401487881\n",
      "0.90702746365105\n"
     ]
    }
   ],
   "source": [
    "print('Metricas de modelo base de RF')\n",
    "print(accuracy_score(y_test, y_pred_rf))\n",
    "print(recall_score(y_test, y_pred_rf))\n",
    "print(precision_score(y_test, y_pred_rf))"
   ]
  },
  {
   "cell_type": "markdown",
   "id": "a34e4c53",
   "metadata": {},
   "source": [
    "Debido a esto se decide realizar una validación cruzada, dividiendo el dataset en 5 partes, y entrenando cada vez con 4 partes, para validar con la parte restante."
   ]
  },
  {
   "cell_type": "code",
   "execution_count": 139,
   "id": "374fe1a9",
   "metadata": {},
   "outputs": [],
   "source": [
    "scores = cross_val_score(rf_clf, X, y, cv=5)"
   ]
  },
  {
   "cell_type": "code",
   "execution_count": 141,
   "id": "a4031626",
   "metadata": {},
   "outputs": [
    {
     "data": {
      "text/plain": [
       "0.8821589313853252"
      ]
     },
     "execution_count": 141,
     "metadata": {},
     "output_type": "execute_result"
    }
   ],
   "source": [
    "scores.mean()"
   ]
  },
  {
   "cell_type": "markdown",
   "id": "13f34dca",
   "metadata": {},
   "source": [
    "Se encuentra que la precisión promedio del modelo se encuentra en el 88%, lo que se considera aceptable para el ejercicio"
   ]
  },
  {
   "cell_type": "markdown",
   "id": "093c1b9d",
   "metadata": {},
   "source": [
    "A continuación se realizará el calculo de la curva ROC par el modelo de Random Forest"
   ]
  },
  {
   "cell_type": "code",
   "execution_count": 133,
   "id": "6719220c",
   "metadata": {},
   "outputs": [],
   "source": [
    "y_proba = rf_clf.predict_proba(X_test)[:,1]\n"
   ]
  },
  {
   "cell_type": "code",
   "execution_count": 135,
   "id": "933e7749",
   "metadata": {},
   "outputs": [
    {
     "name": "stdout",
     "output_type": "stream",
     "text": [
      "Roc AUC Random Forest: 0.9582969159603459\n"
     ]
    }
   ],
   "source": [
    "print(\"Roc AUC Random Forest:\", roc_auc_score(y_test, rf_clf.predict_proba(X_test)[:,1],average='macro'))"
   ]
  },
  {
   "cell_type": "code",
   "execution_count": 136,
   "id": "fe3b4d3e",
   "metadata": {},
   "outputs": [
    {
     "data": {
      "image/png": "[encoded data removed]",
      "text/plain": [
       "<Figure size 432x288 with 1 Axes>"
      ]
     },
     "metadata": {
      "needs_background": "light"
     },
     "output_type": "display_data"
    }
   ],
   "source": [
    "fpr, tpr, thresholds = roc_curve(y_test, y_proba)\n",
    "plt.plot(fpr, tpr, label='random Forest ROC curve')\n",
    "plt.xlabel('False positive rate')\n",
    "plt.ylabel('True positive rate')\n",
    "plt.title('ROC curve')\n",
    "plt.legend(loc='best')\n",
    "plt.savefig('1.png')\n",
    "plt.show() "
   ]
  },
  {
   "cell_type": "markdown",
   "id": "0ebf9896",
   "metadata": {},
   "source": [
    "Con la curva de ROC se observa que al tomar el valor de ROC se obtiene un 0.95, el cual es un valor de test muy bueno segun la literatura, además en la curva se observa que el ratio de True Positive toma una forma de curva que indica que se tiene un modelo que se ajusta correctamente a los datos propuestos"
   ]
  },
  {
   "cell_type": "markdown",
   "id": "95129127",
   "metadata": {},
   "source": [
    "Por último se utilizaran las caracteristicas del modelo Random Forest para encontrar las variables que más describen el modelo"
   ]
  },
  {
   "cell_type": "code",
   "execution_count": 142,
   "id": "3aaaad18-a7c8-4295-ad8d-f54c95a61740",
   "metadata": {},
   "outputs": [],
   "source": [
    "important_features = pd.DataFrame(\n",
    "    {\n",
    "        \"feature\":X_train.columns,\n",
    "        \"importance\": rf_clf.feature_importances_\n",
    "    }\n",
    ")"
   ]
  },
  {
   "cell_type": "code",
   "execution_count": 143,
   "id": "1d778717-61cc-44aa-a8ae-bb0eb920140b",
   "metadata": {},
   "outputs": [],
   "source": [
    "important_features = important_features.sort_values(\"importance\", ascending=False)"
   ]
  },
  {
   "cell_type": "code",
   "execution_count": 144,
   "id": "39ebcb98-47df-4b4d-9224-e9a35221a084",
   "metadata": {},
   "outputs": [
    {
     "data": {
      "text/plain": [
       "<AxesSubplot:xlabel='importance', ylabel='feature'>"
      ]
     },
     "execution_count": 144,
     "metadata": {},
     "output_type": "execute_result"
    },
    {
     "data": {
      "image/png": "[encoded data removed]",
      "text/plain": [
       "<Figure size 864x1728 with 1 Axes>"
      ]
     },
     "metadata": {
      "needs_background": "light"
     },
     "output_type": "display_data"
    }
   ],
   "source": [
    "plt.figure(figsize=(12, 24))\n",
    "\n",
    "sns.barplot(x=\"importance\", y=\"feature\", data=important_features)"
   ]
  },
  {
   "cell_type": "code",
   "execution_count": 145,
   "id": "13676034-9b0a-412f-973b-5b6c570f1d91",
   "metadata": {},
   "outputs": [
    {
     "name": "stdout",
     "output_type": "stream",
     "text": [
      "A1Cresult\n",
      "19\n"
     ]
    }
   ],
   "source": [
    "importance = 0\n",
    "for i, row in enumerate(important_features.iterrows()):\n",
    "    importance += row[1].importance\n",
    "    if importance >= 0.90:\n",
    "        print(row[1].feature)\n",
    "        print(i)\n",
    "        break"
   ]
  },
  {
   "cell_type": "markdown",
   "id": "0b85d0d8-6f3e-4c58-8121-b1d3f605d695",
   "metadata": {},
   "source": [
    " Se observa con el modelo de random forest que el 90% de los datos son explicados con las primeras 20 columnas, que llegan hasta A1Cresult, siendo las características más descriptivas el número de procedimientos de laboratorio realizados, y el número de medicamentos que fueron administrados al usuario desde el encuentro"
   ]
  },
  {
   "cell_type": "markdown",
   "id": "e64fda6b",
   "metadata": {},
   "source": [
    "### CONCLUSIONES \n",
    "1. La limpieza de datos fue un proceso muy importante, ya que se observó que se tenian datos nulos representados por el valor \"?\", además de tener una columna con el 95% de datos faltantes, la columna de peso.\n",
    "<br/><br/>\n",
    "2. Las columnas de identificación, que cuentan con solo valores únicos, o aquellas columnas que contaban con un 99% de datos unicos y solo un 1% (o mucho menos) de un dato distinto, no son representativas para un modelo, por lo que se toma la decisión de eliminarlas del dataset, por otro lado, las columnas de medical_speciality y payer code, al tener más del 30% de datos faltantes, también son eliminadas del dataset.\n",
    "<br/><br/>\n",
    "3. El porcentaje de filas con datos nulos representaba menos de un 3% del dataset, y al tener una cantidad de datos mayor a 100.000 se considera que no vale la pena realizar un proceso de imputación, aunque en caso de hacerse, se hubiera realizado con el valor de la moda en el caso de la columna de raza, asi como tambien en las columnas de diagnostico, ya que no existia forma de utilizar promedios ni calculos en estas variables categóricas.\n",
    "<br/><br/>\n",
    "4. Se utiliza la información otorgada por el proveedor del dataset, para cambiar las columnas de diagnostico, con el objetivo de reducir la cantidad de clases de diagnostico posibles, y con esto darle al modelo una generalidad e interpretabilidad mayor basada en estas categoricas más generales del *ICD-9*.\n",
    "<br/><br/>\n",
    "5. Considero que el proceso de Feature Engineering es de suma importancia para cualquier ejercicio de Machine Learning y Data Science. En específico destaco las siguientes:\n",
    "\n",
    "  - Convertir la edad a un valor numérico, para asi el modelo sea mas diciente respecto al promedio de edad.\n",
    "  - Eliminar los duplicados por persona, para asi solo tener en cuenta la readmisión de cada paciente, y no que una actual readmisión entre al modelo\n",
    "  - Combinar variables categóricas en categorias más amplias, para asi aumentar la generalidad del dataset\n",
    "  - Definir el problema como un problema binario, ya que considero que estos tipos de problemas tienen soluciones más sencillas en el área del ML, y además la interpretación del problema me llevó a la conclusión de que una readmisión en los primeros 30 días es mi principal objetivo de predicción, por lo que juntar las otras dos variables en una sola me pareció viable\n",
    "<br/><br/>\n",
    "\n",
    "6. Se observa que el desbalanceo de datos es considerable, lo que tiene sentido, ya que una gran mayoría de pacientes no vuelve al hospital después de un tratamiento, teniendo en cuenta que la mayoría de casos constituyen tratamientos efectiso, o problemas leves médicos.\n",
    "<br/><br/>\n",
    "\n",
    "7. Se encuentran relaciones considerables entre la edad y la readmisión, donde los adultos mayores tienden a asistir más al hospital, por lo que su tasa de readmisión tiende también a aumentar. Por otro lado, se encuentra que el género es indiferente en la tasa de readmisión, o aporta muy poco al modelo final. Y se observa que las características como número de procedimientos y numero de cambios de medicación tienen una alta correlación con la tasa de readmisión.\n",
    "<br/><br/>\n",
    "8. En el modelado, se evaluan distintos modelos de clasificación generales, donde se encuentra que el Random Forest se ajusta de mejor manera al dataset creado, por lo que se decide hacer uso de este modelo como principal del ejecicio\n",
    "<br/><br/>\n",
    "\n",
    "9. Se encuentra que el modelo de random forest aplicado tiene una precisión del 88% (encontrado con proceso de validación cruzada), definiendo una curva ROC que representa a un modelo que se ajusta bien a los datos, sin tener problemas de overfitting. Considero que para el ejercicio propuesto es un modelo aceptable, que puede ser llevado más allá con más procesos de feature engineering, tal vez la combinación de variables existentes para crear nuevas, o el fine tunning de los parámetros del modelo, aunque en el proceso de grid search realizado no se encontró un modelo mejor al base (esto se puede deber a que los parámetros ingresados al grid no eran los adecuados, se podrían cambiar y buscar parámetros mejores, más cercanos al modelo base)."
   ]
  },
  {
   "cell_type": "markdown",
   "id": "2ea71439-0915-4412-a069-dc38c7feda12",
   "metadata": {},
   "source": [
    "### RECOMENDACIONES\n",
    "\n",
    "1. Sería interesante obtener los valores de la columna de peso, ya que considero que el peso de una persona puede ser un factor importante en su readmisión, por problemas de obesidad entre otros.\n",
    "<br></br>\n",
    "2. Como recomendación para tener en cuenta en los pacientes, se debería tener en cuenta a aquellos pacientes de edad avanzada que han tenido más cantidad de procedimientos y medicamentos aplicados, ya que darles de alta antes de tiempo puede causar el proceso de readmisión a corto plazo.\n",
    "<br></br>\n",
    "3. Los datos de medicamentos específicos podrian ser recopilados de manera más general, ya que no aportan considerablemente a la predicción de readmisión de un paciente"
   ]
  },
  {
   "cell_type": "markdown",
   "id": "91f3d1ae",
   "metadata": {},
   "source": [
    "#### Experiencia personal con el ejercicio\n",
    "\n",
    "Queria agradecerles por la oportunidad de participar en este proceso, espero este ejercicio sirva para demostrar que tengo las capacidades para tomar el cargo al que me encuentro postulado, me apasiona mucho el mundo de la información y el ML, y creo que sería una gran adición para su equipo, y ustedes una gran oportunidad para mi de crecimiento personal y laboral, reitero el agradecimiento y espero tengan un buen día."
   ]
  }
 ],
 "metadata": {
  "kernelspec": {
   "display_name": "Python 3",
   "language": "python",
   "name": "python3"
  },
  "language_info": {
   "codemirror_mode": {
    "name": "ipython",
    "version": 3
   },
   "file_extension": ".py",
   "mimetype": "text/x-python",
   "name": "python",
   "nbconvert_exporter": "python",
   "pygments_lexer": "ipython3",
   "version": "3.8.12"
  }
 },
 "nbformat": 4,
 "nbformat_minor": 5
}
